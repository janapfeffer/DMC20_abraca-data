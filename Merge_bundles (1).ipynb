{
  "nbformat": 4,
  "nbformat_minor": 0,
  "metadata": {
    "colab": {
      "name": "Merge_bundles.ipynb",
      "provenance": [],
      "collapsed_sections": []
    },
    "kernelspec": {
      "name": "python3",
      "display_name": "Python 3"
    }
  },
  "cells": [
    {
      "cell_type": "code",
      "metadata": {
        "id": "mBOgtHsxkWqQ",
        "colab_type": "code",
        "outputId": "5ad3bb10-a161-438a-b516-b7a8ab72ff70",
        "colab": {
          "base_uri": "https://localhost:8080/",
          "height": 187
        }
      },
      "source": [
        "from google.colab import drive\n",
        "drive.mount('/content/drive')\n",
        "!ls \"/content/drive/My Drive/DMC\"\n",
        "%cd /content/drive/My\\ Drive/DMC"
      ],
      "execution_count": 0,
      "outputs": [
        {
          "output_type": "stream",
          "text": [
            "Drive already mounted at /content/drive; to attempt to forcibly remount, call drive.mount(\"/content/drive\", force_remount=True).\n",
            " abraca-data.csv\t\t   Merge_bundles.ipynb\n",
            "'DMC .gdoc'\t\t\t   orders0206_test.csv\n",
            " DMC.ipynb\t\t\t   orders0206_train.csv\n",
            "'DMC presentation 05 12.gslides'   rules_0.00001.csv\n",
            " ex_items.csv\t\t\t   rules_0.00002.csv\n",
            " frequent_0.00001.csv\t\t   rules_0.00003.csv\n",
            " infos.csv\t\t\t   XGBoost.ipynb\n",
            " items.csv\t\t\t  'XGBoost variations.ipynb'\n",
            "/content/drive/My Drive/DMC\n"
          ],
          "name": "stdout"
        }
      ]
    },
    {
      "cell_type": "code",
      "metadata": {
        "id": "00RDgX0Zkv1h",
        "colab_type": "code",
        "colab": {}
      },
      "source": [
        "import pandas as pd"
      ],
      "execution_count": 0,
      "outputs": []
    },
    {
      "cell_type": "code",
      "metadata": {
        "id": "wCHydzObkm9z",
        "colab_type": "code",
        "colab": {}
      },
      "source": [
        "df_rules = pd.read_csv('rules_0.00001.csv', sep=',')"
      ],
      "execution_count": 0,
      "outputs": []
    },
    {
      "cell_type": "code",
      "metadata": {
        "id": "eZmYFN6ZvAy7",
        "colab_type": "code",
        "colab": {}
      },
      "source": [
        ""
      ],
      "execution_count": 0,
      "outputs": []
    },
    {
      "cell_type": "markdown",
      "metadata": {
        "id": "QWo5S5mhvH4Q",
        "colab_type": "text"
      },
      "source": [
        "### General code for merge bundles\n",
        "df_rules = pd.read_csv('rules_0.00001.csv', sep=',')\n",
        "df_rules['antecedents']= df_rules['antecedents'].str.replace('frozenset\\({|}\\)','')\n",
        "df_rules['consequents'] = df_rules['consequents'].str.replace('frozenset\\({|}\\)','')\n",
        "df_rules['itemID'] = df_rules['antecedents']\n",
        "train['itemID'] = (train['itemID']).astype('str')\n",
        "trainnew = pd.merge(train, df_rules, on='itemID', how='left')\n",
        "train['bundles'] = pd.notna(trainnew['support'])\n",
        "train['free_bundles'] = pd.notna(trainnew['support'])[trainnew['salesPrice'] == 0 ]\n",
        "train['free_bundles'] = train['free_bundles'].fillna(False)\n",
        "train['itemID'] = (train['itemID']).astype('int')"
      ]
    },
    {
      "cell_type": "markdown",
      "metadata": {
        "id": "8LkBe5kXvGGp",
        "colab_type": "text"
      },
      "source": [
        ""
      ]
    },
    {
      "cell_type": "code",
      "metadata": {
        "id": "CKTn2LEVqWEM",
        "colab_type": "code",
        "outputId": "4dc88f02-f753-480a-d6e0-e6fd611308f9",
        "colab": {
          "base_uri": "https://localhost:8080/",
          "height": 204
        }
      },
      "source": [
        "df_rules.head()"
      ],
      "execution_count": 0,
      "outputs": [
        {
          "output_type": "execute_result",
          "data": {
            "text/html": [
              "<div>\n",
              "<style scoped>\n",
              "    .dataframe tbody tr th:only-of-type {\n",
              "        vertical-align: middle;\n",
              "    }\n",
              "\n",
              "    .dataframe tbody tr th {\n",
              "        vertical-align: top;\n",
              "    }\n",
              "\n",
              "    .dataframe thead th {\n",
              "        text-align: right;\n",
              "    }\n",
              "</style>\n",
              "<table border=\"1\" class=\"dataframe\">\n",
              "  <thead>\n",
              "    <tr style=\"text-align: right;\">\n",
              "      <th></th>\n",
              "      <th>antecedents</th>\n",
              "      <th>consequents</th>\n",
              "      <th>antecedent support</th>\n",
              "      <th>consequent support</th>\n",
              "      <th>support</th>\n",
              "      <th>confidence</th>\n",
              "      <th>lift</th>\n",
              "      <th>leverage</th>\n",
              "      <th>conviction</th>\n",
              "    </tr>\n",
              "  </thead>\n",
              "  <tbody>\n",
              "    <tr>\n",
              "      <th>0</th>\n",
              "      <td>frozenset({4311})</td>\n",
              "      <td>frozenset({4310})</td>\n",
              "      <td>0.006223</td>\n",
              "      <td>0.006534</td>\n",
              "      <td>0.005720</td>\n",
              "      <td>0.919231</td>\n",
              "      <td>140.686081</td>\n",
              "      <td>0.005680</td>\n",
              "      <td>12.300056</td>\n",
              "    </tr>\n",
              "    <tr>\n",
              "      <th>1</th>\n",
              "      <td>frozenset({4310})</td>\n",
              "      <td>frozenset({4311})</td>\n",
              "      <td>0.006534</td>\n",
              "      <td>0.006223</td>\n",
              "      <td>0.005720</td>\n",
              "      <td>0.875458</td>\n",
              "      <td>140.686081</td>\n",
              "      <td>0.005680</td>\n",
              "      <td>7.979447</td>\n",
              "    </tr>\n",
              "    <tr>\n",
              "      <th>2</th>\n",
              "      <td>frozenset({4926})</td>\n",
              "      <td>frozenset({4918})</td>\n",
              "      <td>0.006869</td>\n",
              "      <td>0.005385</td>\n",
              "      <td>0.005241</td>\n",
              "      <td>0.763066</td>\n",
              "      <td>141.699698</td>\n",
              "      <td>0.005205</td>\n",
              "      <td>4.197860</td>\n",
              "    </tr>\n",
              "    <tr>\n",
              "      <th>3</th>\n",
              "      <td>frozenset({4918})</td>\n",
              "      <td>frozenset({4926})</td>\n",
              "      <td>0.005385</td>\n",
              "      <td>0.006869</td>\n",
              "      <td>0.005241</td>\n",
              "      <td>0.973333</td>\n",
              "      <td>141.699698</td>\n",
              "      <td>0.005205</td>\n",
              "      <td>37.242413</td>\n",
              "    </tr>\n",
              "    <tr>\n",
              "      <th>4</th>\n",
              "      <td>frozenset({4928})</td>\n",
              "      <td>frozenset({5041})</td>\n",
              "      <td>0.007372</td>\n",
              "      <td>0.006510</td>\n",
              "      <td>0.004859</td>\n",
              "      <td>0.659091</td>\n",
              "      <td>101.243148</td>\n",
              "      <td>0.004811</td>\n",
              "      <td>2.914237</td>\n",
              "    </tr>\n",
              "  </tbody>\n",
              "</table>\n",
              "</div>"
            ],
            "text/plain": [
              "         antecedents        consequents  ...  leverage  conviction\n",
              "0  frozenset({4311})  frozenset({4310})  ...  0.005680   12.300056\n",
              "1  frozenset({4310})  frozenset({4311})  ...  0.005680    7.979447\n",
              "2  frozenset({4926})  frozenset({4918})  ...  0.005205    4.197860\n",
              "3  frozenset({4918})  frozenset({4926})  ...  0.005205   37.242413\n",
              "4  frozenset({4928})  frozenset({5041})  ...  0.004811    2.914237\n",
              "\n",
              "[5 rows x 9 columns]"
            ]
          },
          "metadata": {
            "tags": []
          },
          "execution_count": 5
        }
      ]
    },
    {
      "cell_type": "code",
      "metadata": {
        "id": "4wb3PPmOkcP2",
        "colab_type": "code",
        "colab": {}
      },
      "source": [
        "df_train = pd.read_csv('orders0206_train.csv', sep='|', parse_dates=['time'])\n",
        "#df_test = pd.read_csv('orders_split/orders0206_test.csv', sep='|', parse_dates=['time'])\n",
        "df_info = pd.read_csv('infos.csv', sep='|', index_col='itemID')\n",
        "df_items = pd.read_csv('items.csv', sep='|', index_col='itemID')\n",
        "product_prices = df_info['simulationPrice'].to_dict()\n",
        "\n",
        "df_train_joined = df_train.join(df_info, on='itemID').join(df_items, on='itemID')"
      ],
      "execution_count": 0,
      "outputs": []
    },
    {
      "cell_type": "code",
      "metadata": {
        "id": "rkWCAYZVllsd",
        "colab_type": "code",
        "colab": {}
      },
      "source": [
        "df_rules['antecedents']= df_rules['antecedents'].str.replace('frozenset\\({|}\\)','')\n",
        "df_rules['consequents'] = df_rules['consequents'].str.replace('frozenset\\({|}\\)','')"
      ],
      "execution_count": 0,
      "outputs": []
    },
    {
      "cell_type": "code",
      "metadata": {
        "id": "FHZkwIANRN4T",
        "colab_type": "code",
        "outputId": "a4c89485-9fdd-49c5-b5a1-1b85c44b2363",
        "colab": {
          "base_uri": "https://localhost:8080/",
          "height": 204
        }
      },
      "source": [
        "df_rules.head()"
      ],
      "execution_count": 0,
      "outputs": [
        {
          "output_type": "execute_result",
          "data": {
            "text/html": [
              "<div>\n",
              "<style scoped>\n",
              "    .dataframe tbody tr th:only-of-type {\n",
              "        vertical-align: middle;\n",
              "    }\n",
              "\n",
              "    .dataframe tbody tr th {\n",
              "        vertical-align: top;\n",
              "    }\n",
              "\n",
              "    .dataframe thead th {\n",
              "        text-align: right;\n",
              "    }\n",
              "</style>\n",
              "<table border=\"1\" class=\"dataframe\">\n",
              "  <thead>\n",
              "    <tr style=\"text-align: right;\">\n",
              "      <th></th>\n",
              "      <th>antecedents</th>\n",
              "      <th>consequents</th>\n",
              "      <th>antecedent support</th>\n",
              "      <th>consequent support</th>\n",
              "      <th>support</th>\n",
              "      <th>confidence</th>\n",
              "      <th>lift</th>\n",
              "      <th>leverage</th>\n",
              "      <th>conviction</th>\n",
              "      <th>itemID</th>\n",
              "    </tr>\n",
              "  </thead>\n",
              "  <tbody>\n",
              "    <tr>\n",
              "      <th>0</th>\n",
              "      <td>4311</td>\n",
              "      <td>4310</td>\n",
              "      <td>0.006223</td>\n",
              "      <td>0.006534</td>\n",
              "      <td>0.005720</td>\n",
              "      <td>0.919231</td>\n",
              "      <td>140.686081</td>\n",
              "      <td>0.005680</td>\n",
              "      <td>12.300056</td>\n",
              "      <td>4311</td>\n",
              "    </tr>\n",
              "    <tr>\n",
              "      <th>1</th>\n",
              "      <td>4310</td>\n",
              "      <td>4311</td>\n",
              "      <td>0.006534</td>\n",
              "      <td>0.006223</td>\n",
              "      <td>0.005720</td>\n",
              "      <td>0.875458</td>\n",
              "      <td>140.686081</td>\n",
              "      <td>0.005680</td>\n",
              "      <td>7.979447</td>\n",
              "      <td>4310</td>\n",
              "    </tr>\n",
              "    <tr>\n",
              "      <th>2</th>\n",
              "      <td>4926</td>\n",
              "      <td>4918</td>\n",
              "      <td>0.006869</td>\n",
              "      <td>0.005385</td>\n",
              "      <td>0.005241</td>\n",
              "      <td>0.763066</td>\n",
              "      <td>141.699698</td>\n",
              "      <td>0.005205</td>\n",
              "      <td>4.197860</td>\n",
              "      <td>4926</td>\n",
              "    </tr>\n",
              "    <tr>\n",
              "      <th>3</th>\n",
              "      <td>4918</td>\n",
              "      <td>4926</td>\n",
              "      <td>0.005385</td>\n",
              "      <td>0.006869</td>\n",
              "      <td>0.005241</td>\n",
              "      <td>0.973333</td>\n",
              "      <td>141.699698</td>\n",
              "      <td>0.005205</td>\n",
              "      <td>37.242413</td>\n",
              "      <td>4918</td>\n",
              "    </tr>\n",
              "    <tr>\n",
              "      <th>4</th>\n",
              "      <td>4928</td>\n",
              "      <td>5041</td>\n",
              "      <td>0.007372</td>\n",
              "      <td>0.006510</td>\n",
              "      <td>0.004859</td>\n",
              "      <td>0.659091</td>\n",
              "      <td>101.243148</td>\n",
              "      <td>0.004811</td>\n",
              "      <td>2.914237</td>\n",
              "      <td>4928</td>\n",
              "    </tr>\n",
              "  </tbody>\n",
              "</table>\n",
              "</div>"
            ],
            "text/plain": [
              "  antecedents consequents  antecedent support  ...  leverage  conviction  itemID\n",
              "0        4311        4310            0.006223  ...  0.005680   12.300056    4311\n",
              "1        4310        4311            0.006534  ...  0.005680    7.979447    4310\n",
              "2        4926        4918            0.006869  ...  0.005205    4.197860    4926\n",
              "3        4918        4926            0.005385  ...  0.005205   37.242413    4918\n",
              "4        4928        5041            0.007372  ...  0.004811    2.914237    4928\n",
              "\n",
              "[5 rows x 10 columns]"
            ]
          },
          "metadata": {
            "tags": []
          },
          "execution_count": 9
        }
      ]
    },
    {
      "cell_type": "code",
      "metadata": {
        "id": "1wM1zZbarY3L",
        "colab_type": "code",
        "colab": {}
      },
      "source": [
        "df_rules['itemID'] = df_rules['antecedents']"
      ],
      "execution_count": 0,
      "outputs": []
    },
    {
      "cell_type": "code",
      "metadata": {
        "id": "HXkocVbWT47_",
        "colab_type": "code",
        "colab": {}
      },
      "source": [
        "df_train_joined['itemID'] = (df_train_joined['itemID']).astype('str')"
      ],
      "execution_count": 0,
      "outputs": []
    },
    {
      "cell_type": "code",
      "metadata": {
        "id": "xh5rZ8pTRFN5",
        "colab_type": "code",
        "colab": {}
      },
      "source": [
        "df_train_joined_new = pd.merge(df_train_joined, df_rules, on='itemID', how='left')\n",
        "df_train_joined_new['bundles'] = pd.notna(df_train_joined_new['support'])"
      ],
      "execution_count": 0,
      "outputs": []
    },
    {
      "cell_type": "code",
      "metadata": {
        "id": "h_uSijp9vf32",
        "colab_type": "code",
        "colab": {}
      },
      "source": [
        "df_train_joined['itemID'] = (df_train_joined['itemID']).astype('int')"
      ],
      "execution_count": 0,
      "outputs": []
    },
    {
      "cell_type": "code",
      "metadata": {
        "id": "oJUGCHEJftym",
        "colab_type": "code",
        "outputId": "abb2e57a-16bd-4b97-8c16-c8cc7b10d813",
        "colab": {
          "base_uri": "https://localhost:8080/",
          "height": 411
        }
      },
      "source": [
        "df_train_joined_new.head()"
      ],
      "execution_count": 0,
      "outputs": [
        {
          "output_type": "execute_result",
          "data": {
            "text/html": [
              "<div>\n",
              "<style scoped>\n",
              "    .dataframe tbody tr th:only-of-type {\n",
              "        vertical-align: middle;\n",
              "    }\n",
              "\n",
              "    .dataframe tbody tr th {\n",
              "        vertical-align: top;\n",
              "    }\n",
              "\n",
              "    .dataframe thead th {\n",
              "        text-align: right;\n",
              "    }\n",
              "</style>\n",
              "<table border=\"1\" class=\"dataframe\">\n",
              "  <thead>\n",
              "    <tr style=\"text-align: right;\">\n",
              "      <th></th>\n",
              "      <th>time</th>\n",
              "      <th>transactID</th>\n",
              "      <th>itemID</th>\n",
              "      <th>order</th>\n",
              "      <th>salesPrice</th>\n",
              "      <th>simulationPrice</th>\n",
              "      <th>promotion</th>\n",
              "      <th>brand</th>\n",
              "      <th>manufacturer</th>\n",
              "      <th>customerRating</th>\n",
              "      <th>category1</th>\n",
              "      <th>category2</th>\n",
              "      <th>category3</th>\n",
              "      <th>recommendedRetailPrice</th>\n",
              "      <th>antecedents</th>\n",
              "      <th>consequents</th>\n",
              "      <th>antecedent support</th>\n",
              "      <th>consequent support</th>\n",
              "      <th>support</th>\n",
              "      <th>confidence</th>\n",
              "      <th>lift</th>\n",
              "      <th>leverage</th>\n",
              "      <th>conviction</th>\n",
              "      <th>bundles</th>\n",
              "    </tr>\n",
              "  </thead>\n",
              "  <tbody>\n",
              "    <tr>\n",
              "      <th>0</th>\n",
              "      <td>2018-01-01 00:01:56</td>\n",
              "      <td>2278968</td>\n",
              "      <td>450</td>\n",
              "      <td>1</td>\n",
              "      <td>17.42</td>\n",
              "      <td>17.42</td>\n",
              "      <td>NaN</td>\n",
              "      <td>0</td>\n",
              "      <td>7</td>\n",
              "      <td>0.00</td>\n",
              "      <td>1</td>\n",
              "      <td>2</td>\n",
              "      <td>1</td>\n",
              "      <td>27.00</td>\n",
              "      <td>NaN</td>\n",
              "      <td>NaN</td>\n",
              "      <td>NaN</td>\n",
              "      <td>NaN</td>\n",
              "      <td>NaN</td>\n",
              "      <td>NaN</td>\n",
              "      <td>NaN</td>\n",
              "      <td>NaN</td>\n",
              "      <td>NaN</td>\n",
              "      <td>False</td>\n",
              "    </tr>\n",
              "    <tr>\n",
              "      <th>1</th>\n",
              "      <td>2018-01-01 00:01:56</td>\n",
              "      <td>2278968</td>\n",
              "      <td>83</td>\n",
              "      <td>1</td>\n",
              "      <td>5.19</td>\n",
              "      <td>5.19</td>\n",
              "      <td>NaN</td>\n",
              "      <td>0</td>\n",
              "      <td>4</td>\n",
              "      <td>0.00</td>\n",
              "      <td>1</td>\n",
              "      <td>1</td>\n",
              "      <td>1</td>\n",
              "      <td>12.89</td>\n",
              "      <td>83</td>\n",
              "      <td>914</td>\n",
              "      <td>0.001316</td>\n",
              "      <td>0.000215</td>\n",
              "      <td>0.000120</td>\n",
              "      <td>0.090909</td>\n",
              "      <td>422.040404</td>\n",
              "      <td>0.000119</td>\n",
              "      <td>1.099763</td>\n",
              "      <td>True</td>\n",
              "    </tr>\n",
              "    <tr>\n",
              "      <th>2</th>\n",
              "      <td>2018-01-01 00:01:56</td>\n",
              "      <td>2278968</td>\n",
              "      <td>83</td>\n",
              "      <td>1</td>\n",
              "      <td>5.19</td>\n",
              "      <td>5.19</td>\n",
              "      <td>NaN</td>\n",
              "      <td>0</td>\n",
              "      <td>4</td>\n",
              "      <td>0.00</td>\n",
              "      <td>1</td>\n",
              "      <td>1</td>\n",
              "      <td>1</td>\n",
              "      <td>12.89</td>\n",
              "      <td>83</td>\n",
              "      <td>913</td>\n",
              "      <td>0.001316</td>\n",
              "      <td>0.000191</td>\n",
              "      <td>0.000120</td>\n",
              "      <td>0.090909</td>\n",
              "      <td>474.795455</td>\n",
              "      <td>0.000119</td>\n",
              "      <td>1.099789</td>\n",
              "      <td>True</td>\n",
              "    </tr>\n",
              "    <tr>\n",
              "      <th>3</th>\n",
              "      <td>2018-01-01 00:07:11</td>\n",
              "      <td>2255797</td>\n",
              "      <td>7851</td>\n",
              "      <td>2</td>\n",
              "      <td>20.47</td>\n",
              "      <td>20.47</td>\n",
              "      <td>NaN</td>\n",
              "      <td>0</td>\n",
              "      <td>202</td>\n",
              "      <td>4.75</td>\n",
              "      <td>4</td>\n",
              "      <td>39</td>\n",
              "      <td>7</td>\n",
              "      <td>11.75</td>\n",
              "      <td>7851</td>\n",
              "      <td>7766</td>\n",
              "      <td>0.001245</td>\n",
              "      <td>0.001556</td>\n",
              "      <td>0.000191</td>\n",
              "      <td>0.153846</td>\n",
              "      <td>98.892308</td>\n",
              "      <td>0.000190</td>\n",
              "      <td>1.179980</td>\n",
              "      <td>True</td>\n",
              "    </tr>\n",
              "    <tr>\n",
              "      <th>4</th>\n",
              "      <td>2018-01-01 00:07:11</td>\n",
              "      <td>2255797</td>\n",
              "      <td>7851</td>\n",
              "      <td>2</td>\n",
              "      <td>20.47</td>\n",
              "      <td>20.47</td>\n",
              "      <td>NaN</td>\n",
              "      <td>0</td>\n",
              "      <td>202</td>\n",
              "      <td>4.75</td>\n",
              "      <td>4</td>\n",
              "      <td>39</td>\n",
              "      <td>7</td>\n",
              "      <td>11.75</td>\n",
              "      <td>7851</td>\n",
              "      <td>8482</td>\n",
              "      <td>0.001245</td>\n",
              "      <td>0.005600</td>\n",
              "      <td>0.000168</td>\n",
              "      <td>0.134615</td>\n",
              "      <td>24.036325</td>\n",
              "      <td>0.000161</td>\n",
              "      <td>1.149084</td>\n",
              "      <td>True</td>\n",
              "    </tr>\n",
              "  </tbody>\n",
              "</table>\n",
              "</div>"
            ],
            "text/plain": [
              "                 time  transactID itemID  ...  leverage  conviction  bundles\n",
              "0 2018-01-01 00:01:56     2278968    450  ...       NaN         NaN    False\n",
              "1 2018-01-01 00:01:56     2278968     83  ...  0.000119    1.099763     True\n",
              "2 2018-01-01 00:01:56     2278968     83  ...  0.000119    1.099789     True\n",
              "3 2018-01-01 00:07:11     2255797   7851  ...  0.000190    1.179980     True\n",
              "4 2018-01-01 00:07:11     2255797   7851  ...  0.000161    1.149084     True\n",
              "\n",
              "[5 rows x 24 columns]"
            ]
          },
          "metadata": {
            "tags": []
          },
          "execution_count": 14
        }
      ]
    },
    {
      "cell_type": "code",
      "metadata": {
        "id": "v2NSqEUIgYoc",
        "colab_type": "code",
        "colab": {}
      },
      "source": [
        "df_train_joined_new['free_bundles'] = pd.notna(df_train_joined_new['support'])[df_train_joined_new['salesPrice'] == 0 ]\n",
        "df_train_joined_new['free_bundles'] = df_train_joined_new['free_bundles'].fillna(False)"
      ],
      "execution_count": 0,
      "outputs": []
    },
    {
      "cell_type": "code",
      "metadata": {
        "id": "hDJ3LX9biJdn",
        "colab_type": "code",
        "outputId": "14d38832-53dc-4013-ba64-01d3e070125c",
        "colab": {
          "base_uri": "https://localhost:8080/",
          "height": 221
        }
      },
      "source": [
        "df_train_joined_new['free_bundles'][df_train_joined_new['free_bundles']] ## Recheck "
      ],
      "execution_count": 0,
      "outputs": [
        {
          "output_type": "execute_result",
          "data": {
            "text/plain": [
              "984895      True\n",
              "984896      True\n",
              "984897      True\n",
              "984898      True\n",
              "3545064     True\n",
              "            ... \n",
              "9304341     True\n",
              "10098680    True\n",
              "10098681    True\n",
              "10106561    True\n",
              "10106562    True\n",
              "Name: free_bundles, Length: 806, dtype: bool"
            ]
          },
          "metadata": {
            "tags": []
          },
          "execution_count": 24
        }
      ]
    }
  ]
}