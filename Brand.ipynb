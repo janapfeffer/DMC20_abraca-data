{
 "cells": [
  {
   "cell_type": "code",
   "execution_count": 1,
   "metadata": {},
   "outputs": [],
   "source": [
    "import sys\n",
    "sys.path.append(\"../abraca-data/data\")"
   ]
  },
  {
   "cell_type": "code",
   "execution_count": 2,
   "metadata": {},
   "outputs": [
    {
     "data": {
      "text/plain": [
       "'/Users/sahahn/Desktop/DMC20_abraca-data-master-2'"
      ]
     },
     "execution_count": 2,
     "metadata": {},
     "output_type": "execute_result"
    }
   ],
   "source": [
    "import os\n",
    "cwd = os.getcwd()\n",
    "cwd"
   ]
  },
  {
   "cell_type": "code",
   "execution_count": 3,
   "metadata": {},
   "outputs": [],
   "source": [
    "# Load Data"
   ]
  },
  {
   "cell_type": "code",
   "execution_count": 5,
   "metadata": {},
   "outputs": [],
   "source": [
    "import pandas as pd\n",
    "\n",
    "df_train = pd.read_csv('data/orders0206_train.csv', sep='|', parse_dates=['time'])\n",
    "df_test = pd.read_csv('data/orders0206_train.csv', sep='|', parse_dates=['time'])\n",
    "\n",
    "df_info = pd.read_csv('data/infos.csv', sep='|', index_col='itemID')\n",
    "product_prices = df_info['simulationPrice'].to_dict()\n",
    "df_train[\"time\"] = pd.to_datetime(df_train[\"time\"], format='%Y-%m-%d %H:%M:%S')\n",
    "\n",
    "df_items = pd.read_csv('data/items.csv', sep='|', index_col='itemID')\n",
    "\n",
    "\n",
    "df_train_joined = df_train.join(df_info, on='itemID').join(df_items, on='itemID')"
   ]
  },
  {
   "cell_type": "code",
   "execution_count": 15,
   "metadata": {},
   "outputs": [
    {
     "data": {
      "text/html": [
       "<div>\n",
       "<style scoped>\n",
       "    .dataframe tbody tr th:only-of-type {\n",
       "        vertical-align: middle;\n",
       "    }\n",
       "\n",
       "    .dataframe tbody tr th {\n",
       "        vertical-align: top;\n",
       "    }\n",
       "\n",
       "    .dataframe thead th {\n",
       "        text-align: right;\n",
       "    }\n",
       "</style>\n",
       "<table border=\"1\" class=\"dataframe\">\n",
       "  <thead>\n",
       "    <tr style=\"text-align: right;\">\n",
       "      <th></th>\n",
       "      <th>time</th>\n",
       "      <th>transactID</th>\n",
       "      <th>itemID</th>\n",
       "      <th>order</th>\n",
       "      <th>salesPrice</th>\n",
       "      <th>simulationPrice</th>\n",
       "      <th>promotion</th>\n",
       "      <th>brand</th>\n",
       "      <th>manufacturer</th>\n",
       "      <th>customerRating</th>\n",
       "      <th>category1</th>\n",
       "      <th>category2</th>\n",
       "      <th>category3</th>\n",
       "      <th>recommendedRetailPrice</th>\n",
       "      <th>date</th>\n",
       "    </tr>\n",
       "  </thead>\n",
       "  <tbody>\n",
       "    <tr>\n",
       "      <th>0</th>\n",
       "      <td>2018-01-01 00:01:56</td>\n",
       "      <td>2278968</td>\n",
       "      <td>450</td>\n",
       "      <td>1</td>\n",
       "      <td>17.42</td>\n",
       "      <td>17.42</td>\n",
       "      <td>NaN</td>\n",
       "      <td>0</td>\n",
       "      <td>7</td>\n",
       "      <td>0.00</td>\n",
       "      <td>1</td>\n",
       "      <td>2</td>\n",
       "      <td>1</td>\n",
       "      <td>27.00</td>\n",
       "      <td>2018-01-01</td>\n",
       "    </tr>\n",
       "    <tr>\n",
       "      <th>1</th>\n",
       "      <td>2018-01-01 00:01:56</td>\n",
       "      <td>2278968</td>\n",
       "      <td>83</td>\n",
       "      <td>1</td>\n",
       "      <td>5.19</td>\n",
       "      <td>5.19</td>\n",
       "      <td>NaN</td>\n",
       "      <td>0</td>\n",
       "      <td>4</td>\n",
       "      <td>0.00</td>\n",
       "      <td>1</td>\n",
       "      <td>1</td>\n",
       "      <td>1</td>\n",
       "      <td>12.89</td>\n",
       "      <td>2018-01-01</td>\n",
       "    </tr>\n",
       "    <tr>\n",
       "      <th>2</th>\n",
       "      <td>2018-01-01 00:07:11</td>\n",
       "      <td>2255797</td>\n",
       "      <td>7851</td>\n",
       "      <td>2</td>\n",
       "      <td>20.47</td>\n",
       "      <td>20.47</td>\n",
       "      <td>NaN</td>\n",
       "      <td>0</td>\n",
       "      <td>202</td>\n",
       "      <td>4.75</td>\n",
       "      <td>4</td>\n",
       "      <td>39</td>\n",
       "      <td>7</td>\n",
       "      <td>11.75</td>\n",
       "      <td>2018-01-01</td>\n",
       "    </tr>\n",
       "    <tr>\n",
       "      <th>3</th>\n",
       "      <td>2018-01-01 00:09:24</td>\n",
       "      <td>2278968</td>\n",
       "      <td>450</td>\n",
       "      <td>1</td>\n",
       "      <td>17.42</td>\n",
       "      <td>17.42</td>\n",
       "      <td>NaN</td>\n",
       "      <td>0</td>\n",
       "      <td>7</td>\n",
       "      <td>0.00</td>\n",
       "      <td>1</td>\n",
       "      <td>2</td>\n",
       "      <td>1</td>\n",
       "      <td>27.00</td>\n",
       "      <td>2018-01-01</td>\n",
       "    </tr>\n",
       "    <tr>\n",
       "      <th>4</th>\n",
       "      <td>2018-01-01 00:09:24</td>\n",
       "      <td>2278968</td>\n",
       "      <td>83</td>\n",
       "      <td>1</td>\n",
       "      <td>5.19</td>\n",
       "      <td>5.19</td>\n",
       "      <td>NaN</td>\n",
       "      <td>0</td>\n",
       "      <td>4</td>\n",
       "      <td>0.00</td>\n",
       "      <td>1</td>\n",
       "      <td>1</td>\n",
       "      <td>1</td>\n",
       "      <td>12.89</td>\n",
       "      <td>2018-01-01</td>\n",
       "    </tr>\n",
       "  </tbody>\n",
       "</table>\n",
       "</div>"
      ],
      "text/plain": [
       "                 time  transactID  itemID  order  salesPrice  simulationPrice  \\\n",
       "0 2018-01-01 00:01:56     2278968     450      1       17.42            17.42   \n",
       "1 2018-01-01 00:01:56     2278968      83      1        5.19             5.19   \n",
       "2 2018-01-01 00:07:11     2255797    7851      2       20.47            20.47   \n",
       "3 2018-01-01 00:09:24     2278968     450      1       17.42            17.42   \n",
       "4 2018-01-01 00:09:24     2278968      83      1        5.19             5.19   \n",
       "\n",
       "  promotion  brand  manufacturer  customerRating  category1  category2  \\\n",
       "0       NaN      0             7            0.00          1          2   \n",
       "1       NaN      0             4            0.00          1          1   \n",
       "2       NaN      0           202            4.75          4         39   \n",
       "3       NaN      0             7            0.00          1          2   \n",
       "4       NaN      0             4            0.00          1          1   \n",
       "\n",
       "   category3  recommendedRetailPrice        date  \n",
       "0          1                   27.00  2018-01-01  \n",
       "1          1                   12.89  2018-01-01  \n",
       "2          7                   11.75  2018-01-01  \n",
       "3          1                   27.00  2018-01-01  \n",
       "4          1                   12.89  2018-01-01  "
      ]
     },
     "execution_count": 15,
     "metadata": {},
     "output_type": "execute_result"
    }
   ],
   "source": [
    "df_train_joined.head()"
   ]
  },
  {
   "cell_type": "code",
   "execution_count": 43,
   "metadata": {},
   "outputs": [
    {
     "data": {
      "text/html": [
       "<div>\n",
       "<style scoped>\n",
       "    .dataframe tbody tr th:only-of-type {\n",
       "        vertical-align: middle;\n",
       "    }\n",
       "\n",
       "    .dataframe tbody tr th {\n",
       "        vertical-align: top;\n",
       "    }\n",
       "\n",
       "    .dataframe thead th {\n",
       "        text-align: right;\n",
       "    }\n",
       "</style>\n",
       "<table border=\"1\" class=\"dataframe\">\n",
       "  <thead>\n",
       "    <tr style=\"text-align: right;\">\n",
       "      <th></th>\n",
       "      <th>sum_sold</th>\n",
       "      <th>brand</th>\n",
       "      <th>date</th>\n",
       "      <th>transactID</th>\n",
       "      <th>itemID</th>\n",
       "      <th>order</th>\n",
       "      <th>salesPrice</th>\n",
       "      <th>manufacturer</th>\n",
       "      <th>category1</th>\n",
       "      <th>category2</th>\n",
       "      <th>category3</th>\n",
       "    </tr>\n",
       "  </thead>\n",
       "  <tbody>\n",
       "    <tr>\n",
       "      <th>0</th>\n",
       "      <td>1158921</td>\n",
       "      <td>0</td>\n",
       "      <td>2018-01-01</td>\n",
       "      <td>2278968</td>\n",
       "      <td>450</td>\n",
       "      <td>1</td>\n",
       "      <td>17.42</td>\n",
       "      <td>7</td>\n",
       "      <td>1</td>\n",
       "      <td>2</td>\n",
       "      <td>1</td>\n",
       "    </tr>\n",
       "    <tr>\n",
       "      <th>1</th>\n",
       "      <td>1158921</td>\n",
       "      <td>0</td>\n",
       "      <td>2018-01-01</td>\n",
       "      <td>2278968</td>\n",
       "      <td>83</td>\n",
       "      <td>1</td>\n",
       "      <td>5.19</td>\n",
       "      <td>4</td>\n",
       "      <td>1</td>\n",
       "      <td>1</td>\n",
       "      <td>1</td>\n",
       "    </tr>\n",
       "    <tr>\n",
       "      <th>2</th>\n",
       "      <td>1158921</td>\n",
       "      <td>0</td>\n",
       "      <td>2018-01-01</td>\n",
       "      <td>2255797</td>\n",
       "      <td>7851</td>\n",
       "      <td>2</td>\n",
       "      <td>20.47</td>\n",
       "      <td>202</td>\n",
       "      <td>4</td>\n",
       "      <td>39</td>\n",
       "      <td>7</td>\n",
       "    </tr>\n",
       "    <tr>\n",
       "      <th>3</th>\n",
       "      <td>1158921</td>\n",
       "      <td>0</td>\n",
       "      <td>2018-01-01</td>\n",
       "      <td>2278968</td>\n",
       "      <td>450</td>\n",
       "      <td>1</td>\n",
       "      <td>17.42</td>\n",
       "      <td>7</td>\n",
       "      <td>1</td>\n",
       "      <td>2</td>\n",
       "      <td>1</td>\n",
       "    </tr>\n",
       "    <tr>\n",
       "      <th>4</th>\n",
       "      <td>1158921</td>\n",
       "      <td>0</td>\n",
       "      <td>2018-01-01</td>\n",
       "      <td>2278968</td>\n",
       "      <td>83</td>\n",
       "      <td>1</td>\n",
       "      <td>5.19</td>\n",
       "      <td>4</td>\n",
       "      <td>1</td>\n",
       "      <td>1</td>\n",
       "      <td>1</td>\n",
       "    </tr>\n",
       "  </tbody>\n",
       "</table>\n",
       "</div>"
      ],
      "text/plain": [
       "   sum_sold  brand        date  transactID  itemID  order  salesPrice  \\\n",
       "0   1158921      0  2018-01-01     2278968     450      1       17.42   \n",
       "1   1158921      0  2018-01-01     2278968      83      1        5.19   \n",
       "2   1158921      0  2018-01-01     2255797    7851      2       20.47   \n",
       "3   1158921      0  2018-01-01     2278968     450      1       17.42   \n",
       "4   1158921      0  2018-01-01     2278968      83      1        5.19   \n",
       "\n",
       "   manufacturer  category1  category2  category3  \n",
       "0             7          1          2          1  \n",
       "1             4          1          1          1  \n",
       "2           202          4         39          7  \n",
       "3             7          1          2          1  \n",
       "4             4          1          1          1  "
      ]
     },
     "execution_count": 43,
     "metadata": {},
     "output_type": "execute_result"
    }
   ],
   "source": [
    "#add up all orders that were made on one day\n",
    "df_train_joined['sum_sold'] = df_train_joined['order'].groupby(df_train_joined['brand']).transform('sum')\n",
    "df_brand = df_train_joined[[\"sum_sold\", \"brand\", \"date\", \"transactID\", \"itemID\", \"order\", \"salesPrice\", \"manufacturer\", \"category1\", \"category2\", \"category3\",]]\n",
    "df_brand.head()"
   ]
  },
  {
   "cell_type": "code",
   "execution_count": 29,
   "metadata": {},
   "outputs": [
    {
     "data": {
      "text/plain": [
       "<bound method IndexOpsMixin.value_counts of 0            0\n",
       "1            0\n",
       "2            0\n",
       "3            0\n",
       "4            0\n",
       "          ... \n",
       "1727359    219\n",
       "1727360    219\n",
       "1727361    219\n",
       "1727362      0\n",
       "1727363     70\n",
       "Name: brand, Length: 1727364, dtype: int64>"
      ]
     },
     "execution_count": 29,
     "metadata": {},
     "output_type": "execute_result"
    }
   ],
   "source": [
    "df_brand.brand.value_counts"
   ]
  },
  {
   "cell_type": "code",
   "execution_count": 45,
   "metadata": {},
   "outputs": [
    {
     "data": {
      "text/html": [
       "<div>\n",
       "<style scoped>\n",
       "    .dataframe tbody tr th:only-of-type {\n",
       "        vertical-align: middle;\n",
       "    }\n",
       "\n",
       "    .dataframe tbody tr th {\n",
       "        vertical-align: top;\n",
       "    }\n",
       "\n",
       "    .dataframe thead th {\n",
       "        text-align: right;\n",
       "    }\n",
       "</style>\n",
       "<table border=\"1\" class=\"dataframe\">\n",
       "  <thead>\n",
       "    <tr style=\"text-align: right;\">\n",
       "      <th></th>\n",
       "      <th>index</th>\n",
       "      <th>sum_sold</th>\n",
       "      <th>brand</th>\n",
       "    </tr>\n",
       "  </thead>\n",
       "  <tbody>\n",
       "    <tr>\n",
       "      <th>0</th>\n",
       "      <td>0</td>\n",
       "      <td>1158921</td>\n",
       "      <td>0</td>\n",
       "    </tr>\n",
       "    <tr>\n",
       "      <th>1</th>\n",
       "      <td>39237</td>\n",
       "      <td>1249</td>\n",
       "      <td>1</td>\n",
       "    </tr>\n",
       "    <tr>\n",
       "      <th>2</th>\n",
       "      <td>558</td>\n",
       "      <td>14584</td>\n",
       "      <td>2</td>\n",
       "    </tr>\n",
       "    <tr>\n",
       "      <th>3</th>\n",
       "      <td>7051</td>\n",
       "      <td>459</td>\n",
       "      <td>3</td>\n",
       "    </tr>\n",
       "    <tr>\n",
       "      <th>4</th>\n",
       "      <td>334591</td>\n",
       "      <td>18253</td>\n",
       "      <td>4</td>\n",
       "    </tr>\n",
       "  </tbody>\n",
       "</table>\n",
       "</div>"
      ],
      "text/plain": [
       "    index  sum_sold  brand\n",
       "0       0   1158921      0\n",
       "1   39237      1249      1\n",
       "2     558     14584      2\n",
       "3    7051       459      3\n",
       "4  334591     18253      4"
      ]
     },
     "execution_count": 45,
     "metadata": {},
     "output_type": "execute_result"
    }
   ],
   "source": [
    "#limit data to relevant variables only -> sum_sold and date\n",
    "branded = df_brand[[\"sum_sold\", \"brand\"]]\n",
    "#remove duplicates\n",
    "df_branded_dr = branded.drop_duplicates(subset=['sum_sold','brand'])\n",
    "df_branded = df_branded_dr.sort_values(by=[\"brand\"])\n",
    "df_branded.reset_index(level=0, inplace=True)\n",
    "df_branded.head()\n"
   ]
  },
  {
   "cell_type": "code",
   "execution_count": 46,
   "metadata": {
    "scrolled": true
   },
   "outputs": [
    {
     "data": {
      "text/plain": [
       "0        0\n",
       "1        1\n",
       "2        2\n",
       "3        3\n",
       "4        4\n",
       "      ... \n",
       "238    261\n",
       "239    262\n",
       "240    263\n",
       "241    264\n",
       "242    265\n",
       "Name: brand, Length: 243, dtype: int64"
      ]
     },
     "execution_count": 46,
     "metadata": {},
     "output_type": "execute_result"
    }
   ],
   "source": [
    "x = df_branded[\"brand\"]\n",
    "x"
   ]
  },
  {
   "cell_type": "code",
   "execution_count": 51,
   "metadata": {},
   "outputs": [
    {
     "data": {
      "text/plain": [
       "(8813.514403292182, 641.0)"
      ]
     },
     "execution_count": 51,
     "metadata": {},
     "output_type": "execute_result"
    }
   ],
   "source": [
    "df_branded.loc[:,\"sum_sold\"].mean(), df_branded.loc[:,\"sum_sold\"].median()"
   ]
  },
  {
   "cell_type": "code",
   "execution_count": 97,
   "metadata": {},
   "outputs": [
    {
     "data": {
      "text/plain": [
       "index       50\n",
       "sum_sold    50\n",
       "brand       50\n",
       "dtype: int64"
      ]
     },
     "execution_count": 97,
     "metadata": {},
     "output_type": "execute_result"
    }
   ],
   "source": [
    "cut = df_branded['sum_sold'] >= 5300\n",
    "df_branded[cut].count()"
   ]
  },
  {
   "cell_type": "code",
   "execution_count": 98,
   "metadata": {},
   "outputs": [
    {
     "data": {
      "text/plain": [
       "<matplotlib.axes._subplots.AxesSubplot at 0x129913e90>"
      ]
     },
     "execution_count": 98,
     "metadata": {},
     "output_type": "execute_result"
    },
    {
     "data": {
      "image/png": "[encoded data removed]",
      "text/plain": [
       "<Figure size 1440x720 with 1 Axes>"
      ]
     },
     "metadata": {
      "needs_background": "light"
     },
     "output_type": "display_data"
    }
   ],
   "source": [
    "import matplotlib.pyplot as plt\n",
    "df_branded[cut].plot.bar(x = 'brand', y = 'sum_sold', figsize=(20,10), ylim=(0, 100000))\n",
    "\n",
    "\n",
    "\n",
    "#we definetly see a general upward trend"
   ]
  },
  {
   "cell_type": "code",
   "execution_count": null,
   "metadata": {},
   "outputs": [],
   "source": []
  },
  {
   "cell_type": "code",
   "execution_count": null,
   "metadata": {},
   "outputs": [],
   "source": []
  },
  {
   "cell_type": "code",
   "execution_count": null,
   "metadata": {},
   "outputs": [],
   "source": []
  },
  {
   "cell_type": "code",
   "execution_count": null,
   "metadata": {},
   "outputs": [],
   "source": []
  },
  {
   "cell_type": "code",
   "execution_count": null,
   "metadata": {},
   "outputs": [],
   "source": []
  },
  {
   "cell_type": "code",
   "execution_count": null,
   "metadata": {},
   "outputs": [],
   "source": []
  }
 ],
 "metadata": {
  "kernelspec": {
   "display_name": "Python 3",
   "language": "python",
   "name": "python3"
  },
  "language_info": {
   "codemirror_mode": {
    "name": "ipython",
    "version": 3
   },
   "file_extension": ".py",
   "mimetype": "text/x-python",
   "name": "python",
   "nbconvert_exporter": "python",
   "pygments_lexer": "ipython3",
   "version": "3.7.6"
  }
 },
 "nbformat": 4,
 "nbformat_minor": 2
}
