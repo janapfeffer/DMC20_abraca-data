{
 "cells": [
  {
   "cell_type": "code",
   "execution_count": 1,
   "metadata": {},
   "outputs": [],
   "source": [
    "from ipywidgets import IntProgress, HTML, VBox\n",
    "from IPython.display import display"
   ]
  },
  {
   "cell_type": "code",
   "execution_count": 2,
   "metadata": {},
   "outputs": [],
   "source": [
    "# # change used width of browser window\n",
    "# from IPython.core.display import display, HTML\n",
    "# display(HTML(\"<style>.container { width:90% !important; }</style>\"))"
   ]
  },
  {
   "cell_type": "code",
   "execution_count": 3,
   "metadata": {},
   "outputs": [],
   "source": [
    "def log_progress(sequence, every=None, size=None, name='Items'):\n",
    "#https://github.com/kuk/log-progress\n",
    "    is_iterator = False\n",
    "    if size is None:\n",
    "        try:\n",
    "            size = len(sequence)\n",
    "        except TypeError:\n",
    "            is_iterator = True\n",
    "    if size is not None:\n",
    "        if every is None:\n",
    "            if size <= 200:\n",
    "                every = 1\n",
    "            else:\n",
    "                every = int(size / 200)     # every 0.5%\n",
    "    else:\n",
    "        assert every is not None, 'sequence is iterator, set every'\n",
    "\n",
    "    if is_iterator:\n",
    "        progress = IntProgress(min=0, max=1, value=1)\n",
    "        progress.bar_style = 'info'\n",
    "    else:\n",
    "        progress = IntProgress(min=0, max=size, value=0)\n",
    "    label = HTML()\n",
    "    box = VBox(children=[label, progress])\n",
    "    display(box)\n",
    "\n",
    "    index = 0\n",
    "    try:\n",
    "        for index, record in enumerate(sequence, 1):\n",
    "            if index == 1 or index % every == 0:\n",
    "                if is_iterator:\n",
    "                    label.value = '{name}: {index} / ?'.format(\n",
    "                        name=name,\n",
    "                        index=index\n",
    "                    )\n",
    "                else:\n",
    "                    progress.value = index\n",
    "                    label.value = u'{name}: {index} / {size}'.format(\n",
    "                        name=name,\n",
    "                        index=index,\n",
    "                        size=size\n",
    "                    )\n",
    "            yield record\n",
    "    except:\n",
    "        progress.bar_style = 'danger'\n",
    "        raise\n",
    "    else:\n",
    "        progress.bar_style = 'success'\n",
    "        progress.value = index\n",
    "        label.value = \"{name}: {index}\".format(\n",
    "            name=name,\n",
    "            index=str(index or '?')\n",
    "        )"
   ]
  },
  {
   "cell_type": "code",
   "execution_count": 4,
   "metadata": {},
   "outputs": [],
   "source": [
    "import pandas as pd\n",
    "# import cufflinks as cf\n",
    "# import copy\n",
    "# import sys\n",
    "from matplotlib import pyplot\n",
    "# from pandas.plotting import autocorrelation_plot\n",
    "import datetime\n",
    "from collections import defaultdict\n",
    "from pmdarima.arima import auto_arima"
   ]
  },
  {
   "cell_type": "code",
   "execution_count": 5,
   "metadata": {},
   "outputs": [],
   "source": [
    "# suppress warnings\n",
    "import warnings\n",
    "warnings.filterwarnings('ignore')"
   ]
  },
  {
   "cell_type": "code",
   "execution_count": 6,
   "metadata": {},
   "outputs": [],
   "source": [
    "df_train = pd.read_csv('data/orders0206_train.csv', sep='|', parse_dates=['time'])\n",
    "df_test = pd.read_csv('data/orders0206_train.csv', sep='|', parse_dates=['time'])\n",
    "\n",
    "df_info = pd.read_csv('data/infos.csv', sep='|', index_col='itemID')\n",
    "product_prices = df_info['simulationPrice'].to_dict()\n",
    "df_train[\"time\"] = pd.to_datetime(df_train[\"time\"], format='%Y-%m-%d %H:%M:%S')\n",
    "df_items = pd.read_csv('data/items.csv', sep='|', index_col='itemID')\n",
    "# df_train_small = df_train[df_train[\"itemID\"].isin([7798])]"
   ]
  },
  {
   "cell_type": "code",
   "execution_count": 7,
   "metadata": {},
   "outputs": [
    {
     "data": {
      "text/html": [
       "<div>\n",
       "<style scoped>\n",
       "    .dataframe tbody tr th:only-of-type {\n",
       "        vertical-align: middle;\n",
       "    }\n",
       "\n",
       "    .dataframe tbody tr th {\n",
       "        vertical-align: top;\n",
       "    }\n",
       "\n",
       "    .dataframe thead th {\n",
       "        text-align: right;\n",
       "    }\n",
       "</style>\n",
       "<table border=\"1\" class=\"dataframe\">\n",
       "  <thead>\n",
       "    <tr style=\"text-align: right;\">\n",
       "      <th></th>\n",
       "      <th>itemID</th>\n",
       "      <th>date</th>\n",
       "      <th>count</th>\n",
       "    </tr>\n",
       "  </thead>\n",
       "  <tbody>\n",
       "    <tr>\n",
       "      <th>0</th>\n",
       "      <td>1</td>\n",
       "      <td>2018-01-23</td>\n",
       "      <td>1</td>\n",
       "    </tr>\n",
       "    <tr>\n",
       "      <th>1</th>\n",
       "      <td>1</td>\n",
       "      <td>2018-01-25</td>\n",
       "      <td>1</td>\n",
       "    </tr>\n",
       "    <tr>\n",
       "      <th>2</th>\n",
       "      <td>1</td>\n",
       "      <td>2018-01-29</td>\n",
       "      <td>307</td>\n",
       "    </tr>\n",
       "    <tr>\n",
       "      <th>3</th>\n",
       "      <td>1</td>\n",
       "      <td>2018-01-30</td>\n",
       "      <td>3</td>\n",
       "    </tr>\n",
       "    <tr>\n",
       "      <th>4</th>\n",
       "      <td>1</td>\n",
       "      <td>2018-01-31</td>\n",
       "      <td>1</td>\n",
       "    </tr>\n",
       "  </tbody>\n",
       "</table>\n",
       "</div>"
      ],
      "text/plain": [
       "   itemID        date  count\n",
       "0       1  2018-01-23      1\n",
       "1       1  2018-01-25      1\n",
       "2       1  2018-01-29    307\n",
       "3       1  2018-01-30      3\n",
       "4       1  2018-01-31      1"
      ]
     },
     "execution_count": 7,
     "metadata": {},
     "output_type": "execute_result"
    }
   ],
   "source": [
    "# aggregate sales per day\n",
    "df_train['date'] = [d.date() for d in df_train['time']]\n",
    "df_aggregated = df_train.groupby(['itemID','date']).sum()[\"order\"].to_frame().reset_index().rename(columns={'order':'count'})\n",
    "df_aggregated.head()"
   ]
  },
  {
   "cell_type": "code",
   "execution_count": 8,
   "metadata": {},
   "outputs": [
    {
     "data": {
      "text/html": [
       "<div>\n",
       "<style scoped>\n",
       "    .dataframe tbody tr th:only-of-type {\n",
       "        vertical-align: middle;\n",
       "    }\n",
       "\n",
       "    .dataframe tbody tr th {\n",
       "        vertical-align: top;\n",
       "    }\n",
       "\n",
       "    .dataframe thead th {\n",
       "        text-align: right;\n",
       "    }\n",
       "</style>\n",
       "<table border=\"1\" class=\"dataframe\">\n",
       "  <thead>\n",
       "    <tr style=\"text-align: right;\">\n",
       "      <th></th>\n",
       "      <th>count</th>\n",
       "      <th>itemID</th>\n",
       "    </tr>\n",
       "  </thead>\n",
       "  <tbody>\n",
       "    <tr>\n",
       "      <th>2018-01-23</th>\n",
       "      <td>1</td>\n",
       "      <td>1</td>\n",
       "    </tr>\n",
       "    <tr>\n",
       "      <th>2018-01-24</th>\n",
       "      <td>0</td>\n",
       "      <td>1</td>\n",
       "    </tr>\n",
       "    <tr>\n",
       "      <th>2018-01-25</th>\n",
       "      <td>1</td>\n",
       "      <td>1</td>\n",
       "    </tr>\n",
       "  </tbody>\n",
       "</table>\n",
       "</div>"
      ],
      "text/plain": [
       "            count  itemID\n",
       "2018-01-23      1       1\n",
       "2018-01-24      0       1\n",
       "2018-01-25      1       1"
      ]
     },
     "execution_count": 8,
     "metadata": {},
     "output_type": "execute_result"
    }
   ],
   "source": [
    "# add 0 sales for missing dates per itemID\n",
    "for prod in df_aggregated.itemID.unique():\n",
    "    s = df_aggregated.loc[df_aggregated['itemID'] == prod][[\"date\",\"count\"]]\n",
    "    s = s.set_index(\"date\")\n",
    "    idx = pd.date_range(s.index.min(), \n",
    "                        datetime.date(2018, 6, 1))\n",
    "    s.index = pd.DatetimeIndex(s.index)\n",
    "    s = s.reindex(idx, fill_value=0)\n",
    "    if \"df_timeseries\" not in globals():\n",
    "        s[\"itemID\"] = prod\n",
    "        df_timeseries = s\n",
    "    else:\n",
    "        s[\"itemID\"] = prod\n",
    "        df_timeseries = pd.concat([df_timeseries,s], ignore_index=False)\n",
    "df_timeseries.head(3)"
   ]
  },
  {
   "cell_type": "code",
   "execution_count": 9,
   "metadata": {},
   "outputs": [
    {
     "data": {
      "application/vnd.jupyter.widget-view+json": {
       "model_id": "1269f0f079484f658f8cdb52c37ac6e5",
       "version_major": 2,
       "version_minor": 0
      },
      "text/plain": [
       "VBox(children=(HTML(value=''), IntProgress(value=0, max=10)))"
      ]
     },
     "metadata": {},
     "output_type": "display_data"
    }
   ],
   "source": [
    "#model with own parameter settings:\n",
    "#https://machinelearningmastery.com/arima-for-time-series-forecasting-with-python/\n",
    "#p=4 because there the auto-correlation is significant, d=1 to make it stationary, m=7 daily (number of observations per seasonal cycle)\n",
    "y_arima = dict()\n",
    "for item in df_items.index.unique():\n",
    "    y_arima[item] = 0\n",
    "for prod in log_progress(df_timeseries.itemID.unique()[:10], every=1):\n",
    "    if len(df_timeseries[df_timeseries.itemID == prod].drop(columns=[\"itemID\"],axis=1)) > 10:\n",
    "        stepwise_model = auto_arima(df_timeseries[df_timeseries.itemID == prod].drop(columns=[\"itemID\"],axis=1), \n",
    "#                                 start_p=2, start_q=1,\n",
    "#                                max_p=6, max_q=3, m=7,\n",
    "#                                start_P=0, seasonal=True,\n",
    "#                                d=1, D=1, trace=True,\n",
    "#                                error_action='ignore',  \n",
    "#                                suppress_warnings=True, \n",
    "#                                stepwise=True\n",
    "                               )\n",
    "#     print(stepwise_model.aic())\n",
    "        model_fit_1 = stepwise_model.fit(df_timeseries[df_timeseries.itemID == prod].drop(columns=[\"itemID\"],axis=1))\n",
    "        future_forecast = stepwise_model.predict(n_periods=14)\n",
    "        y_arima[prod] = future_forecast.sum().round() if future_forecast.sum().round() > 0 else 0 # since arima could return negative results\n",
    "# print(model_fit_1.summary())"
   ]
  },
  {
   "cell_type": "code",
   "execution_count": 10,
   "metadata": {},
   "outputs": [],
   "source": [
    "df_train = pd.read_csv('data/orders0206_train.csv', sep='|', parse_dates=['time'])\n",
    "df_test = pd.read_csv('data/orders0206_test.csv', sep='|', parse_dates=['time'])\n",
    "\n",
    "df_info = pd.read_csv('data/infos.csv', sep='|', index_col='itemID')\n",
    "product_prices = df_info['simulationPrice'].to_dict()"
   ]
  },
  {
   "cell_type": "code",
   "execution_count": 11,
   "metadata": {},
   "outputs": [],
   "source": [
    "from collections import defaultdict\n",
    "\n",
    "def evaluate_result(y: dict, y_pred: dict):\n",
    "    monetary_value = 0\n",
    "    y_pred = defaultdict(int, y_pred)  # return prediction of 0 for items without prediction\n",
    "    \n",
    "    for item in set(y_pred).difference(set(y)):\n",
    "        y[item] = 0  # make sure that all items for which a demand has been predicted are contained in the actual demands\n",
    "    \n",
    "    for item, demand in y.items():\n",
    "        predicted_demand = y_pred[item]\n",
    "        price = product_prices[item]\n",
    "        monetary_value += price * min(demand, predicted_demand)\n",
    "        if predicted_demand > demand:\n",
    "            monetary_value -= .6 * price * (predicted_demand - demand)\n",
    "            \n",
    "    return monetary_value"
   ]
  },
  {
   "cell_type": "code",
   "execution_count": 12,
   "metadata": {},
   "outputs": [],
   "source": [
    "# actual demand\n",
    "y = df_test.groupby(by='itemID')['order'].sum().to_dict()\n",
    "\n",
    "# baseline 1 (average demand of previous 14 days)\n",
    "y_baseline1 = df_train[df_train['time'] >= '2018-05-19'].groupby(by='itemID')['order'].sum().to_dict()\n",
    "\n",
    "# baseline 2 (average demand of previous half year)\n",
    "total_orders = df_train.groupby(by='itemID')['order'].sum().to_dict()\n",
    "total_observed_days = (df_train['time'].dt.normalize().max() - df_train['time'].dt.normalize().min()).days\n",
    "y_baseline2 = {item: orders / total_observed_days * 14 for item, orders in total_orders.items()}  # 14-day avg. demand"
   ]
  },
  {
   "cell_type": "code",
   "execution_count": 13,
   "metadata": {},
   "outputs": [
    {
     "name": "stdout",
     "output_type": "stream",
     "text": [
      "Perfect Result: 7895975.87\n",
      "Baseline 1: -3727365.60\n",
      "Baseline 2: -1672504.21\n",
      "Auto Arima: -478.51\n"
     ]
    }
   ],
   "source": [
    "# perfect result\n",
    "print(f'Perfect Result: {evaluate_result(y, y):.2f}')\n",
    "\n",
    "# baseline 1\n",
    "print(f'Baseline 1: {evaluate_result(y, y_baseline1):.2f}')\n",
    "\n",
    "# baseline 2\n",
    "print(f'Baseline 2: {evaluate_result(y, y_baseline2):.2f}')\n",
    "\n",
    "# auto arima\n",
    "print(f'Auto Arima: {evaluate_result(y, y_arima):.2f}')\n",
    "\n",
    "# mit 6 -414600.38\n",
    "# -39897.06"
   ]
  },
  {
   "cell_type": "code",
   "execution_count": 14,
   "metadata": {},
   "outputs": [],
   "source": [
    "df_result_all = pd.DataFrame.from_dict(y_arima, orient='index')\n",
    "# df_result_all = df_result_all[df_result_all[0] != 0]"
   ]
  },
  {
   "cell_type": "code",
   "execution_count": 15,
   "metadata": {},
   "outputs": [],
   "source": [
    "for index, row in df_result_all.iterrows():\n",
    "#     df_result_all.loc[index, \"cluster\"] = test_aggregated_w[test_aggregated_w.itemID == index][\"cluster\"].iloc[0]\n",
    "    df_result_all.loc[index, 'actual'] = y[index]\n",
    "    df_result_all.loc[index, 'diff'] = abs(y[index] - row[0])\n",
    "    df_result_all.loc[index, 'diff_perc'] = ((abs(row[0]-y[index])/((row[0]+y[index])/2))*100).round()"
   ]
  },
  {
   "cell_type": "code",
   "execution_count": 16,
   "metadata": {},
   "outputs": [
    {
     "data": {
      "text/plain": [
       "diff\n",
       "(0, 5]           2342\n",
       "(5, 10]           410\n",
       "(10, 15]          179\n",
       "(15, 25]          214\n",
       "(25, 50]          310\n",
       "(50, 75]          174\n",
       "(75, 100]         145\n",
       "(100, 150]        213\n",
       "(150, 200]        118\n",
       "(200, 500]        306\n",
       "(500, 1000]        81\n",
       "(1000, 10000]      28\n",
       "Name: 0, dtype: int64"
      ]
     },
     "metadata": {},
     "output_type": "display_data"
    },
    {
     "data": {
      "text/plain": [
       "diff_perc\n",
       "(0, 5]              0\n",
       "(5, 10]             0\n",
       "(10, 15]            0\n",
       "(15, 25]            0\n",
       "(25, 50]            0\n",
       "(50, 75]            0\n",
       "(75, 100]           0\n",
       "(100, 150]          0\n",
       "(150, 200]       4520\n",
       "(200, 500]          0\n",
       "(500, 1000]         0\n",
       "(1000, 10000]       0\n",
       "Name: 0, dtype: int64"
      ]
     },
     "metadata": {},
     "output_type": "display_data"
    }
   ],
   "source": [
    "bins = [0, 5, 10, 15, 25, 50, 75, 100, 150, 200, 500, 1000, 10000]\n",
    "display(df_result_all.groupby([ pd.cut(df_result_all['diff'], bins)])[0].count())\n",
    "display(df_result_all.groupby([ pd.cut(df_result_all['diff_perc'], bins)])[0].count())\n",
    "# df_result.groupby([ pd.cut(df_result_all['diff'], bins),\"cluster\"])[0].count()\n",
    "# with pd.option_context('display.max_rows', None, 'display.max_columns', None):  # more options can be specified also\n",
    "#     display(df_result.groupby(\"diff_perc\").count()[[0]])\n",
    "# print(\"200% is there if the prediction is > 0 and the actual is 0\")"
   ]
  }
 ],
 "metadata": {
  "kernelspec": {
   "display_name": "Python 3",
   "language": "python",
   "name": "python3"
  },
  "language_info": {
   "codemirror_mode": {
    "name": "ipython",
    "version": 3
   },
   "file_extension": ".py",
   "mimetype": "text/x-python",
   "name": "python",
   "nbconvert_exporter": "python",
   "pygments_lexer": "ipython3",
   "version": "3.7.6"
  }
 },
 "nbformat": 4,
 "nbformat_minor": 4
}
