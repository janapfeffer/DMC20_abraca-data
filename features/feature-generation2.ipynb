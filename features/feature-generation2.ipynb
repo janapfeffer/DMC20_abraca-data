{
 "cells": [
  {
   "cell_type": "code",
   "execution_count": 16,
   "metadata": {},
   "outputs": [],
   "source": [
    "import math\n",
    "import datetime\n",
    "import pandas as pd\n",
    "import numpy as np\n",
    "from statistics import median\n",
    "from scipy.stats import iqr\n",
    "\n",
    "import time\n",
    "import seaborn as sns\n",
    "import matplotlib\n",
    "import matplotlib.pyplot as plt\n",
    "\n",
    "import warnings\n",
    "warnings.filterwarnings('ignore')\n",
    "\n",
    "pd.set_option('display.max_columns', None)\n",
    "pd.set_option('display.max_rows', None)"
   ]
  },
  {
   "cell_type": "code",
   "execution_count": 17,
   "metadata": {},
   "outputs": [],
   "source": [
    "data_path = '../data/'"
   ]
  },
  {
   "cell_type": "code",
   "execution_count": 18,
   "metadata": {},
   "outputs": [],
   "source": [
    "items = pd.read_csv('{}items.csv'.format(data_path), sep='|')\n",
    "infos = pd.read_csv('{}infos.csv'.format(data_path), sep='|')\n",
    "orders = pd.read_csv('{}orders0206_train.csv'.format(data_path), sep='|')\n"
   ]
  },
  {
   "cell_type": "markdown",
   "metadata": {},
   "source": [
    "# Extract additional features on the time-dimension"
   ]
  },
  {
   "cell_type": "code",
   "execution_count": 15,
   "metadata": {},
   "outputs": [],
   "source": [
    "orderss=orders.head(200)"
   ]
  },
  {
   "cell_type": "code",
   "execution_count": 11,
   "metadata": {},
   "outputs": [
    {
     "output_type": "stream",
     "name": "stdout",
     "text": "0.004899200001091231\n"
    }
   ],
   "source": [
    "start = time.clock()\n",
    "orders['timeb'] = pd.to_datetime(orders[\"time\"])\n",
    "end = time.clock()\n",
    "print(end - start)"
   ]
  },
  {
   "cell_type": "code",
   "execution_count": 13,
   "metadata": {},
   "outputs": [
    {
     "output_type": "stream",
     "name": "stdout",
     "text": "0.02091619999919203\n"
    }
   ],
   "source": [
    "start = time.clock()\n",
    "orders['timea'] = orders.apply(lambda row: datetime.datetime.strptime(row['time'],\"%Y-%m-%d %H:%M:%S\"), axis=1)\n",
    "end = time.clock()\n",
    "print(end - start)\n"
   ]
  },
  {
   "cell_type": "code",
   "execution_count": 5,
   "metadata": {},
   "outputs": [],
   "source": [
    "orders['time'] = orders.apply(lambda row: datetime.datetime.strptime(row['time'],\"%Y-%m-%d %H:%M:%S\"), axis=1)\n",
    "\n",
    "# Month of the year\n",
    "orders['month'] = orders.apply(lambda row: row['time'].month, axis=1)\n",
    "\n",
    "# Day of the month\n",
    "orders['day'] = orders.apply(lambda row: row['time'].day, axis=1)\n",
    "\n",
    "# Weekday: Starts with 0 = Monday, 6 = Sunday\n",
    "orders['weekday'] = orders.apply(lambda row: row['time'].weekday(), axis=1)\n",
    "\n",
    "# Just the date, no time\n",
    "orders['date'] = orders.apply(lambda row: datetime.datetime(year=2018, month=row['month'], day=row['day']), axis=1)\n",
    "\n",
    "# Hour of the day\n",
    "orders['hour'] = orders.apply(lambda row: row['time'].hour, axis=1)\n",
    "\n",
    "# Calendar week\n",
    "orders['calendar_week'] = orders.apply(lambda row: row['time'].isocalendar()[1], axis=1)"
   ]
  },
  {
   "cell_type": "code",
   "execution_count": 10,
   "metadata": {},
   "outputs": [],
   "source": [
    "ex_items = items.copy()\n",
    "ex_infos = infos.copy()\n",
    "ex_orders = orders.copy()"
   ]
  },
  {
   "cell_type": "markdown",
   "metadata": {},
   "source": [
    "# Feature generation: Price deviations\n",
    "\n",
    "- Diff Sales vs Recommended Price\n",
    "\n",
    "Item A: 60x für 30€, 30x für 10€\n",
    "\n",
    "Features:\n",
    "- Highest Price\n",
    "- Units Sold with highest price\n",
    "- Lowest Price\n",
    "- Units Sold with highest price"
   ]
  },
  {
   "cell_type": "code",
   "execution_count": 6,
   "metadata": {},
   "outputs": [],
   "source": [
    "joined = pd.merge(left=pd.merge(left=items, right=infos, on='itemID'), right=orders, on='itemID')"
   ]
  },
  {
   "cell_type": "code",
   "execution_count": 7,
   "metadata": {},
   "outputs": [
    {
     "output_type": "error",
     "ename": "NameError",
     "evalue": "name 'train' is not defined",
     "traceback": [
      "\u001b[1;31m---------------------------------------------------------------------------\u001b[0m",
      "\u001b[1;31mNameError\u001b[0m                                 Traceback (most recent call last)",
      "\u001b[1;32m<ipython-input-7-54efa6b8693a>\u001b[0m in \u001b[0;36m<module>\u001b[1;34m\u001b[0m\n\u001b[1;32m----> 1\u001b[1;33m \u001b[0mtrain\u001b[0m\u001b[1;33m.\u001b[0m\u001b[0mhead\u001b[0m\u001b[1;33m(\u001b[0m\u001b[1;36m5\u001b[0m\u001b[1;33m)\u001b[0m\u001b[1;33m\u001b[0m\u001b[1;33m\u001b[0m\u001b[0m\n\u001b[0m",
      "\u001b[1;31mNameError\u001b[0m: name 'train' is not defined"
     ]
    }
   ],
   "source": [
    "joined.head(5)"
   ]
  },
  {
   "cell_type": "code",
   "execution_count": 8,
   "metadata": {},
   "outputs": [],
   "source": [
    "joined['orders_priceDifference'] = joined['salesPrice'] - joined['recommendedRetailPrice']\n",
    "joined['orders_relPriceDifference'] = joined['orders_priceDifference'] / joined['recommendedRetailPrice']"
   ]
  },
  {
   "cell_type": "code",
   "execution_count": 9,
   "metadata": {},
   "outputs": [],
   "source": [
    "grouped_orders = orders.groupby(\"itemID\")\n",
    "minprices = grouped_orders.min()[\"salesPrice\"]\n",
    "ex_orders = pd.merge(left=orders, right=minprices, on='itemID')\n",
    "ex_orders.rename(columns={'salesPrice_x':'salesPrice', 'salesPrice_y': 'items_minPrice'} , inplace=True) \n",
    "\n",
    "maxprices = grouped_orders.max()[\"salesPrice\"]\n",
    "ex_orders = pd.merge(left=orders, right=maxprices, on='itemID')\n",
    "ex_orders.rename(columns={'salesPrice_x':'salesPrice', 'salesPrice_y': 'items_maxPrice'}, inplace=True)\n",
    "\n",
    "meanprices = grouped_orders.mean()[\"salesPrice\"]\n",
    "ex_orders = pd.merge(left=orders, right=meanprices, on='itemID')\n",
    "ex_orders.rename(columns={'salesPrice_x':'salesPrice', 'salesPrice_y': 'items_meanprices'}, inplace=True)\n"
   ]
  },
  {
   "cell_type": "code",
   "execution_count": 37,
   "metadata": {},
   "outputs": [],
   "source": [
    "counts = grouped_orders[\"salesPrice\"].value_counts()\n",
    "\n",
    "ex_items[\"items_minPriceCount\"]= train.apply(lambda row: counts[row[\"itemID\"], row[\"items_minPrice\"]], axis=1)\n",
    "ex_items[\"items_maxPriceCount\"]= train.apply(lambda row: counts[row[\"itemID\"], row[\"items_maxPrice\"]], axis=1)"
   ]
  },
  {
   "cell_type": "markdown",
   "metadata": {},
   "source": [
    "\n",
    "\n",
    "\n"
   ]
  },
  {
   "cell_type": "markdown",
   "metadata": {},
   "source": [
    "# Sales\n",
    "\n",
    "\n",
    "- number of unites sold\n",
    "- % of Overall revenue"
   ]
  }
 ],
 "metadata": {
  "language_info": {
   "codemirror_mode": {
    "name": "ipython",
    "version": 3
   },
   "file_extension": ".py",
   "mimetype": "text/x-python",
   "name": "python",
   "nbconvert_exporter": "python",
   "pygments_lexer": "ipython3",
   "version": "3.7.4-final"
  },
  "orig_nbformat": 2,
  "kernelspec": {
   "name": "python3",
   "display_name": "Python 3"
  }
 },
 "nbformat": 4,
 "nbformat_minor": 2
}