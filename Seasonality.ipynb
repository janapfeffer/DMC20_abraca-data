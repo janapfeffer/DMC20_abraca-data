{
 "cells": [
  {
   "cell_type": "code",
   "execution_count": 61,
   "metadata": {},
   "outputs": [],
   "source": [
    "import pandas as pd\n",
    "\n",
    "df_train = pd.read_csv('orders0206_train.csv', sep='|', parse_dates=['time'])\n",
    "df_test = pd.read_csv('orders0206_train.csv', sep='|', parse_dates=['time'])\n",
    "\n",
    "df_info = pd.read_csv('infos.csv', sep='|', index_col='itemID')\n",
    "product_prices = df_info['simulationPrice'].to_dict()\n",
    "df_train[\"time\"] = pd.to_datetime(df_train[\"time\"], format='%Y-%m-%d %H:%M:%S')"
   ]
  },
  {
   "cell_type": "code",
   "execution_count": 62,
   "metadata": {},
   "outputs": [
    {
     "data": {
      "text/html": [
       "<div>\n",
       "<style scoped>\n",
       "    .dataframe tbody tr th:only-of-type {\n",
       "        vertical-align: middle;\n",
       "    }\n",
       "\n",
       "    .dataframe tbody tr th {\n",
       "        vertical-align: top;\n",
       "    }\n",
       "\n",
       "    .dataframe thead th {\n",
       "        text-align: right;\n",
       "    }\n",
       "</style>\n",
       "<table border=\"1\" class=\"dataframe\">\n",
       "  <thead>\n",
       "    <tr style=\"text-align: right;\">\n",
       "      <th></th>\n",
       "      <th>time</th>\n",
       "      <th>transactID</th>\n",
       "      <th>itemID</th>\n",
       "      <th>order</th>\n",
       "      <th>salesPrice</th>\n",
       "    </tr>\n",
       "  </thead>\n",
       "  <tbody>\n",
       "    <tr>\n",
       "      <th>0</th>\n",
       "      <td>2018-01-01 00:01:56</td>\n",
       "      <td>2278968</td>\n",
       "      <td>450</td>\n",
       "      <td>1</td>\n",
       "      <td>17.42</td>\n",
       "    </tr>\n",
       "    <tr>\n",
       "      <th>1</th>\n",
       "      <td>2018-01-01 00:01:56</td>\n",
       "      <td>2278968</td>\n",
       "      <td>83</td>\n",
       "      <td>1</td>\n",
       "      <td>5.19</td>\n",
       "    </tr>\n",
       "    <tr>\n",
       "      <th>2</th>\n",
       "      <td>2018-01-01 00:07:11</td>\n",
       "      <td>2255797</td>\n",
       "      <td>7851</td>\n",
       "      <td>2</td>\n",
       "      <td>20.47</td>\n",
       "    </tr>\n",
       "    <tr>\n",
       "      <th>3</th>\n",
       "      <td>2018-01-01 00:09:24</td>\n",
       "      <td>2278968</td>\n",
       "      <td>450</td>\n",
       "      <td>1</td>\n",
       "      <td>17.42</td>\n",
       "    </tr>\n",
       "    <tr>\n",
       "      <th>4</th>\n",
       "      <td>2018-01-01 00:09:24</td>\n",
       "      <td>2278968</td>\n",
       "      <td>83</td>\n",
       "      <td>1</td>\n",
       "      <td>5.19</td>\n",
       "    </tr>\n",
       "  </tbody>\n",
       "</table>\n",
       "</div>"
      ],
      "text/plain": [
       "                 time  transactID  itemID  order  salesPrice\n",
       "0 2018-01-01 00:01:56     2278968     450      1       17.42\n",
       "1 2018-01-01 00:01:56     2278968      83      1        5.19\n",
       "2 2018-01-01 00:07:11     2255797    7851      2       20.47\n",
       "3 2018-01-01 00:09:24     2278968     450      1       17.42\n",
       "4 2018-01-01 00:09:24     2278968      83      1        5.19"
      ]
     },
     "execution_count": 62,
     "metadata": {},
     "output_type": "execute_result"
    }
   ],
   "source": [
    "df_train.head()"
   ]
  },
  {
   "cell_type": "code",
   "execution_count": 79,
   "metadata": {},
   "outputs": [
    {
     "data": {
      "text/html": [
       "<div>\n",
       "<style scoped>\n",
       "    .dataframe tbody tr th:only-of-type {\n",
       "        vertical-align: middle;\n",
       "    }\n",
       "\n",
       "    .dataframe tbody tr th {\n",
       "        vertical-align: top;\n",
       "    }\n",
       "\n",
       "    .dataframe thead th {\n",
       "        text-align: right;\n",
       "    }\n",
       "</style>\n",
       "<table border=\"1\" class=\"dataframe\">\n",
       "  <thead>\n",
       "    <tr style=\"text-align: right;\">\n",
       "      <th></th>\n",
       "      <th>time</th>\n",
       "      <th>transactID</th>\n",
       "      <th>itemID</th>\n",
       "      <th>order</th>\n",
       "      <th>salesPrice</th>\n",
       "      <th>date</th>\n",
       "    </tr>\n",
       "  </thead>\n",
       "  <tbody>\n",
       "    <tr>\n",
       "      <th>0</th>\n",
       "      <td>2018-01-01 00:01:56</td>\n",
       "      <td>2278968</td>\n",
       "      <td>450</td>\n",
       "      <td>1</td>\n",
       "      <td>17.42</td>\n",
       "      <td>2018-01-01</td>\n",
       "    </tr>\n",
       "    <tr>\n",
       "      <th>4842</th>\n",
       "      <td>2018-01-02 00:02:35</td>\n",
       "      <td>2269586</td>\n",
       "      <td>8330</td>\n",
       "      <td>1</td>\n",
       "      <td>14.75</td>\n",
       "      <td>2018-01-02</td>\n",
       "    </tr>\n",
       "    <tr>\n",
       "      <th>8998</th>\n",
       "      <td>2018-01-03 00:04:08</td>\n",
       "      <td>2273845</td>\n",
       "      <td>576</td>\n",
       "      <td>1</td>\n",
       "      <td>116.16</td>\n",
       "      <td>2018-01-03</td>\n",
       "    </tr>\n",
       "    <tr>\n",
       "      <th>11441</th>\n",
       "      <td>2018-01-04 00:04:34</td>\n",
       "      <td>15317</td>\n",
       "      <td>273</td>\n",
       "      <td>1</td>\n",
       "      <td>15.41</td>\n",
       "      <td>2018-01-04</td>\n",
       "    </tr>\n",
       "    <tr>\n",
       "      <th>19534</th>\n",
       "      <td>2018-01-05 00:09:20</td>\n",
       "      <td>2274134</td>\n",
       "      <td>4296</td>\n",
       "      <td>1</td>\n",
       "      <td>1.21</td>\n",
       "      <td>2018-01-05</td>\n",
       "    </tr>\n",
       "  </tbody>\n",
       "</table>\n",
       "</div>"
      ],
      "text/plain": [
       "                     time  transactID  itemID  order  salesPrice        date\n",
       "0     2018-01-01 00:01:56     2278968     450      1       17.42  2018-01-01\n",
       "4842  2018-01-02 00:02:35     2269586    8330      1       14.75  2018-01-02\n",
       "8998  2018-01-03 00:04:08     2273845     576      1      116.16  2018-01-03\n",
       "11441 2018-01-04 00:04:34       15317     273      1       15.41  2018-01-04\n",
       "19534 2018-01-05 00:09:20     2274134    4296      1        1.21  2018-01-05"
      ]
     },
     "execution_count": 79,
     "metadata": {},
     "output_type": "execute_result"
    }
   ],
   "source": [
    "#create column only containing date\n",
    "df_train['date'] = df_train['time'].dt.date\n",
    "df_train.head()"
   ]
  },
  {
   "cell_type": "code",
   "execution_count": 81,
   "metadata": {},
   "outputs": [],
   "source": [
    "#add up all orders that were made on one day\n",
    "df_train['sum_sold'] = df_train['order'].groupby(df_train['date']).transform('sum')\n",
    "df_train.head()"
   ]
  },
  {
   "cell_type": "code",
   "execution_count": 101,
   "metadata": {},
   "outputs": [
    {
     "name": "stderr",
     "output_type": "stream",
     "text": [
      "C:\\Users\\a.kati\\Anaconda3\\lib\\site-packages\\ipykernel_launcher.py:6: SettingWithCopyWarning: \n",
      "A value is trying to be set on a copy of a slice from a DataFrame.\n",
      "Try using .loc[row_indexer,col_indexer] = value instead\n",
      "\n",
      "See the caveats in the documentation: http://pandas.pydata.org/pandas-docs/stable/indexing.html#indexing-view-versus-copy\n",
      "  \n"
     ]
    }
   ],
   "source": [
    "#limit data to relevant variables only -> sum_sold and date\n",
    "seasonal = df_train[[\"sum_sold\", \"date\"]]\n",
    "#remove duplicates\n",
    "df_duplicates_removed = seasonal.drop_duplicates(subset=['sum_sold', 'date'])\n",
    "df_duplicates_removed.head()\n",
    "#date to datetime format ?error message?\n",
    "df_duplicates_removed['date'] = pd.to_datetime(df_duplicates_removed['date'])"
   ]
  },
  {
   "cell_type": "code",
   "execution_count": 88,
   "metadata": {},
   "outputs": [
    {
     "data": {
      "image/png": "[encoded data removed]",
      "text/plain": [
       "<Figure size 432x288 with 1 Axes>"
      ]
     },
     "metadata": {
      "needs_background": "light"
     },
     "output_type": "display_data"
    }
   ],
   "source": [
    "import matplotlib.pyplot as plt\n",
    "from statsmodels.tsa.holtwinters import ExponentialSmoothing, SimpleExpSmoothing, Holt\n",
    "\n",
    "#use line plot to visually inspect data for seasonality \n",
    "df_duplicates_removed.plot.line(x = 'date', \n",
    "             y = 'sum_sold')\n",
    "plt.show()\n",
    "\n",
    "#we definetly see a general upward trend"
   ]
  },
  {
   "cell_type": "markdown",
   "metadata": {},
   "source": [
    "we definetly see a general upward trend\n",
    "\n",
    "**What kind of seasonalities are relevant for us?**\n",
    "-Time of Day -> not really relevant if we forecast for a two week period\n",
    "-Day of the week -> not really relevant if we forecast for a two week period\n",
    "-Weekly -> relevant\n",
    "-Monthly -> relevant\n",
    "-Yearly -> not enough data\n",
    "\n",
    "**How do we know that an effect is seasonal if we only have data for half a year(periodicity is unknown)?**\n",
    "**Do we want to correct for seasonality?(No)**\n"
   ]
  },
  {
   "cell_type": "code",
   "execution_count": 90,
   "metadata": {},
   "outputs": [
    {
     "data": {
      "text/plain": [
       "14090.026315789473"
      ]
     },
     "execution_count": 90,
     "metadata": {},
     "output_type": "execute_result"
    }
   ],
   "source": [
    "#average number of sold items per day -> 14090,026\n",
    "df_duplicates_removed.loc[:,\"sum_sold\"].mean()\n",
    "\n",
    "#average number of sold items per week\n",
    "\n",
    "#average number of sold items per month"
   ]
  },
  {
   "cell_type": "code",
   "execution_count": 111,
   "metadata": {},
   "outputs": [
    {
     "data": {
      "text/html": [
       "<div>\n",
       "<style scoped>\n",
       "    .dataframe tbody tr th:only-of-type {\n",
       "        vertical-align: middle;\n",
       "    }\n",
       "\n",
       "    .dataframe tbody tr th {\n",
       "        vertical-align: top;\n",
       "    }\n",
       "\n",
       "    .dataframe thead th {\n",
       "        text-align: right;\n",
       "    }\n",
       "</style>\n",
       "<table border=\"1\" class=\"dataframe\">\n",
       "  <thead>\n",
       "    <tr style=\"text-align: right;\">\n",
       "      <th></th>\n",
       "      <th>sum_sold</th>\n",
       "      <th>date</th>\n",
       "    </tr>\n",
       "  </thead>\n",
       "  <tbody>\n",
       "    <tr>\n",
       "      <th>1540637</th>\n",
       "      <td>27206</td>\n",
       "      <td>2018-05-21</td>\n",
       "    </tr>\n",
       "  </tbody>\n",
       "</table>\n",
       "</div>"
      ],
      "text/plain": [
       "         sum_sold       date\n",
       "1540637     27206 2018-05-21"
      ]
     },
     "execution_count": 111,
     "metadata": {},
     "output_type": "execute_result"
    }
   ],
   "source": [
    "#checking for seasonality in terms of festivities (only those in all parts of Germany):\n",
    "df_duplicates_removed.loc[df_duplicates_removed['date'] == '2018-01-01']\n",
    "#new years sold: 6305\n",
    "\n",
    "df_duplicates_removed.loc[df_duplicates_removed['date'] == '2018-03-30']\n",
    "#easter friday 12196 items sold\n",
    "\n",
    "df_duplicates_removed.loc[df_duplicates_removed['date'] == '2018-04-02']\n",
    "#easter monday 15026 items sold\n",
    "\n",
    "df_duplicates_removed.loc[df_duplicates_removed['date'] == '2018-05-01']\n",
    "#labor day 27885 items sold\n",
    "\n",
    "df_duplicates_removed.loc[df_duplicates_removed['date'] == '2018-05-10']\n",
    "#'christi Himmelfahrt' 16567\n",
    "\n",
    "df_duplicates_removed.loc[df_duplicates_removed['date'] == '2018-05-21']\n",
    "#pfingsten 27206\n",
    "\n"
   ]
  },
  {
   "cell_type": "code",
   "execution_count": 115,
   "metadata": {},
   "outputs": [],
   "source": [
    "#exponential smoothing seems to be a thing we could do, note that this doesnt refer to seasonality but to trend\n",
    "#gives error message\n",
    "#model = ExponentialSmoothing(df_duplicates_removed, trend=\"add\", seasonal=\"add\", seasonal_periods=6)"
   ]
  },
  {
   "cell_type": "code",
   "execution_count": null,
   "metadata": {},
   "outputs": [],
   "source": []
  }
 ],
 "metadata": {
  "kernelspec": {
   "display_name": "Python 3",
   "language": "python",
   "name": "python3"
  },
  "language_info": {
   "codemirror_mode": {
    "name": "ipython",
    "version": 3
   },
   "file_extension": ".py",
   "mimetype": "text/x-python",
   "name": "python",
   "nbconvert_exporter": "python",
   "pygments_lexer": "ipython3",
   "version": "3.7.1"
  }
 },
 "nbformat": 4,
 "nbformat_minor": 2
}