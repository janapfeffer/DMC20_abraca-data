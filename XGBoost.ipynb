{
 "cells": [
  {
   "cell_type": "code",
   "execution_count": 33,
   "metadata": {},
   "outputs": [],
   "source": [
    "# import packages\n",
    "import pandas as pd\n",
    "# import seaborn as sb\n",
    "import matplotlib.pyplot as plt\n",
    "import numpy as np\n",
    "import datetime\n",
    "import re\n",
    "from sklearn.externals import joblib \n",
    "from sklearn.preprocessing import MinMaxScaler\n",
    "from sklearn.decomposition import PCA\n",
    "from scipy.interpolate import interpn\n",
    "from collections import defaultdict"
   ]
  },
  {
   "cell_type": "code",
   "execution_count": 34,
   "metadata": {},
   "outputs": [],
   "source": [
    "# suppress warnings\n",
    "import warnings\n",
    "warnings.filterwarnings('ignore')"
   ]
  },
  {
   "cell_type": "code",
   "execution_count": 35,
   "metadata": {},
   "outputs": [],
   "source": [
    "sales_means =pd.read_csv('./data/sales_means.csv', sep='|').drop(columns=[\"predicted_promotion\"])\n",
    "scaler = joblib.load('scaler.pkl') \n",
    "df_test = pd.read_csv('data/orders0206_test.csv', sep='|', parse_dates=['time'])\n",
    "df_test['date'] = [d.date() for d in df_test['time']]\n",
    "df_train = pd.read_csv('data/orders0206_train.csv', sep='|', parse_dates=['time'])\n",
    "df_train['date'] = [d.date() for d in df_train['time']]"
   ]
  },
  {
   "cell_type": "code",
   "execution_count": 36,
   "metadata": {},
   "outputs": [],
   "source": [
    "X_train = sales_means[sales_means['weekGroup']<=9]\n",
    "X_cv =  sales_means[sales_means['weekGroup']==10]\n",
    "X_test = sales_means[sales_means['weekGroup']==11]\n",
    "Y_train = X_train['count']\n",
    "Y_cv = X_cv['count']\n",
    "Y_test = X_test['count']\n",
    "del X_train['count']\n",
    "del X_cv['count']\n",
    "del X_test['count']\n",
    "del X_train['weekGroup']\n",
    "del X_cv['weekGroup']\n",
    "del X_test['weekGroup']"
   ]
  },
  {
   "cell_type": "code",
   "execution_count": 37,
   "metadata": {},
   "outputs": [],
   "source": [
    "del X_train['itemID']\n",
    "del X_cv['itemID']"
   ]
  },
  {
   "cell_type": "code",
   "execution_count": 38,
   "metadata": {
    "scrolled": true
   },
   "outputs": [
    {
     "name": "stdout",
     "output_type": "stream",
     "text": [
      "[0]\tvalidation_0-rmse:0.44137\tvalidation_1-rmse:0.44287\n",
      "Multiple eval metrics have been passed: 'validation_1-rmse' will be used for early stopping.\n",
      "\n",
      "Will train until validation_1-rmse hasn't improved in 10 rounds.\n",
      "[1]\tvalidation_0-rmse:0.39802\tvalidation_1-rmse:0.39959\n",
      "[2]\tvalidation_0-rmse:0.35920\tvalidation_1-rmse:0.36074\n",
      "[3]\tvalidation_0-rmse:0.32439\tvalidation_1-rmse:0.32598\n",
      "[4]\tvalidation_0-rmse:0.29314\tvalidation_1-rmse:0.29485\n",
      "[5]\tvalidation_0-rmse:0.26507\tvalidation_1-rmse:0.26681\n",
      "[6]\tvalidation_0-rmse:0.23980\tvalidation_1-rmse:0.24166\n",
      "[7]\tvalidation_0-rmse:0.21707\tvalidation_1-rmse:0.21899\n",
      "[8]\tvalidation_0-rmse:0.19661\tvalidation_1-rmse:0.19857\n",
      "[9]\tvalidation_0-rmse:0.17820\tvalidation_1-rmse:0.18020\n",
      "[10]\tvalidation_0-rmse:0.16164\tvalidation_1-rmse:0.16358\n",
      "[11]\tvalidation_0-rmse:0.14676\tvalidation_1-rmse:0.14870\n",
      "[12]\tvalidation_0-rmse:0.13340\tvalidation_1-rmse:0.13528\n",
      "[13]\tvalidation_0-rmse:0.12139\tvalidation_1-rmse:0.12313\n",
      "[14]\tvalidation_0-rmse:0.11060\tvalidation_1-rmse:0.11226\n",
      "[15]\tvalidation_0-rmse:0.10093\tvalidation_1-rmse:0.10245\n",
      "[16]\tvalidation_0-rmse:0.09230\tvalidation_1-rmse:0.09379\n",
      "[17]\tvalidation_0-rmse:0.08459\tvalidation_1-rmse:0.08602\n",
      "[18]\tvalidation_0-rmse:0.07771\tvalidation_1-rmse:0.07907\n",
      "[19]\tvalidation_0-rmse:0.07161\tvalidation_1-rmse:0.07293\n",
      "[20]\tvalidation_0-rmse:0.06620\tvalidation_1-rmse:0.06734\n",
      "[21]\tvalidation_0-rmse:0.06142\tvalidation_1-rmse:0.06243\n",
      "[22]\tvalidation_0-rmse:0.05720\tvalidation_1-rmse:0.05809\n",
      "[23]\tvalidation_0-rmse:0.05352\tvalidation_1-rmse:0.05430\n",
      "[24]\tvalidation_0-rmse:0.05031\tvalidation_1-rmse:0.05091\n",
      "[25]\tvalidation_0-rmse:0.04753\tvalidation_1-rmse:0.04800\n",
      "[26]\tvalidation_0-rmse:0.04510\tvalidation_1-rmse:0.04559\n",
      "[27]\tvalidation_0-rmse:0.04302\tvalidation_1-rmse:0.04353\n",
      "[28]\tvalidation_0-rmse:0.04124\tvalidation_1-rmse:0.04159\n",
      "[29]\tvalidation_0-rmse:0.03972\tvalidation_1-rmse:0.03994\n",
      "[30]\tvalidation_0-rmse:0.03844\tvalidation_1-rmse:0.03853\n",
      "[31]\tvalidation_0-rmse:0.03736\tvalidation_1-rmse:0.03732\n",
      "[32]\tvalidation_0-rmse:0.03646\tvalidation_1-rmse:0.03630\n",
      "[33]\tvalidation_0-rmse:0.03570\tvalidation_1-rmse:0.03544\n",
      "[34]\tvalidation_0-rmse:0.03503\tvalidation_1-rmse:0.03460\n",
      "[35]\tvalidation_0-rmse:0.03450\tvalidation_1-rmse:0.03398\n",
      "[36]\tvalidation_0-rmse:0.03404\tvalidation_1-rmse:0.03341\n",
      "[37]\tvalidation_0-rmse:0.03365\tvalidation_1-rmse:0.03289\n",
      "[38]\tvalidation_0-rmse:0.03334\tvalidation_1-rmse:0.03249\n",
      "[39]\tvalidation_0-rmse:0.03306\tvalidation_1-rmse:0.03216\n",
      "[40]\tvalidation_0-rmse:0.03283\tvalidation_1-rmse:0.03180\n",
      "[41]\tvalidation_0-rmse:0.03264\tvalidation_1-rmse:0.03156\n",
      "[42]\tvalidation_0-rmse:0.03245\tvalidation_1-rmse:0.03130\n",
      "[43]\tvalidation_0-rmse:0.03231\tvalidation_1-rmse:0.03113\n",
      "[44]\tvalidation_0-rmse:0.03216\tvalidation_1-rmse:0.03100\n",
      "[45]\tvalidation_0-rmse:0.03206\tvalidation_1-rmse:0.03084\n",
      "[46]\tvalidation_0-rmse:0.03195\tvalidation_1-rmse:0.03076\n",
      "[47]\tvalidation_0-rmse:0.03189\tvalidation_1-rmse:0.03065\n",
      "[48]\tvalidation_0-rmse:0.03182\tvalidation_1-rmse:0.03052\n",
      "[49]\tvalidation_0-rmse:0.03177\tvalidation_1-rmse:0.03045\n",
      "[50]\tvalidation_0-rmse:0.03172\tvalidation_1-rmse:0.03040\n",
      "[51]\tvalidation_0-rmse:0.03167\tvalidation_1-rmse:0.03035\n",
      "[52]\tvalidation_0-rmse:0.03164\tvalidation_1-rmse:0.03031\n",
      "[53]\tvalidation_0-rmse:0.03157\tvalidation_1-rmse:0.03022\n",
      "[54]\tvalidation_0-rmse:0.03153\tvalidation_1-rmse:0.03017\n",
      "[55]\tvalidation_0-rmse:0.03148\tvalidation_1-rmse:0.03007\n",
      "[56]\tvalidation_0-rmse:0.03142\tvalidation_1-rmse:0.03005\n",
      "[57]\tvalidation_0-rmse:0.03137\tvalidation_1-rmse:0.03000\n",
      "[58]\tvalidation_0-rmse:0.03134\tvalidation_1-rmse:0.02994\n",
      "[59]\tvalidation_0-rmse:0.03129\tvalidation_1-rmse:0.02991\n",
      "[60]\tvalidation_0-rmse:0.03125\tvalidation_1-rmse:0.02986\n",
      "[61]\tvalidation_0-rmse:0.03121\tvalidation_1-rmse:0.02982\n",
      "[62]\tvalidation_0-rmse:0.03119\tvalidation_1-rmse:0.02978\n",
      "[63]\tvalidation_0-rmse:0.03115\tvalidation_1-rmse:0.02978\n",
      "[64]\tvalidation_0-rmse:0.03111\tvalidation_1-rmse:0.02978\n",
      "[65]\tvalidation_0-rmse:0.03107\tvalidation_1-rmse:0.02976\n",
      "[66]\tvalidation_0-rmse:0.03104\tvalidation_1-rmse:0.02978\n",
      "[67]\tvalidation_0-rmse:0.03103\tvalidation_1-rmse:0.02978\n",
      "[68]\tvalidation_0-rmse:0.03102\tvalidation_1-rmse:0.02977\n",
      "[69]\tvalidation_0-rmse:0.03098\tvalidation_1-rmse:0.02973\n",
      "[70]\tvalidation_0-rmse:0.03095\tvalidation_1-rmse:0.02973\n",
      "[71]\tvalidation_0-rmse:0.03091\tvalidation_1-rmse:0.02972\n",
      "[72]\tvalidation_0-rmse:0.03088\tvalidation_1-rmse:0.02970\n",
      "[73]\tvalidation_0-rmse:0.03085\tvalidation_1-rmse:0.02969\n",
      "[74]\tvalidation_0-rmse:0.03084\tvalidation_1-rmse:0.02968\n",
      "[75]\tvalidation_0-rmse:0.03083\tvalidation_1-rmse:0.02968\n",
      "[76]\tvalidation_0-rmse:0.03078\tvalidation_1-rmse:0.02964\n",
      "[77]\tvalidation_0-rmse:0.03075\tvalidation_1-rmse:0.02959\n",
      "[78]\tvalidation_0-rmse:0.03072\tvalidation_1-rmse:0.02959\n",
      "[79]\tvalidation_0-rmse:0.03068\tvalidation_1-rmse:0.02955\n",
      "[80]\tvalidation_0-rmse:0.03065\tvalidation_1-rmse:0.02953\n",
      "[81]\tvalidation_0-rmse:0.03060\tvalidation_1-rmse:0.02951\n",
      "[82]\tvalidation_0-rmse:0.03057\tvalidation_1-rmse:0.02953\n",
      "[83]\tvalidation_0-rmse:0.03055\tvalidation_1-rmse:0.02951\n",
      "[84]\tvalidation_0-rmse:0.03052\tvalidation_1-rmse:0.02951\n",
      "[85]\tvalidation_0-rmse:0.03051\tvalidation_1-rmse:0.02950\n",
      "[86]\tvalidation_0-rmse:0.03048\tvalidation_1-rmse:0.02949\n",
      "[87]\tvalidation_0-rmse:0.03045\tvalidation_1-rmse:0.02948\n",
      "[88]\tvalidation_0-rmse:0.03043\tvalidation_1-rmse:0.02948\n",
      "[89]\tvalidation_0-rmse:0.03039\tvalidation_1-rmse:0.02948\n",
      "[90]\tvalidation_0-rmse:0.03037\tvalidation_1-rmse:0.02949\n",
      "[91]\tvalidation_0-rmse:0.03035\tvalidation_1-rmse:0.02949\n",
      "[92]\tvalidation_0-rmse:0.03033\tvalidation_1-rmse:0.02948\n",
      "[93]\tvalidation_0-rmse:0.03030\tvalidation_1-rmse:0.02946\n",
      "[94]\tvalidation_0-rmse:0.03029\tvalidation_1-rmse:0.02946\n",
      "[95]\tvalidation_0-rmse:0.03027\tvalidation_1-rmse:0.02944\n",
      "[96]\tvalidation_0-rmse:0.03023\tvalidation_1-rmse:0.02945\n",
      "[97]\tvalidation_0-rmse:0.03021\tvalidation_1-rmse:0.02945\n",
      "[98]\tvalidation_0-rmse:0.03019\tvalidation_1-rmse:0.02947\n",
      "[99]\tvalidation_0-rmse:0.03016\tvalidation_1-rmse:0.02946\n",
      "[100]\tvalidation_0-rmse:0.03013\tvalidation_1-rmse:0.02943\n",
      "[101]\tvalidation_0-rmse:0.03010\tvalidation_1-rmse:0.02945\n",
      "[102]\tvalidation_0-rmse:0.03008\tvalidation_1-rmse:0.02942\n",
      "[103]\tvalidation_0-rmse:0.03005\tvalidation_1-rmse:0.02943\n",
      "[104]\tvalidation_0-rmse:0.03003\tvalidation_1-rmse:0.02941\n",
      "[105]\tvalidation_0-rmse:0.03000\tvalidation_1-rmse:0.02939\n",
      "[106]\tvalidation_0-rmse:0.02996\tvalidation_1-rmse:0.02935\n",
      "[107]\tvalidation_0-rmse:0.02993\tvalidation_1-rmse:0.02935\n",
      "[108]\tvalidation_0-rmse:0.02992\tvalidation_1-rmse:0.02934\n",
      "[109]\tvalidation_0-rmse:0.02989\tvalidation_1-rmse:0.02934\n",
      "[110]\tvalidation_0-rmse:0.02987\tvalidation_1-rmse:0.02933\n",
      "[111]\tvalidation_0-rmse:0.02985\tvalidation_1-rmse:0.02933\n",
      "[112]\tvalidation_0-rmse:0.02983\tvalidation_1-rmse:0.02932\n",
      "[113]\tvalidation_0-rmse:0.02980\tvalidation_1-rmse:0.02932\n",
      "[114]\tvalidation_0-rmse:0.02976\tvalidation_1-rmse:0.02932\n",
      "[115]\tvalidation_0-rmse:0.02975\tvalidation_1-rmse:0.02932\n",
      "[116]\tvalidation_0-rmse:0.02973\tvalidation_1-rmse:0.02930\n",
      "[117]\tvalidation_0-rmse:0.02970\tvalidation_1-rmse:0.02930\n",
      "[118]\tvalidation_0-rmse:0.02969\tvalidation_1-rmse:0.02929\n",
      "[119]\tvalidation_0-rmse:0.02965\tvalidation_1-rmse:0.02929\n",
      "[120]\tvalidation_0-rmse:0.02962\tvalidation_1-rmse:0.02930\n",
      "[121]\tvalidation_0-rmse:0.02960\tvalidation_1-rmse:0.02932\n",
      "[122]\tvalidation_0-rmse:0.02958\tvalidation_1-rmse:0.02934\n",
      "[123]\tvalidation_0-rmse:0.02955\tvalidation_1-rmse:0.02934\n",
      "[124]\tvalidation_0-rmse:0.02953\tvalidation_1-rmse:0.02935\n",
      "[125]\tvalidation_0-rmse:0.02951\tvalidation_1-rmse:0.02934\n",
      "[126]\tvalidation_0-rmse:0.02949\tvalidation_1-rmse:0.02935\n",
      "[127]\tvalidation_0-rmse:0.02947\tvalidation_1-rmse:0.02934\n",
      "[128]\tvalidation_0-rmse:0.02945\tvalidation_1-rmse:0.02933\n",
      "Stopping. Best iteration:\n",
      "[118]\tvalidation_0-rmse:0.02969\tvalidation_1-rmse:0.02929\n",
      "\n"
     ]
    },
    {
     "data": {
      "text/plain": [
       "XGBRegressor(base_score=0.5, booster='gbtree', colsample_bylevel=1,\n",
       "             colsample_bynode=1, colsample_bytree=0.8, gamma=0, gpu_id=-1,\n",
       "             importance_type='gain', interaction_constraints=None,\n",
       "             learning_rate=0.1, max_delta_step=0, max_depth=3,\n",
       "             min_child_weight=1, missing=nan, monotone_constraints=None,\n",
       "             n_estimators=300, n_jobs=0, num_parallel_tree=1,\n",
       "             objective='reg:logistic', random_state=20, reg_alpha=0,\n",
       "             reg_lambda=1, scale_pos_weight=1, seed=20, silent=1, subsample=0.8,\n",
       "             tree_method=None, validate_parameters=False, verbosity=None)"
      ]
     },
     "execution_count": 38,
     "metadata": {},
     "output_type": "execute_result"
    }
   ],
   "source": [
    "from xgboost import XGBRegressor\n",
    "model = XGBRegressor(\n",
    "    booster = 'gbtree', \n",
    "    colsample_bytree = 0.8, \n",
    "    gamma = 0, \n",
    "    learning_rate = 0.1, \n",
    "    max_depth= 3, \n",
    "    min_child_weight= 1, \n",
    "    n_estimators= 300, \n",
    "    objective= 'reg:logistic', \n",
    "    seed= 20, \n",
    "    silent= 1, \n",
    "    subsample= 0.8)\n",
    "model.fit(\n",
    "    X_train, \n",
    "    Y_train, \n",
    "    eval_metric=\"rmse\", \n",
    "    eval_set=[(X_train, Y_train), (X_cv, Y_cv)], \n",
    "    verbose=True, \n",
    "    early_stopping_rounds = 10)"
   ]
  },
  {
   "cell_type": "code",
   "execution_count": 39,
   "metadata": {
    "scrolled": false
   },
   "outputs": [
    {
     "data": {
      "application/vnd.plotly.v1+json": {
       "config": {
        "plotlyServerURL": "https://plot.ly"
       },
       "data": [
        {
         "alignmentgroup": "True",
         "hovertemplate": "columns=%{x}<br>importance=%{y}<extra></extra>",
         "legendgroup": "",
         "marker": {
          "color": "#636efa"
         },
         "name": "",
         "offsetgroup": "",
         "orientation": "v",
         "showlegend": false,
         "textposition": "auto",
         "type": "bar",
         "x": [
          "category1_avg_avg_salesPrice_lag_1",
          "category3_avg_avg_salesPrice_lag_1",
          "category1_avg_avg_salesPrice_lag_2",
          "category3",
          "soldWeekly",
          "category3_avg_avg_salesPrice_lag_2",
          "customerRating",
          "brand_sum_count_lag_1",
          "category1_sum_count_lag_1",
          "recentlySold",
          "category1_avg_count_lag_1",
          "category1_avg_count_lag_2",
          "avg_salesPrice_lag_2",
          "count_lag_1",
          "dateFirstSell",
          "category1_sum_count_lag_2",
          "category3_avg_avg_salesPrice_lag_5",
          "avg_salesPrice_lag_1",
          "category1",
          "category1_avg_count_lag_3",
          "category3_avg_count_lag_2",
          "category3_avg_count_lag_1",
          "brand_avg_count_lag_1",
          "brand_avg_avg_salesPrice_lag_2",
          "category3_sum_count_lag_1",
          "brand_sum_count_lag_5",
          "brand_avg_count_lag_2",
          "brand_sum_count_lag_2",
          "brand",
          "category1_sum_count_lag_3",
          "brand_sum_count_lag_3",
          "category3_avg_avg_salesPrice_lag_3",
          "category1_sum_count_lag_4",
          "brand_avg_avg_salesPrice_lag_1",
          "manufacturer",
          "category3_sum_count_lag_3",
          "category3_avg_avg_salesPrice_lag_4",
          "count_lag_4",
          "avg_salesPrice_lag_4",
          "count_lag_3",
          "category1_avg_avg_salesPrice_lag_5",
          "category1_avg_avg_salesPrice_lag_4",
          "count_lag_5",
          "category3_avg_count_lag_3",
          "brand_sum_count_lag_4",
          "brand_avg_avg_salesPrice_lag_5",
          "count_lag_2",
          "category3_sum_count_lag_2",
          "brand_avg_count_lag_5",
          "avg_salesPrice_lag_3",
          "brand_avg_avg_salesPrice_lag_3",
          "brand_avg_count_lag_4",
          "brand_avg_avg_salesPrice_lag_4",
          "category1_avg_avg_salesPrice_lag_3",
          "category3_sum_count_lag_5",
          "avg_salesPrice_lag_5",
          "brand_avg_count_lag_3",
          "category3_avg_count_lag_4",
          "category3_sum_count_lag_4",
          "category1_avg_count_lag_4",
          "category1_sum_count_lag_5",
          "category1_avg_count_lag_5",
          "category3_avg_count_lag_5"
         ],
         "xaxis": "x",
         "y": [
          0.08342505246400833,
          0.06288023293018341,
          0.05090709403157234,
          0.04123006388545036,
          0.039526090025901794,
          0.03277572616934776,
          0.028556836768984795,
          0.027677930891513824,
          0.02722182869911194,
          0.02243540994822979,
          0.02099410817027092,
          0.020812278613448143,
          0.019903860986232758,
          0.019031399860978127,
          0.01882016286253929,
          0.018414724618196487,
          0.018222257494926453,
          0.017214957624673843,
          0.01715046353638172,
          0.017081573605537415,
          0.016326945275068283,
          0.016078030690550804,
          0.01562986709177494,
          0.015498608350753784,
          0.015268838964402676,
          0.014454023912549019,
          0.014282837510108948,
          0.014033446088433266,
          0.01384639460593462,
          0.013845188543200493,
          0.013641445897519588,
          0.01248895563185215,
          0.011719124391674995,
          0.011706124991178513,
          0.011680272407829762,
          0.011476006358861923,
          0.01139161828905344,
          0.011332869529724121,
          0.010643970221281052,
          0.01038648933172226,
          0.010331200435757637,
          0.010311944410204887,
          0.01017142366617918,
          0.009454411454498768,
          0.00939260795712471,
          0.008945013396441936,
          0.008752039633691311,
          0.008472626097500324,
          0.008009996265172958,
          0.006344673223793507,
          0.006288996897637844,
          0.00628351466730237,
          0.006210613064467907,
          0.006136475596576929,
          0.005154476501047611,
          0.004651600960642099,
          0.002740250201895833,
          0.002334913471713662,
          0,
          0,
          0,
          0,
          0
         ],
         "yaxis": "y"
        }
       ],
       "layout": {
        "barmode": "relative",
        "legend": {
         "tracegroupgap": 0
        },
        "margin": {
         "t": 60
        },
        "template": {
         "data": {
          "bar": [
           {
            "error_x": {
             "color": "#2a3f5f"
            },
            "error_y": {
             "color": "#2a3f5f"
            },
            "marker": {
             "line": {
              "color": "#E5ECF6",
              "width": 0.5
             }
            },
            "type": "bar"
           }
          ],
          "barpolar": [
           {
            "marker": {
             "line": {
              "color": "#E5ECF6",
              "width": 0.5
             }
            },
            "type": "barpolar"
           }
          ],
          "carpet": [
           {
            "aaxis": {
             "endlinecolor": "#2a3f5f",
             "gridcolor": "white",
             "linecolor": "white",
             "minorgridcolor": "white",
             "startlinecolor": "#2a3f5f"
            },
            "baxis": {
             "endlinecolor": "#2a3f5f",
             "gridcolor": "white",
             "linecolor": "white",
             "minorgridcolor": "white",
             "startlinecolor": "#2a3f5f"
            },
            "type": "carpet"
           }
          ],
          "choropleth": [
           {
            "colorbar": {
             "outlinewidth": 0,
             "ticks": ""
            },
            "type": "choropleth"
           }
          ],
          "contour": [
           {
            "colorbar": {
             "outlinewidth": 0,
             "ticks": ""
            },
            "colorscale": [
             [
              0,
              "#0d0887"
             ],
             [
              0.1111111111111111,
              "#46039f"
             ],
             [
              0.2222222222222222,
              "#7201a8"
             ],
             [
              0.3333333333333333,
              "#9c179e"
             ],
             [
              0.4444444444444444,
              "#bd3786"
             ],
             [
              0.5555555555555556,
              "#d8576b"
             ],
             [
              0.6666666666666666,
              "#ed7953"
             ],
             [
              0.7777777777777778,
              "#fb9f3a"
             ],
             [
              0.8888888888888888,
              "#fdca26"
             ],
             [
              1,
              "#f0f921"
             ]
            ],
            "type": "contour"
           }
          ],
          "contourcarpet": [
           {
            "colorbar": {
             "outlinewidth": 0,
             "ticks": ""
            },
            "type": "contourcarpet"
           }
          ],
          "heatmap": [
           {
            "colorbar": {
             "outlinewidth": 0,
             "ticks": ""
            },
            "colorscale": [
             [
              0,
              "#0d0887"
             ],
             [
              0.1111111111111111,
              "#46039f"
             ],
             [
              0.2222222222222222,
              "#7201a8"
             ],
             [
              0.3333333333333333,
              "#9c179e"
             ],
             [
              0.4444444444444444,
              "#bd3786"
             ],
             [
              0.5555555555555556,
              "#d8576b"
             ],
             [
              0.6666666666666666,
              "#ed7953"
             ],
             [
              0.7777777777777778,
              "#fb9f3a"
             ],
             [
              0.8888888888888888,
              "#fdca26"
             ],
             [
              1,
              "#f0f921"
             ]
            ],
            "type": "heatmap"
           }
          ],
          "heatmapgl": [
           {
            "colorbar": {
             "outlinewidth": 0,
             "ticks": ""
            },
            "colorscale": [
             [
              0,
              "#0d0887"
             ],
             [
              0.1111111111111111,
              "#46039f"
             ],
             [
              0.2222222222222222,
              "#7201a8"
             ],
             [
              0.3333333333333333,
              "#9c179e"
             ],
             [
              0.4444444444444444,
              "#bd3786"
             ],
             [
              0.5555555555555556,
              "#d8576b"
             ],
             [
              0.6666666666666666,
              "#ed7953"
             ],
             [
              0.7777777777777778,
              "#fb9f3a"
             ],
             [
              0.8888888888888888,
              "#fdca26"
             ],
             [
              1,
              "#f0f921"
             ]
            ],
            "type": "heatmapgl"
           }
          ],
          "histogram": [
           {
            "marker": {
             "colorbar": {
              "outlinewidth": 0,
              "ticks": ""
             }
            },
            "type": "histogram"
           }
          ],
          "histogram2d": [
           {
            "colorbar": {
             "outlinewidth": 0,
             "ticks": ""
            },
            "colorscale": [
             [
              0,
              "#0d0887"
             ],
             [
              0.1111111111111111,
              "#46039f"
             ],
             [
              0.2222222222222222,
              "#7201a8"
             ],
             [
              0.3333333333333333,
              "#9c179e"
             ],
             [
              0.4444444444444444,
              "#bd3786"
             ],
             [
              0.5555555555555556,
              "#d8576b"
             ],
             [
              0.6666666666666666,
              "#ed7953"
             ],
             [
              0.7777777777777778,
              "#fb9f3a"
             ],
             [
              0.8888888888888888,
              "#fdca26"
             ],
             [
              1,
              "#f0f921"
             ]
            ],
            "type": "histogram2d"
           }
          ],
          "histogram2dcontour": [
           {
            "colorbar": {
             "outlinewidth": 0,
             "ticks": ""
            },
            "colorscale": [
             [
              0,
              "#0d0887"
             ],
             [
              0.1111111111111111,
              "#46039f"
             ],
             [
              0.2222222222222222,
              "#7201a8"
             ],
             [
              0.3333333333333333,
              "#9c179e"
             ],
             [
              0.4444444444444444,
              "#bd3786"
             ],
             [
              0.5555555555555556,
              "#d8576b"
             ],
             [
              0.6666666666666666,
              "#ed7953"
             ],
             [
              0.7777777777777778,
              "#fb9f3a"
             ],
             [
              0.8888888888888888,
              "#fdca26"
             ],
             [
              1,
              "#f0f921"
             ]
            ],
            "type": "histogram2dcontour"
           }
          ],
          "mesh3d": [
           {
            "colorbar": {
             "outlinewidth": 0,
             "ticks": ""
            },
            "type": "mesh3d"
           }
          ],
          "parcoords": [
           {
            "line": {
             "colorbar": {
              "outlinewidth": 0,
              "ticks": ""
             }
            },
            "type": "parcoords"
           }
          ],
          "pie": [
           {
            "automargin": true,
            "type": "pie"
           }
          ],
          "scatter": [
           {
            "marker": {
             "colorbar": {
              "outlinewidth": 0,
              "ticks": ""
             }
            },
            "type": "scatter"
           }
          ],
          "scatter3d": [
           {
            "line": {
             "colorbar": {
              "outlinewidth": 0,
              "ticks": ""
             }
            },
            "marker": {
             "colorbar": {
              "outlinewidth": 0,
              "ticks": ""
             }
            },
            "type": "scatter3d"
           }
          ],
          "scattercarpet": [
           {
            "marker": {
             "colorbar": {
              "outlinewidth": 0,
              "ticks": ""
             }
            },
            "type": "scattercarpet"
           }
          ],
          "scattergeo": [
           {
            "marker": {
             "colorbar": {
              "outlinewidth": 0,
              "ticks": ""
             }
            },
            "type": "scattergeo"
           }
          ],
          "scattergl": [
           {
            "marker": {
             "colorbar": {
              "outlinewidth": 0,
              "ticks": ""
             }
            },
            "type": "scattergl"
           }
          ],
          "scattermapbox": [
           {
            "marker": {
             "colorbar": {
              "outlinewidth": 0,
              "ticks": ""
             }
            },
            "type": "scattermapbox"
           }
          ],
          "scatterpolar": [
           {
            "marker": {
             "colorbar": {
              "outlinewidth": 0,
              "ticks": ""
             }
            },
            "type": "scatterpolar"
           }
          ],
          "scatterpolargl": [
           {
            "marker": {
             "colorbar": {
              "outlinewidth": 0,
              "ticks": ""
             }
            },
            "type": "scatterpolargl"
           }
          ],
          "scatterternary": [
           {
            "marker": {
             "colorbar": {
              "outlinewidth": 0,
              "ticks": ""
             }
            },
            "type": "scatterternary"
           }
          ],
          "surface": [
           {
            "colorbar": {
             "outlinewidth": 0,
             "ticks": ""
            },
            "colorscale": [
             [
              0,
              "#0d0887"
             ],
             [
              0.1111111111111111,
              "#46039f"
             ],
             [
              0.2222222222222222,
              "#7201a8"
             ],
             [
              0.3333333333333333,
              "#9c179e"
             ],
             [
              0.4444444444444444,
              "#bd3786"
             ],
             [
              0.5555555555555556,
              "#d8576b"
             ],
             [
              0.6666666666666666,
              "#ed7953"
             ],
             [
              0.7777777777777778,
              "#fb9f3a"
             ],
             [
              0.8888888888888888,
              "#fdca26"
             ],
             [
              1,
              "#f0f921"
             ]
            ],
            "type": "surface"
           }
          ],
          "table": [
           {
            "cells": {
             "fill": {
              "color": "#EBF0F8"
             },
             "line": {
              "color": "white"
             }
            },
            "header": {
             "fill": {
              "color": "#C8D4E3"
             },
             "line": {
              "color": "white"
             }
            },
            "type": "table"
           }
          ]
         },
         "layout": {
          "annotationdefaults": {
           "arrowcolor": "#2a3f5f",
           "arrowhead": 0,
           "arrowwidth": 1
          },
          "coloraxis": {
           "colorbar": {
            "outlinewidth": 0,
            "ticks": ""
           }
          },
          "colorscale": {
           "diverging": [
            [
             0,
             "#8e0152"
            ],
            [
             0.1,
             "#c51b7d"
            ],
            [
             0.2,
             "#de77ae"
            ],
            [
             0.3,
             "#f1b6da"
            ],
            [
             0.4,
             "#fde0ef"
            ],
            [
             0.5,
             "#f7f7f7"
            ],
            [
             0.6,
             "#e6f5d0"
            ],
            [
             0.7,
             "#b8e186"
            ],
            [
             0.8,
             "#7fbc41"
            ],
            [
             0.9,
             "#4d9221"
            ],
            [
             1,
             "#276419"
            ]
           ],
           "sequential": [
            [
             0,
             "#0d0887"
            ],
            [
             0.1111111111111111,
             "#46039f"
            ],
            [
             0.2222222222222222,
             "#7201a8"
            ],
            [
             0.3333333333333333,
             "#9c179e"
            ],
            [
             0.4444444444444444,
             "#bd3786"
            ],
            [
             0.5555555555555556,
             "#d8576b"
            ],
            [
             0.6666666666666666,
             "#ed7953"
            ],
            [
             0.7777777777777778,
             "#fb9f3a"
            ],
            [
             0.8888888888888888,
             "#fdca26"
            ],
            [
             1,
             "#f0f921"
            ]
           ],
           "sequentialminus": [
            [
             0,
             "#0d0887"
            ],
            [
             0.1111111111111111,
             "#46039f"
            ],
            [
             0.2222222222222222,
             "#7201a8"
            ],
            [
             0.3333333333333333,
             "#9c179e"
            ],
            [
             0.4444444444444444,
             "#bd3786"
            ],
            [
             0.5555555555555556,
             "#d8576b"
            ],
            [
             0.6666666666666666,
             "#ed7953"
            ],
            [
             0.7777777777777778,
             "#fb9f3a"
            ],
            [
             0.8888888888888888,
             "#fdca26"
            ],
            [
             1,
             "#f0f921"
            ]
           ]
          },
          "colorway": [
           "#636efa",
           "#EF553B",
           "#00cc96",
           "#ab63fa",
           "#FFA15A",
           "#19d3f3",
           "#FF6692",
           "#B6E880",
           "#FF97FF",
           "#FECB52"
          ],
          "font": {
           "color": "#2a3f5f"
          },
          "geo": {
           "bgcolor": "white",
           "lakecolor": "white",
           "landcolor": "#E5ECF6",
           "showlakes": true,
           "showland": true,
           "subunitcolor": "white"
          },
          "hoverlabel": {
           "align": "left"
          },
          "hovermode": "closest",
          "mapbox": {
           "style": "light"
          },
          "paper_bgcolor": "white",
          "plot_bgcolor": "#E5ECF6",
          "polar": {
           "angularaxis": {
            "gridcolor": "white",
            "linecolor": "white",
            "ticks": ""
           },
           "bgcolor": "#E5ECF6",
           "radialaxis": {
            "gridcolor": "white",
            "linecolor": "white",
            "ticks": ""
           }
          },
          "scene": {
           "xaxis": {
            "backgroundcolor": "#E5ECF6",
            "gridcolor": "white",
            "gridwidth": 2,
            "linecolor": "white",
            "showbackground": true,
            "ticks": "",
            "zerolinecolor": "white"
           },
           "yaxis": {
            "backgroundcolor": "#E5ECF6",
            "gridcolor": "white",
            "gridwidth": 2,
            "linecolor": "white",
            "showbackground": true,
            "ticks": "",
            "zerolinecolor": "white"
           },
           "zaxis": {
            "backgroundcolor": "#E5ECF6",
            "gridcolor": "white",
            "gridwidth": 2,
            "linecolor": "white",
            "showbackground": true,
            "ticks": "",
            "zerolinecolor": "white"
           }
          },
          "shapedefaults": {
           "line": {
            "color": "#2a3f5f"
           }
          },
          "ternary": {
           "aaxis": {
            "gridcolor": "white",
            "linecolor": "white",
            "ticks": ""
           },
           "baxis": {
            "gridcolor": "white",
            "linecolor": "white",
            "ticks": ""
           },
           "bgcolor": "#E5ECF6",
           "caxis": {
            "gridcolor": "white",
            "linecolor": "white",
            "ticks": ""
           }
          },
          "title": {
           "x": 0.05
          },
          "xaxis": {
           "automargin": true,
           "gridcolor": "white",
           "linecolor": "white",
           "ticks": "",
           "title": {
            "standoff": 15
           },
           "zerolinecolor": "white",
           "zerolinewidth": 2
          },
          "yaxis": {
           "automargin": true,
           "gridcolor": "white",
           "linecolor": "white",
           "ticks": "",
           "title": {
            "standoff": 15
           },
           "zerolinecolor": "white",
           "zerolinewidth": 2
          }
         }
        },
        "xaxis": {
         "anchor": "y",
         "domain": [
          0,
          1
         ],
         "title": {
          "text": "columns"
         }
        },
        "yaxis": {
         "anchor": "x",
         "domain": [
          0,
          1
         ],
         "title": {
          "text": "importance"
         }
        }
       }
      },
      "text/html": [
       "<div>\n",
       "        \n",
       "        \n",
       "            <div id=\"b38f9215-2e79-4e30-899c-cc92db2e4308\" class=\"plotly-graph-div\" style=\"height:525px; width:100%;\"></div>\n",
       "            <script type=\"text/javascript\">\n",
       "                require([\"plotly\"], function(Plotly) {\n",
       "                    window.PLOTLYENV=window.PLOTLYENV || {};\n",
       "                    \n",
       "                if (document.getElementById(\"b38f9215-2e79-4e30-899c-cc92db2e4308\")) {\n",
       "                    Plotly.newPlot(\n",
       "                        'b38f9215-2e79-4e30-899c-cc92db2e4308',\n",
       "                        [{\"alignmentgroup\": \"True\", \"hovertemplate\": \"columns=%{x}<br>importance=%{y}<extra></extra>\", \"legendgroup\": \"\", \"marker\": {\"color\": \"#636efa\"}, \"name\": \"\", \"offsetgroup\": \"\", \"orientation\": \"v\", \"showlegend\": false, \"textposition\": \"auto\", \"type\": \"bar\", \"x\": [\"category1_avg_avg_salesPrice_lag_1\", \"category3_avg_avg_salesPrice_lag_1\", \"category1_avg_avg_salesPrice_lag_2\", \"category3\", \"soldWeekly\", \"category3_avg_avg_salesPrice_lag_2\", \"customerRating\", \"brand_sum_count_lag_1\", \"category1_sum_count_lag_1\", \"recentlySold\", \"category1_avg_count_lag_1\", \"category1_avg_count_lag_2\", \"avg_salesPrice_lag_2\", \"count_lag_1\", \"dateFirstSell\", \"category1_sum_count_lag_2\", \"category3_avg_avg_salesPrice_lag_5\", \"avg_salesPrice_lag_1\", \"category1\", \"category1_avg_count_lag_3\", \"category3_avg_count_lag_2\", \"category3_avg_count_lag_1\", \"brand_avg_count_lag_1\", \"brand_avg_avg_salesPrice_lag_2\", \"category3_sum_count_lag_1\", \"brand_sum_count_lag_5\", \"brand_avg_count_lag_2\", \"brand_sum_count_lag_2\", \"brand\", \"category1_sum_count_lag_3\", \"brand_sum_count_lag_3\", \"category3_avg_avg_salesPrice_lag_3\", \"category1_sum_count_lag_4\", \"brand_avg_avg_salesPrice_lag_1\", \"manufacturer\", \"category3_sum_count_lag_3\", \"category3_avg_avg_salesPrice_lag_4\", \"count_lag_4\", \"avg_salesPrice_lag_4\", \"count_lag_3\", \"category1_avg_avg_salesPrice_lag_5\", \"category1_avg_avg_salesPrice_lag_4\", \"count_lag_5\", \"category3_avg_count_lag_3\", \"brand_sum_count_lag_4\", \"brand_avg_avg_salesPrice_lag_5\", \"count_lag_2\", \"category3_sum_count_lag_2\", \"brand_avg_count_lag_5\", \"avg_salesPrice_lag_3\", \"brand_avg_avg_salesPrice_lag_3\", \"brand_avg_count_lag_4\", \"brand_avg_avg_salesPrice_lag_4\", \"category1_avg_avg_salesPrice_lag_3\", \"category3_sum_count_lag_5\", \"avg_salesPrice_lag_5\", \"brand_avg_count_lag_3\", \"category3_avg_count_lag_4\", \"category3_sum_count_lag_4\", \"category1_avg_count_lag_4\", \"category1_sum_count_lag_5\", \"category1_avg_count_lag_5\", \"category3_avg_count_lag_5\"], \"xaxis\": \"x\", \"y\": [0.08342505246400833, 0.06288023293018341, 0.05090709403157234, 0.04123006388545036, 0.039526090025901794, 0.03277572616934776, 0.028556836768984795, 0.027677930891513824, 0.02722182869911194, 0.02243540994822979, 0.02099410817027092, 0.020812278613448143, 0.019903860986232758, 0.019031399860978127, 0.01882016286253929, 0.018414724618196487, 0.018222257494926453, 0.017214957624673843, 0.01715046353638172, 0.017081573605537415, 0.016326945275068283, 0.016078030690550804, 0.01562986709177494, 0.015498608350753784, 0.015268838964402676, 0.014454023912549019, 0.014282837510108948, 0.014033446088433266, 0.01384639460593462, 0.013845188543200493, 0.013641445897519588, 0.01248895563185215, 0.011719124391674995, 0.011706124991178513, 0.011680272407829762, 0.011476006358861923, 0.01139161828905344, 0.011332869529724121, 0.010643970221281052, 0.01038648933172226, 0.010331200435757637, 0.010311944410204887, 0.01017142366617918, 0.009454411454498768, 0.00939260795712471, 0.008945013396441936, 0.008752039633691311, 0.008472626097500324, 0.008009996265172958, 0.006344673223793507, 0.006288996897637844, 0.00628351466730237, 0.006210613064467907, 0.006136475596576929, 0.005154476501047611, 0.004651600960642099, 0.002740250201895833, 0.002334913471713662, 0.0, 0.0, 0.0, 0.0, 0.0], \"yaxis\": \"y\"}],\n",
       "                        {\"barmode\": \"relative\", \"legend\": {\"tracegroupgap\": 0}, \"margin\": {\"t\": 60}, \"template\": {\"data\": {\"bar\": [{\"error_x\": {\"color\": \"#2a3f5f\"}, \"error_y\": {\"color\": \"#2a3f5f\"}, \"marker\": {\"line\": {\"color\": \"#E5ECF6\", \"width\": 0.5}}, \"type\": \"bar\"}], \"barpolar\": [{\"marker\": {\"line\": {\"color\": \"#E5ECF6\", \"width\": 0.5}}, \"type\": \"barpolar\"}], \"carpet\": [{\"aaxis\": {\"endlinecolor\": \"#2a3f5f\", \"gridcolor\": \"white\", \"linecolor\": \"white\", \"minorgridcolor\": \"white\", \"startlinecolor\": \"#2a3f5f\"}, \"baxis\": {\"endlinecolor\": \"#2a3f5f\", \"gridcolor\": \"white\", \"linecolor\": \"white\", \"minorgridcolor\": \"white\", \"startlinecolor\": \"#2a3f5f\"}, \"type\": \"carpet\"}], \"choropleth\": [{\"colorbar\": {\"outlinewidth\": 0, \"ticks\": \"\"}, \"type\": \"choropleth\"}], \"contour\": [{\"colorbar\": {\"outlinewidth\": 0, \"ticks\": \"\"}, \"colorscale\": [[0.0, \"#0d0887\"], [0.1111111111111111, \"#46039f\"], [0.2222222222222222, \"#7201a8\"], [0.3333333333333333, \"#9c179e\"], [0.4444444444444444, \"#bd3786\"], [0.5555555555555556, \"#d8576b\"], [0.6666666666666666, \"#ed7953\"], [0.7777777777777778, \"#fb9f3a\"], [0.8888888888888888, \"#fdca26\"], [1.0, \"#f0f921\"]], \"type\": \"contour\"}], \"contourcarpet\": [{\"colorbar\": {\"outlinewidth\": 0, \"ticks\": \"\"}, \"type\": \"contourcarpet\"}], \"heatmap\": [{\"colorbar\": {\"outlinewidth\": 0, \"ticks\": \"\"}, \"colorscale\": [[0.0, \"#0d0887\"], [0.1111111111111111, \"#46039f\"], [0.2222222222222222, \"#7201a8\"], [0.3333333333333333, \"#9c179e\"], [0.4444444444444444, \"#bd3786\"], [0.5555555555555556, \"#d8576b\"], [0.6666666666666666, \"#ed7953\"], [0.7777777777777778, \"#fb9f3a\"], [0.8888888888888888, \"#fdca26\"], [1.0, \"#f0f921\"]], \"type\": \"heatmap\"}], \"heatmapgl\": [{\"colorbar\": {\"outlinewidth\": 0, \"ticks\": \"\"}, \"colorscale\": [[0.0, \"#0d0887\"], [0.1111111111111111, \"#46039f\"], [0.2222222222222222, \"#7201a8\"], [0.3333333333333333, \"#9c179e\"], [0.4444444444444444, \"#bd3786\"], [0.5555555555555556, \"#d8576b\"], [0.6666666666666666, \"#ed7953\"], [0.7777777777777778, \"#fb9f3a\"], [0.8888888888888888, \"#fdca26\"], [1.0, \"#f0f921\"]], \"type\": \"heatmapgl\"}], \"histogram\": [{\"marker\": {\"colorbar\": {\"outlinewidth\": 0, \"ticks\": \"\"}}, \"type\": \"histogram\"}], \"histogram2d\": [{\"colorbar\": {\"outlinewidth\": 0, \"ticks\": \"\"}, \"colorscale\": [[0.0, \"#0d0887\"], [0.1111111111111111, \"#46039f\"], [0.2222222222222222, \"#7201a8\"], [0.3333333333333333, \"#9c179e\"], [0.4444444444444444, \"#bd3786\"], [0.5555555555555556, \"#d8576b\"], [0.6666666666666666, \"#ed7953\"], [0.7777777777777778, \"#fb9f3a\"], [0.8888888888888888, \"#fdca26\"], [1.0, \"#f0f921\"]], \"type\": \"histogram2d\"}], \"histogram2dcontour\": [{\"colorbar\": {\"outlinewidth\": 0, \"ticks\": \"\"}, \"colorscale\": [[0.0, \"#0d0887\"], [0.1111111111111111, \"#46039f\"], [0.2222222222222222, \"#7201a8\"], [0.3333333333333333, \"#9c179e\"], [0.4444444444444444, \"#bd3786\"], [0.5555555555555556, \"#d8576b\"], [0.6666666666666666, \"#ed7953\"], [0.7777777777777778, \"#fb9f3a\"], [0.8888888888888888, \"#fdca26\"], [1.0, \"#f0f921\"]], \"type\": \"histogram2dcontour\"}], \"mesh3d\": [{\"colorbar\": {\"outlinewidth\": 0, \"ticks\": \"\"}, \"type\": \"mesh3d\"}], \"parcoords\": [{\"line\": {\"colorbar\": {\"outlinewidth\": 0, \"ticks\": \"\"}}, \"type\": \"parcoords\"}], \"pie\": [{\"automargin\": true, \"type\": \"pie\"}], \"scatter\": [{\"marker\": {\"colorbar\": {\"outlinewidth\": 0, \"ticks\": \"\"}}, \"type\": \"scatter\"}], \"scatter3d\": [{\"line\": {\"colorbar\": {\"outlinewidth\": 0, \"ticks\": \"\"}}, \"marker\": {\"colorbar\": {\"outlinewidth\": 0, \"ticks\": \"\"}}, \"type\": \"scatter3d\"}], \"scattercarpet\": [{\"marker\": {\"colorbar\": {\"outlinewidth\": 0, \"ticks\": \"\"}}, \"type\": \"scattercarpet\"}], \"scattergeo\": [{\"marker\": {\"colorbar\": {\"outlinewidth\": 0, \"ticks\": \"\"}}, \"type\": \"scattergeo\"}], \"scattergl\": [{\"marker\": {\"colorbar\": {\"outlinewidth\": 0, \"ticks\": \"\"}}, \"type\": \"scattergl\"}], \"scattermapbox\": [{\"marker\": {\"colorbar\": {\"outlinewidth\": 0, \"ticks\": \"\"}}, \"type\": \"scattermapbox\"}], \"scatterpolar\": [{\"marker\": {\"colorbar\": {\"outlinewidth\": 0, \"ticks\": \"\"}}, \"type\": \"scatterpolar\"}], \"scatterpolargl\": [{\"marker\": {\"colorbar\": {\"outlinewidth\": 0, \"ticks\": \"\"}}, \"type\": \"scatterpolargl\"}], \"scatterternary\": [{\"marker\": {\"colorbar\": {\"outlinewidth\": 0, \"ticks\": \"\"}}, \"type\": \"scatterternary\"}], \"surface\": [{\"colorbar\": {\"outlinewidth\": 0, \"ticks\": \"\"}, \"colorscale\": [[0.0, \"#0d0887\"], [0.1111111111111111, \"#46039f\"], [0.2222222222222222, \"#7201a8\"], [0.3333333333333333, \"#9c179e\"], [0.4444444444444444, \"#bd3786\"], [0.5555555555555556, \"#d8576b\"], [0.6666666666666666, \"#ed7953\"], [0.7777777777777778, \"#fb9f3a\"], [0.8888888888888888, \"#fdca26\"], [1.0, \"#f0f921\"]], \"type\": \"surface\"}], \"table\": [{\"cells\": {\"fill\": {\"color\": \"#EBF0F8\"}, \"line\": {\"color\": \"white\"}}, \"header\": {\"fill\": {\"color\": \"#C8D4E3\"}, \"line\": {\"color\": \"white\"}}, \"type\": \"table\"}]}, \"layout\": {\"annotationdefaults\": {\"arrowcolor\": \"#2a3f5f\", \"arrowhead\": 0, \"arrowwidth\": 1}, \"coloraxis\": {\"colorbar\": {\"outlinewidth\": 0, \"ticks\": \"\"}}, \"colorscale\": {\"diverging\": [[0, \"#8e0152\"], [0.1, \"#c51b7d\"], [0.2, \"#de77ae\"], [0.3, \"#f1b6da\"], [0.4, \"#fde0ef\"], [0.5, \"#f7f7f7\"], [0.6, \"#e6f5d0\"], [0.7, \"#b8e186\"], [0.8, \"#7fbc41\"], [0.9, \"#4d9221\"], [1, \"#276419\"]], \"sequential\": [[0.0, \"#0d0887\"], [0.1111111111111111, \"#46039f\"], [0.2222222222222222, \"#7201a8\"], [0.3333333333333333, \"#9c179e\"], [0.4444444444444444, \"#bd3786\"], [0.5555555555555556, \"#d8576b\"], [0.6666666666666666, \"#ed7953\"], [0.7777777777777778, \"#fb9f3a\"], [0.8888888888888888, \"#fdca26\"], [1.0, \"#f0f921\"]], \"sequentialminus\": [[0.0, \"#0d0887\"], [0.1111111111111111, \"#46039f\"], [0.2222222222222222, \"#7201a8\"], [0.3333333333333333, \"#9c179e\"], [0.4444444444444444, \"#bd3786\"], [0.5555555555555556, \"#d8576b\"], [0.6666666666666666, \"#ed7953\"], [0.7777777777777778, \"#fb9f3a\"], [0.8888888888888888, \"#fdca26\"], [1.0, \"#f0f921\"]]}, \"colorway\": [\"#636efa\", \"#EF553B\", \"#00cc96\", \"#ab63fa\", \"#FFA15A\", \"#19d3f3\", \"#FF6692\", \"#B6E880\", \"#FF97FF\", \"#FECB52\"], \"font\": {\"color\": \"#2a3f5f\"}, \"geo\": {\"bgcolor\": \"white\", \"lakecolor\": \"white\", \"landcolor\": \"#E5ECF6\", \"showlakes\": true, \"showland\": true, \"subunitcolor\": \"white\"}, \"hoverlabel\": {\"align\": \"left\"}, \"hovermode\": \"closest\", \"mapbox\": {\"style\": \"light\"}, \"paper_bgcolor\": \"white\", \"plot_bgcolor\": \"#E5ECF6\", \"polar\": {\"angularaxis\": {\"gridcolor\": \"white\", \"linecolor\": \"white\", \"ticks\": \"\"}, \"bgcolor\": \"#E5ECF6\", \"radialaxis\": {\"gridcolor\": \"white\", \"linecolor\": \"white\", \"ticks\": \"\"}}, \"scene\": {\"xaxis\": {\"backgroundcolor\": \"#E5ECF6\", \"gridcolor\": \"white\", \"gridwidth\": 2, \"linecolor\": \"white\", \"showbackground\": true, \"ticks\": \"\", \"zerolinecolor\": \"white\"}, \"yaxis\": {\"backgroundcolor\": \"#E5ECF6\", \"gridcolor\": \"white\", \"gridwidth\": 2, \"linecolor\": \"white\", \"showbackground\": true, \"ticks\": \"\", \"zerolinecolor\": \"white\"}, \"zaxis\": {\"backgroundcolor\": \"#E5ECF6\", \"gridcolor\": \"white\", \"gridwidth\": 2, \"linecolor\": \"white\", \"showbackground\": true, \"ticks\": \"\", \"zerolinecolor\": \"white\"}}, \"shapedefaults\": {\"line\": {\"color\": \"#2a3f5f\"}}, \"ternary\": {\"aaxis\": {\"gridcolor\": \"white\", \"linecolor\": \"white\", \"ticks\": \"\"}, \"baxis\": {\"gridcolor\": \"white\", \"linecolor\": \"white\", \"ticks\": \"\"}, \"bgcolor\": \"#E5ECF6\", \"caxis\": {\"gridcolor\": \"white\", \"linecolor\": \"white\", \"ticks\": \"\"}}, \"title\": {\"x\": 0.05}, \"xaxis\": {\"automargin\": true, \"gridcolor\": \"white\", \"linecolor\": \"white\", \"ticks\": \"\", \"title\": {\"standoff\": 15}, \"zerolinecolor\": \"white\", \"zerolinewidth\": 2}, \"yaxis\": {\"automargin\": true, \"gridcolor\": \"white\", \"linecolor\": \"white\", \"ticks\": \"\", \"title\": {\"standoff\": 15}, \"zerolinecolor\": \"white\", \"zerolinewidth\": 2}}}, \"xaxis\": {\"anchor\": \"y\", \"domain\": [0.0, 1.0], \"title\": {\"text\": \"columns\"}}, \"yaxis\": {\"anchor\": \"x\", \"domain\": [0.0, 1.0], \"title\": {\"text\": \"importance\"}}},\n",
       "                        {\"responsive\": true}\n",
       "                    ).then(function(){\n",
       "                            \n",
       "var gd = document.getElementById('b38f9215-2e79-4e30-899c-cc92db2e4308');\n",
       "var x = new MutationObserver(function (mutations, observer) {{\n",
       "        var display = window.getComputedStyle(gd).display;\n",
       "        if (!display || display === 'none') {{\n",
       "            console.log([gd, 'removed!']);\n",
       "            Plotly.purge(gd);\n",
       "            observer.disconnect();\n",
       "        }}\n",
       "}});\n",
       "\n",
       "// Listen for the removal of the full notebook cells\n",
       "var notebookContainer = gd.closest('#notebook-container');\n",
       "if (notebookContainer) {{\n",
       "    x.observe(notebookContainer, {childList: true});\n",
       "}}\n",
       "\n",
       "// Listen for the clearing of the current output cell\n",
       "var outputEl = gd.closest('.output');\n",
       "if (outputEl) {{\n",
       "    x.observe(outputEl, {childList: true});\n",
       "}}\n",
       "\n",
       "                        })\n",
       "                };\n",
       "                });\n",
       "            </script>\n",
       "        </div>"
      ]
     },
     "metadata": {},
     "output_type": "display_data"
    }
   ],
   "source": [
    "import plotly_express as px\n",
    "columns = X_train.columns\n",
    "feature_importances = pd.DataFrame({'columns': columns,'importance':model.feature_importances_})\n",
    "feature_importances = feature_importances.sort_values(by='importance',ascending=False)\n",
    "px.bar(feature_importances,x='columns',y='importance')"
   ]
  },
  {
   "cell_type": "code",
   "execution_count": 40,
   "metadata": {},
   "outputs": [],
   "source": [
    "def evaluate_result(y: dict, y_pred: dict):\n",
    "    monetary_value = 0\n",
    "    y_pred = defaultdict(int, y_pred)  # return prediction of 0 for items without prediction\n",
    "    \n",
    "    for item in set(y_pred).difference(set(y)):\n",
    "        y[item] = 0  # make sure that all items for which a demand has been predicted are contained in the actual demands\n",
    "    \n",
    "    for item, demand in y.items():\n",
    "        predicted_demand = y_pred[item]\n",
    "        price = product_prices[item]\n",
    "        monetary_value += price * min(demand, predicted_demand)\n",
    "        if predicted_demand > demand:\n",
    "            monetary_value -= .6 * price * (predicted_demand - demand)\n",
    "            \n",
    "    return monetary_value"
   ]
  },
  {
   "cell_type": "code",
   "execution_count": 41,
   "metadata": {},
   "outputs": [
    {
     "data": {
      "text/html": [
       "<div>\n",
       "<style scoped>\n",
       "    .dataframe tbody tr th:only-of-type {\n",
       "        vertical-align: middle;\n",
       "    }\n",
       "\n",
       "    .dataframe tbody tr th {\n",
       "        vertical-align: top;\n",
       "    }\n",
       "\n",
       "    .dataframe thead th {\n",
       "        text-align: right;\n",
       "    }\n",
       "</style>\n",
       "<table border=\"1\" class=\"dataframe\">\n",
       "  <thead>\n",
       "    <tr style=\"text-align: right;\">\n",
       "      <th></th>\n",
       "      <th>brand</th>\n",
       "      <th>manufacturer</th>\n",
       "      <th>customerRating</th>\n",
       "      <th>category1</th>\n",
       "      <th>category2</th>\n",
       "      <th>category3</th>\n",
       "      <th>recommendedRetailPrice</th>\n",
       "    </tr>\n",
       "    <tr>\n",
       "      <th>itemID</th>\n",
       "      <th></th>\n",
       "      <th></th>\n",
       "      <th></th>\n",
       "      <th></th>\n",
       "      <th></th>\n",
       "      <th></th>\n",
       "      <th></th>\n",
       "    </tr>\n",
       "  </thead>\n",
       "  <tbody>\n",
       "    <tr>\n",
       "      <th>1</th>\n",
       "      <td>0</td>\n",
       "      <td>1</td>\n",
       "      <td>4.38</td>\n",
       "      <td>1</td>\n",
       "      <td>1</td>\n",
       "      <td>1</td>\n",
       "      <td>8.84</td>\n",
       "    </tr>\n",
       "    <tr>\n",
       "      <th>2</th>\n",
       "      <td>0</td>\n",
       "      <td>2</td>\n",
       "      <td>3.00</td>\n",
       "      <td>1</td>\n",
       "      <td>2</td>\n",
       "      <td>1</td>\n",
       "      <td>16.92</td>\n",
       "    </tr>\n",
       "    <tr>\n",
       "      <th>3</th>\n",
       "      <td>0</td>\n",
       "      <td>3</td>\n",
       "      <td>5.00</td>\n",
       "      <td>1</td>\n",
       "      <td>3</td>\n",
       "      <td>1</td>\n",
       "      <td>15.89</td>\n",
       "    </tr>\n",
       "    <tr>\n",
       "      <th>4</th>\n",
       "      <td>0</td>\n",
       "      <td>2</td>\n",
       "      <td>4.44</td>\n",
       "      <td>1</td>\n",
       "      <td>2</td>\n",
       "      <td>1</td>\n",
       "      <td>40.17</td>\n",
       "    </tr>\n",
       "    <tr>\n",
       "      <th>5</th>\n",
       "      <td>0</td>\n",
       "      <td>2</td>\n",
       "      <td>2.33</td>\n",
       "      <td>1</td>\n",
       "      <td>1</td>\n",
       "      <td>1</td>\n",
       "      <td>17.04</td>\n",
       "    </tr>\n",
       "  </tbody>\n",
       "</table>\n",
       "</div>"
      ],
      "text/plain": [
       "        brand  manufacturer  customerRating  category1  category2  category3  \\\n",
       "itemID                                                                         \n",
       "1           0             1            4.38          1          1          1   \n",
       "2           0             2            3.00          1          2          1   \n",
       "3           0             3            5.00          1          3          1   \n",
       "4           0             2            4.44          1          2          1   \n",
       "5           0             2            2.33          1          1          1   \n",
       "\n",
       "        recommendedRetailPrice  \n",
       "itemID                          \n",
       "1                         8.84  \n",
       "2                        16.92  \n",
       "3                        15.89  \n",
       "4                        40.17  \n",
       "5                        17.04  "
      ]
     },
     "execution_count": 41,
     "metadata": {},
     "output_type": "execute_result"
    }
   ],
   "source": [
    "df_info = pd.read_csv('data/infos.csv', sep='|', index_col='itemID')\n",
    "df_items = pd.read_csv('data/items.csv', sep='|', index_col='itemID')\n",
    "df_items.head()"
   ]
  },
  {
   "cell_type": "code",
   "execution_count": 42,
   "metadata": {},
   "outputs": [],
   "source": [
    "# actual demand\n",
    "y = df_test.groupby(by='itemID')['order'].sum().to_dict()\n",
    "\n",
    "# baseline 1 (average demand of previous 14 days)\n",
    "y_baseline1 = df_train[df_train['time'] >= '2018-05-19'].groupby(by='itemID')['order'].sum().to_dict()\n",
    "\n",
    "# baseline 2 (average demand of previous half year)\n",
    "total_orders = df_train.groupby(by='itemID')['order'].sum().to_dict()\n",
    "total_observed_days = (df_train['time'].dt.normalize().max() - df_train['time'].dt.normalize().min()).days\n",
    "y_baseline2 = {item: orders / total_observed_days * 14 for item, orders in total_orders.items()}  # 14-day avg. demand\n",
    "\n",
    "df_info = pd.read_csv('data/infos.csv', sep='|', index_col='itemID')\n",
    "df_items = pd.read_csv('data/items.csv', sep='|', index_col='itemID')\n",
    "product_prices = df_info['simulationPrice'].to_dict()"
   ]
  },
  {
   "cell_type": "code",
   "execution_count": null,
   "metadata": {},
   "outputs": [],
   "source": [
    "# apply to unseen data\n",
    "y_xgboost_all = dict()\n",
    "for prod in X_test.itemID.unique():\n",
    "    train_predict = pd.DataFrame(scaler.inverse_transform(pd.DataFrame(model.predict(X_test[X_test.itemID == prod].drop(['itemID'], axis=1))))).rename(columns={0:'predicted_count'})\n",
    "    # train_predict[\"actual_count\"] = test[test.itemID == prod][\"order\"].sum()\n",
    "    y_xgboost_all[prod] = int(train_predict[\"predicted_count\"].sum().round())\n",
    "#     if prod in df_train.itemID.unique():\n",
    "#         y_xgboost_all[prod] = int(train_predict[\"predicted_count\"].sum().round())\n",
    "#     else:\n",
    "#         y_xgboost_all[prod] = 0"
   ]
  },
  {
   "cell_type": "code",
   "execution_count": null,
   "metadata": {},
   "outputs": [],
   "source": [
    "# perfect result\n",
    "print(f'Perfect Result: {evaluate_result(y, y):.2f}')\n",
    "\n",
    "# baseline 1\n",
    "print(f'Baseline 1: {evaluate_result(y, y_baseline1):.2f}')\n",
    "\n",
    "# baseline 2\n",
    "print(f'Baseline 2: {evaluate_result(y, y_baseline2):.2f}')\n",
    "\n",
    "# random forest\n",
    "print(f'XGBoost: {evaluate_result(y, y_xgboost_all):.2f}')\n",
    "# 953796.09"
   ]
  },
  {
   "cell_type": "code",
   "execution_count": null,
   "metadata": {},
   "outputs": [],
   "source": []
  }
 ],
 "metadata": {
  "kernelspec": {
   "display_name": "Python 3",
   "language": "python",
   "name": "python3"
  },
  "language_info": {
   "codemirror_mode": {
    "name": "ipython",
    "version": 3
   },
   "file_extension": ".py",
   "mimetype": "text/x-python",
   "name": "python",
   "nbconvert_exporter": "python",
   "pygments_lexer": "ipython3",
   "version": "3.7.6"
  }
 },
 "nbformat": 4,
 "nbformat_minor": 4
}
