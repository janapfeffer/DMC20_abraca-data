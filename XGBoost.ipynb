{
 "cells": [
  {
   "cell_type": "code",
   "execution_count": 18,
   "metadata": {},
   "outputs": [],
   "source": [
    "# import packages\n",
    "import pandas as pd\n",
    "# import seaborn as sb\n",
    "import matplotlib.pyplot as plt\n",
    "import numpy as np\n",
    "import datetime\n",
    "import re\n",
    "from sklearn.externals import joblib \n",
    "from sklearn.preprocessing import MinMaxScaler\n",
    "from sklearn.decomposition import PCA\n",
    "from scipy.interpolate import interpn\n",
    "from collections import defaultdict"
   ]
  },
  {
   "cell_type": "code",
   "execution_count": 3,
   "metadata": {},
   "outputs": [],
   "source": [
    "# suppress warnings\n",
    "import warnings\n",
    "warnings.filterwarnings('ignore')"
   ]
  },
  {
   "cell_type": "code",
   "execution_count": 4,
   "metadata": {},
   "outputs": [],
   "source": [
    "sales_means =pd.read_csv('./data/sales_means.csv', sep='|')\n",
    "scaler = joblib.load('scaler.pkl') \n",
    "df_test = pd.read_csv('data/orders0206_test.csv', sep='|', parse_dates=['time'])\n",
    "df_test['date'] = [d.date() for d in df_test['time']]\n",
    "df_train = pd.read_csv('data/orders0206_train.csv', sep='|', parse_dates=['time'])\n",
    "df_train['date'] = [d.date() for d in df_train['time']]"
   ]
  },
  {
   "cell_type": "code",
   "execution_count": 6,
   "metadata": {},
   "outputs": [],
   "source": [
    "X_train = sales_means[sales_means['weekGroup']<=9]\n",
    "X_cv =  sales_means[sales_means['weekGroup']==10]\n",
    "X_test = sales_means[sales_means['weekGroup']==11]\n",
    "Y_train = X_train['count']\n",
    "Y_cv = X_cv['count']\n",
    "Y_test = X_test['count']\n",
    "del X_train['count']\n",
    "del X_cv['count']\n",
    "del X_test['count']\n",
    "del X_train['weekGroup']\n",
    "del X_cv['weekGroup']\n",
    "del X_test['weekGroup']"
   ]
  },
  {
   "cell_type": "code",
   "execution_count": 7,
   "metadata": {},
   "outputs": [],
   "source": [
    "del X_train['itemID']\n",
    "del X_cv['itemID']"
   ]
  },
  {
   "cell_type": "code",
   "execution_count": 24,
   "metadata": {
    "scrolled": true
   },
   "outputs": [
    {
     "name": "stdout",
     "output_type": "stream",
     "text": [
      "[18:28:54] WARNING: /Users/travis/build/dmlc/xgboost/src/learner.cc:480: \n",
      "Parameters: { silent } might not be used.\n",
      "\n",
      "  This may not be accurate due to some parameters are only used in language bindings but\n",
      "  passed down to XGBoost core.  Or some parameters are not used but slip through this\n",
      "  verification. Please open an issue if you find above cases.\n",
      "\n",
      "\n",
      "[0]\tvalidation_0-rmse:0.44138\tvalidation_1-rmse:0.44266\n",
      "Multiple eval metrics have been passed: 'validation_1-rmse' will be used for early stopping.\n",
      "\n",
      "Will train until validation_1-rmse hasn't improved in 10 rounds.\n",
      "[1]\tvalidation_0-rmse:0.39810\tvalidation_1-rmse:0.39935\n",
      "[2]\tvalidation_0-rmse:0.35927\tvalidation_1-rmse:0.36051\n",
      "[3]\tvalidation_0-rmse:0.32448\tvalidation_1-rmse:0.32591\n",
      "[4]\tvalidation_0-rmse:0.29323\tvalidation_1-rmse:0.29472\n",
      "[5]\tvalidation_0-rmse:0.26515\tvalidation_1-rmse:0.26671\n",
      "[6]\tvalidation_0-rmse:0.23993\tvalidation_1-rmse:0.24146\n",
      "[7]\tvalidation_0-rmse:0.21722\tvalidation_1-rmse:0.21898\n",
      "[8]\tvalidation_0-rmse:0.19678\tvalidation_1-rmse:0.19868\n",
      "[9]\tvalidation_0-rmse:0.17841\tvalidation_1-rmse:0.18014\n",
      "[10]\tvalidation_0-rmse:0.16184\tvalidation_1-rmse:0.16370\n",
      "[11]\tvalidation_0-rmse:0.14697\tvalidation_1-rmse:0.14863\n",
      "[12]\tvalidation_0-rmse:0.13358\tvalidation_1-rmse:0.13503\n",
      "[13]\tvalidation_0-rmse:0.12154\tvalidation_1-rmse:0.12295\n",
      "[14]\tvalidation_0-rmse:0.11077\tvalidation_1-rmse:0.11225\n",
      "[15]\tvalidation_0-rmse:0.10108\tvalidation_1-rmse:0.10248\n",
      "[16]\tvalidation_0-rmse:0.09243\tvalidation_1-rmse:0.09374\n",
      "[17]\tvalidation_0-rmse:0.08467\tvalidation_1-rmse:0.08581\n",
      "[18]\tvalidation_0-rmse:0.07777\tvalidation_1-rmse:0.07893\n",
      "[19]\tvalidation_0-rmse:0.07165\tvalidation_1-rmse:0.07263\n",
      "[20]\tvalidation_0-rmse:0.06620\tvalidation_1-rmse:0.06707\n",
      "[21]\tvalidation_0-rmse:0.06140\tvalidation_1-rmse:0.06226\n",
      "[22]\tvalidation_0-rmse:0.05719\tvalidation_1-rmse:0.05789\n",
      "[23]\tvalidation_0-rmse:0.05345\tvalidation_1-rmse:0.05387\n",
      "[24]\tvalidation_0-rmse:0.05023\tvalidation_1-rmse:0.05054\n",
      "[25]\tvalidation_0-rmse:0.04740\tvalidation_1-rmse:0.04754\n",
      "[26]\tvalidation_0-rmse:0.04494\tvalidation_1-rmse:0.04485\n",
      "[27]\tvalidation_0-rmse:0.04286\tvalidation_1-rmse:0.04274\n",
      "[28]\tvalidation_0-rmse:0.04101\tvalidation_1-rmse:0.04072\n",
      "[29]\tvalidation_0-rmse:0.03946\tvalidation_1-rmse:0.03912\n",
      "[30]\tvalidation_0-rmse:0.03813\tvalidation_1-rmse:0.03776\n",
      "[31]\tvalidation_0-rmse:0.03699\tvalidation_1-rmse:0.03651\n",
      "[32]\tvalidation_0-rmse:0.03604\tvalidation_1-rmse:0.03550\n",
      "[33]\tvalidation_0-rmse:0.03524\tvalidation_1-rmse:0.03466\n",
      "[34]\tvalidation_0-rmse:0.03457\tvalidation_1-rmse:0.03390\n",
      "[35]\tvalidation_0-rmse:0.03399\tvalidation_1-rmse:0.03331\n",
      "[36]\tvalidation_0-rmse:0.03348\tvalidation_1-rmse:0.03268\n",
      "[37]\tvalidation_0-rmse:0.03306\tvalidation_1-rmse:0.03216\n",
      "[38]\tvalidation_0-rmse:0.03272\tvalidation_1-rmse:0.03174\n",
      "[39]\tvalidation_0-rmse:0.03243\tvalidation_1-rmse:0.03146\n",
      "[40]\tvalidation_0-rmse:0.03215\tvalidation_1-rmse:0.03121\n",
      "[41]\tvalidation_0-rmse:0.03195\tvalidation_1-rmse:0.03102\n",
      "[42]\tvalidation_0-rmse:0.03176\tvalidation_1-rmse:0.03085\n",
      "[43]\tvalidation_0-rmse:0.03161\tvalidation_1-rmse:0.03071\n",
      "[44]\tvalidation_0-rmse:0.03144\tvalidation_1-rmse:0.03050\n",
      "[45]\tvalidation_0-rmse:0.03132\tvalidation_1-rmse:0.03041\n",
      "[46]\tvalidation_0-rmse:0.03121\tvalidation_1-rmse:0.03024\n",
      "[47]\tvalidation_0-rmse:0.03115\tvalidation_1-rmse:0.03016\n",
      "[48]\tvalidation_0-rmse:0.03106\tvalidation_1-rmse:0.03011\n",
      "[49]\tvalidation_0-rmse:0.03096\tvalidation_1-rmse:0.02998\n",
      "[50]\tvalidation_0-rmse:0.03087\tvalidation_1-rmse:0.02986\n",
      "[51]\tvalidation_0-rmse:0.03081\tvalidation_1-rmse:0.02979\n",
      "[52]\tvalidation_0-rmse:0.03076\tvalidation_1-rmse:0.02976\n",
      "[53]\tvalidation_0-rmse:0.03068\tvalidation_1-rmse:0.02974\n",
      "[54]\tvalidation_0-rmse:0.03065\tvalidation_1-rmse:0.02967\n",
      "[55]\tvalidation_0-rmse:0.03061\tvalidation_1-rmse:0.02964\n",
      "[56]\tvalidation_0-rmse:0.03056\tvalidation_1-rmse:0.02960\n",
      "[57]\tvalidation_0-rmse:0.03054\tvalidation_1-rmse:0.02955\n",
      "[58]\tvalidation_0-rmse:0.03052\tvalidation_1-rmse:0.02953\n",
      "[59]\tvalidation_0-rmse:0.03049\tvalidation_1-rmse:0.02949\n",
      "[60]\tvalidation_0-rmse:0.03044\tvalidation_1-rmse:0.02945\n",
      "[61]\tvalidation_0-rmse:0.03038\tvalidation_1-rmse:0.02947\n",
      "[62]\tvalidation_0-rmse:0.03037\tvalidation_1-rmse:0.02945\n",
      "[63]\tvalidation_0-rmse:0.03034\tvalidation_1-rmse:0.02943\n",
      "[64]\tvalidation_0-rmse:0.03029\tvalidation_1-rmse:0.02943\n",
      "[65]\tvalidation_0-rmse:0.03027\tvalidation_1-rmse:0.02943\n",
      "[66]\tvalidation_0-rmse:0.03023\tvalidation_1-rmse:0.02941\n",
      "[67]\tvalidation_0-rmse:0.03018\tvalidation_1-rmse:0.02940\n",
      "[68]\tvalidation_0-rmse:0.03015\tvalidation_1-rmse:0.02938\n",
      "[69]\tvalidation_0-rmse:0.03013\tvalidation_1-rmse:0.02933\n",
      "[70]\tvalidation_0-rmse:0.03009\tvalidation_1-rmse:0.02930\n",
      "[71]\tvalidation_0-rmse:0.03006\tvalidation_1-rmse:0.02927\n",
      "[72]\tvalidation_0-rmse:0.03004\tvalidation_1-rmse:0.02923\n",
      "[73]\tvalidation_0-rmse:0.03001\tvalidation_1-rmse:0.02922\n",
      "[74]\tvalidation_0-rmse:0.02999\tvalidation_1-rmse:0.02925\n",
      "[75]\tvalidation_0-rmse:0.02997\tvalidation_1-rmse:0.02926\n",
      "[76]\tvalidation_0-rmse:0.02991\tvalidation_1-rmse:0.02927\n",
      "[77]\tvalidation_0-rmse:0.02987\tvalidation_1-rmse:0.02929\n",
      "[78]\tvalidation_0-rmse:0.02983\tvalidation_1-rmse:0.02929\n",
      "[79]\tvalidation_0-rmse:0.02979\tvalidation_1-rmse:0.02930\n",
      "[80]\tvalidation_0-rmse:0.02974\tvalidation_1-rmse:0.02928\n",
      "[81]\tvalidation_0-rmse:0.02970\tvalidation_1-rmse:0.02928\n",
      "[82]\tvalidation_0-rmse:0.02968\tvalidation_1-rmse:0.02922\n",
      "[83]\tvalidation_0-rmse:0.02967\tvalidation_1-rmse:0.02921\n",
      "[84]\tvalidation_0-rmse:0.02964\tvalidation_1-rmse:0.02921\n",
      "[85]\tvalidation_0-rmse:0.02960\tvalidation_1-rmse:0.02922\n",
      "[86]\tvalidation_0-rmse:0.02958\tvalidation_1-rmse:0.02921\n",
      "[87]\tvalidation_0-rmse:0.02954\tvalidation_1-rmse:0.02924\n",
      "[88]\tvalidation_0-rmse:0.02953\tvalidation_1-rmse:0.02924\n",
      "[89]\tvalidation_0-rmse:0.02951\tvalidation_1-rmse:0.02925\n",
      "[90]\tvalidation_0-rmse:0.02949\tvalidation_1-rmse:0.02924\n",
      "[91]\tvalidation_0-rmse:0.02945\tvalidation_1-rmse:0.02924\n",
      "[92]\tvalidation_0-rmse:0.02944\tvalidation_1-rmse:0.02923\n",
      "[93]\tvalidation_0-rmse:0.02940\tvalidation_1-rmse:0.02921\n",
      "[94]\tvalidation_0-rmse:0.02938\tvalidation_1-rmse:0.02919\n",
      "[95]\tvalidation_0-rmse:0.02936\tvalidation_1-rmse:0.02919\n",
      "[96]\tvalidation_0-rmse:0.02934\tvalidation_1-rmse:0.02918\n",
      "[97]\tvalidation_0-rmse:0.02931\tvalidation_1-rmse:0.02917\n",
      "[98]\tvalidation_0-rmse:0.02929\tvalidation_1-rmse:0.02917\n",
      "[99]\tvalidation_0-rmse:0.02925\tvalidation_1-rmse:0.02915\n"
     ]
    },
    {
     "data": {
      "text/plain": [
       "XGBRegressor(base_score=0.5, booster='gbtree', colsample_bylevel=1,\n",
       "             colsample_bynode=1, colsample_bytree=0.8, gamma=0, gpu_id=-1,\n",
       "             importance_type='gain', interaction_constraints='',\n",
       "             learning_rate=0.1, max_delta_step=0, max_depth=4,\n",
       "             min_child_weight=1, missing=nan, monotone_constraints='()',\n",
       "             n_estimators=100, n_jobs=0, num_parallel_tree=1,\n",
       "             objective='reg:logistic', random_state=0, reg_alpha=0,\n",
       "             reg_lambda=1, scale_pos_weight=1, silent=1, subsample=0.3,\n",
       "             tree_method='exact', validate_parameters=1, verbosity=None)"
      ]
     },
     "execution_count": 24,
     "metadata": {},
     "output_type": "execute_result"
    }
   ],
   "source": [
    "from xgboost import XGBRegressor\n",
    "model = XGBRegressor(\n",
    "    booster = 'gbtree',\n",
    "     colsample_bytree = 0.8,\n",
    "     gamma = 0,\n",
    "     learning_rate = 0.1,\n",
    "     max_depth = 4,\n",
    "     min_child_weight = 1,\n",
    "     objective = 'reg:logistic',\n",
    "     silent = 1,\n",
    "     subsample = 0.3)\n",
    "model.fit(\n",
    "    X_train, \n",
    "    Y_train, \n",
    "    eval_metric=\"rmse\", \n",
    "    eval_set=[(X_train, Y_train), (X_cv, Y_cv)], \n",
    "    verbose=True, \n",
    "    early_stopping_rounds = 10)"
   ]
  },
  {
   "cell_type": "code",
   "execution_count": 25,
   "metadata": {
    "scrolled": false
   },
   "outputs": [
    {
     "data": {
      "application/vnd.plotly.v1+json": {
       "config": {
        "plotlyServerURL": "https://plot.ly"
       },
       "data": [
        {
         "alignmentgroup": "True",
         "hovertemplate": "columns=%{x}<br>importance=%{y}<extra></extra>",
         "legendgroup": "",
         "marker": {
          "color": "#636efa"
         },
         "name": "",
         "offsetgroup": "",
         "orientation": "v",
         "showlegend": false,
         "textposition": "auto",
         "type": "bar",
         "x": [
          "category1_avg_avg_salesPrice_lag_1",
          "category3_avg_avg_salesPrice_lag_1",
          "soldWeekly",
          "category3",
          "category1_avg_avg_salesPrice_lag_2",
          "category1_sum_count_lag_1",
          "category1_avg_count_lag_3",
          "category1_sum_count_lag_2",
          "category3_avg_avg_salesPrice_lag_2",
          "category1_avg_count_lag_1",
          "brand_sum_count_lag_1",
          "category3_sum_count_lag_1",
          "customerRating",
          "brand_sum_count_lag_2",
          "count_lag_1",
          "category3_avg_avg_salesPrice_lag_3",
          "brand_avg_count_lag_1",
          "recentlySold",
          "brand_sum_count_lag_4",
          "category3_sum_count_lag_5",
          "category1_avg_avg_salesPrice_lag_3",
          "avg_salesPrice_lag_1",
          "category1_avg_count_lag_2",
          "brand_avg_count_lag_5",
          "avg_salesPrice_lag_5",
          "category3_avg_count_lag_1",
          "dateFirstSell",
          "brand",
          "category1_avg_avg_salesPrice_lag_5",
          "category3_avg_avg_salesPrice_lag_5",
          "category1_avg_count_lag_4",
          "count_lag_5",
          "category3_sum_count_lag_3",
          "category3_sum_count_lag_4",
          "brand_sum_count_lag_3",
          "avg_salesPrice_lag_2",
          "category3_avg_count_lag_3",
          "category1_sum_count_lag_3",
          "brand_avg_avg_salesPrice_lag_1",
          "category1",
          "manufacturer",
          "brand_avg_avg_salesPrice_lag_4",
          "category3_sum_count_lag_2",
          "avg_salesPrice_lag_4",
          "category3_avg_avg_salesPrice_lag_4",
          "brand_avg_avg_salesPrice_lag_5",
          "brand_avg_count_lag_4",
          "count_lag_3",
          "brand_sum_count_lag_5",
          "category3_avg_count_lag_2",
          "brand_avg_count_lag_2",
          "count_lag_2",
          "brand_avg_count_lag_3",
          "count_lag_4",
          "brand_avg_avg_salesPrice_lag_3",
          "brand_avg_avg_salesPrice_lag_2",
          "category3_avg_count_lag_4",
          "category1_sum_count_lag_4",
          "category1_avg_avg_salesPrice_lag_4",
          "category1_avg_count_lag_5",
          "avg_salesPrice_lag_3",
          "category1_sum_count_lag_5",
          "category3_avg_count_lag_5"
         ],
         "xaxis": "x",
         "y": [
          0.05386611446738243,
          0.04325348138809204,
          0.03081354685127735,
          0.02882254682481289,
          0.024864887818694115,
          0.023813165724277496,
          0.023451505228877068,
          0.022944018244743347,
          0.022517411038279533,
          0.022144515067338943,
          0.021438226103782654,
          0.02025824598968029,
          0.020149599760770798,
          0.01955006830394268,
          0.018484707921743393,
          0.018060509115457535,
          0.017763406038284302,
          0.017732569947838783,
          0.017617950215935707,
          0.01722797006368637,
          0.016858374699950218,
          0.016692373901605606,
          0.01664815843105316,
          0.01663091406226158,
          0.016620803624391556,
          0.016602789983153343,
          0.016463477164506912,
          0.016101397573947906,
          0.015033464878797531,
          0.014586960896849632,
          0.01440094131976366,
          0.014346804469823837,
          0.014278952032327652,
          0.014225720427930355,
          0.0142064169049263,
          0.013689041137695312,
          0.01364387758076191,
          0.01332530565559864,
          0.013046893291175365,
          0.012943191453814507,
          0.012513970956206322,
          0.011869817040860653,
          0.01183792669326067,
          0.01169796846807003,
          0.011516702361404896,
          0.011459268629550934,
          0.011316932737827301,
          0.01107056625187397,
          0.01106921024620533,
          0.010588498786091805,
          0.010376745834946632,
          0.009890231303870678,
          0.009737839922308922,
          0.009726639837026596,
          0.009226358495652676,
          0.00915201473981142,
          0.009063716046512127,
          0.008676025085151196,
          0.008160552009940147,
          0.007968733087182045,
          0.007959951646625996,
          0,
          0
         ],
         "yaxis": "y"
        }
       ],
       "layout": {
        "barmode": "relative",
        "legend": {
         "tracegroupgap": 0
        },
        "margin": {
         "t": 60
        },
        "template": {
         "data": {
          "bar": [
           {
            "error_x": {
             "color": "#2a3f5f"
            },
            "error_y": {
             "color": "#2a3f5f"
            },
            "marker": {
             "line": {
              "color": "#E5ECF6",
              "width": 0.5
             }
            },
            "type": "bar"
           }
          ],
          "barpolar": [
           {
            "marker": {
             "line": {
              "color": "#E5ECF6",
              "width": 0.5
             }
            },
            "type": "barpolar"
           }
          ],
          "carpet": [
           {
            "aaxis": {
             "endlinecolor": "#2a3f5f",
             "gridcolor": "white",
             "linecolor": "white",
             "minorgridcolor": "white",
             "startlinecolor": "#2a3f5f"
            },
            "baxis": {
             "endlinecolor": "#2a3f5f",
             "gridcolor": "white",
             "linecolor": "white",
             "minorgridcolor": "white",
             "startlinecolor": "#2a3f5f"
            },
            "type": "carpet"
           }
          ],
          "choropleth": [
           {
            "colorbar": {
             "outlinewidth": 0,
             "ticks": ""
            },
            "type": "choropleth"
           }
          ],
          "contour": [
           {
            "colorbar": {
             "outlinewidth": 0,
             "ticks": ""
            },
            "colorscale": [
             [
              0,
              "#0d0887"
             ],
             [
              0.1111111111111111,
              "#46039f"
             ],
             [
              0.2222222222222222,
              "#7201a8"
             ],
             [
              0.3333333333333333,
              "#9c179e"
             ],
             [
              0.4444444444444444,
              "#bd3786"
             ],
             [
              0.5555555555555556,
              "#d8576b"
             ],
             [
              0.6666666666666666,
              "#ed7953"
             ],
             [
              0.7777777777777778,
              "#fb9f3a"
             ],
             [
              0.8888888888888888,
              "#fdca26"
             ],
             [
              1,
              "#f0f921"
             ]
            ],
            "type": "contour"
           }
          ],
          "contourcarpet": [
           {
            "colorbar": {
             "outlinewidth": 0,
             "ticks": ""
            },
            "type": "contourcarpet"
           }
          ],
          "heatmap": [
           {
            "colorbar": {
             "outlinewidth": 0,
             "ticks": ""
            },
            "colorscale": [
             [
              0,
              "#0d0887"
             ],
             [
              0.1111111111111111,
              "#46039f"
             ],
             [
              0.2222222222222222,
              "#7201a8"
             ],
             [
              0.3333333333333333,
              "#9c179e"
             ],
             [
              0.4444444444444444,
              "#bd3786"
             ],
             [
              0.5555555555555556,
              "#d8576b"
             ],
             [
              0.6666666666666666,
              "#ed7953"
             ],
             [
              0.7777777777777778,
              "#fb9f3a"
             ],
             [
              0.8888888888888888,
              "#fdca26"
             ],
             [
              1,
              "#f0f921"
             ]
            ],
            "type": "heatmap"
           }
          ],
          "heatmapgl": [
           {
            "colorbar": {
             "outlinewidth": 0,
             "ticks": ""
            },
            "colorscale": [
             [
              0,
              "#0d0887"
             ],
             [
              0.1111111111111111,
              "#46039f"
             ],
             [
              0.2222222222222222,
              "#7201a8"
             ],
             [
              0.3333333333333333,
              "#9c179e"
             ],
             [
              0.4444444444444444,
              "#bd3786"
             ],
             [
              0.5555555555555556,
              "#d8576b"
             ],
             [
              0.6666666666666666,
              "#ed7953"
             ],
             [
              0.7777777777777778,
              "#fb9f3a"
             ],
             [
              0.8888888888888888,
              "#fdca26"
             ],
             [
              1,
              "#f0f921"
             ]
            ],
            "type": "heatmapgl"
           }
          ],
          "histogram": [
           {
            "marker": {
             "colorbar": {
              "outlinewidth": 0,
              "ticks": ""
             }
            },
            "type": "histogram"
           }
          ],
          "histogram2d": [
           {
            "colorbar": {
             "outlinewidth": 0,
             "ticks": ""
            },
            "colorscale": [
             [
              0,
              "#0d0887"
             ],
             [
              0.1111111111111111,
              "#46039f"
             ],
             [
              0.2222222222222222,
              "#7201a8"
             ],
             [
              0.3333333333333333,
              "#9c179e"
             ],
             [
              0.4444444444444444,
              "#bd3786"
             ],
             [
              0.5555555555555556,
              "#d8576b"
             ],
             [
              0.6666666666666666,
              "#ed7953"
             ],
             [
              0.7777777777777778,
              "#fb9f3a"
             ],
             [
              0.8888888888888888,
              "#fdca26"
             ],
             [
              1,
              "#f0f921"
             ]
            ],
            "type": "histogram2d"
           }
          ],
          "histogram2dcontour": [
           {
            "colorbar": {
             "outlinewidth": 0,
             "ticks": ""
            },
            "colorscale": [
             [
              0,
              "#0d0887"
             ],
             [
              0.1111111111111111,
              "#46039f"
             ],
             [
              0.2222222222222222,
              "#7201a8"
             ],
             [
              0.3333333333333333,
              "#9c179e"
             ],
             [
              0.4444444444444444,
              "#bd3786"
             ],
             [
              0.5555555555555556,
              "#d8576b"
             ],
             [
              0.6666666666666666,
              "#ed7953"
             ],
             [
              0.7777777777777778,
              "#fb9f3a"
             ],
             [
              0.8888888888888888,
              "#fdca26"
             ],
             [
              1,
              "#f0f921"
             ]
            ],
            "type": "histogram2dcontour"
           }
          ],
          "mesh3d": [
           {
            "colorbar": {
             "outlinewidth": 0,
             "ticks": ""
            },
            "type": "mesh3d"
           }
          ],
          "parcoords": [
           {
            "line": {
             "colorbar": {
              "outlinewidth": 0,
              "ticks": ""
             }
            },
            "type": "parcoords"
           }
          ],
          "pie": [
           {
            "automargin": true,
            "type": "pie"
           }
          ],
          "scatter": [
           {
            "marker": {
             "colorbar": {
              "outlinewidth": 0,
              "ticks": ""
             }
            },
            "type": "scatter"
           }
          ],
          "scatter3d": [
           {
            "line": {
             "colorbar": {
              "outlinewidth": 0,
              "ticks": ""
             }
            },
            "marker": {
             "colorbar": {
              "outlinewidth": 0,
              "ticks": ""
             }
            },
            "type": "scatter3d"
           }
          ],
          "scattercarpet": [
           {
            "marker": {
             "colorbar": {
              "outlinewidth": 0,
              "ticks": ""
             }
            },
            "type": "scattercarpet"
           }
          ],
          "scattergeo": [
           {
            "marker": {
             "colorbar": {
              "outlinewidth": 0,
              "ticks": ""
             }
            },
            "type": "scattergeo"
           }
          ],
          "scattergl": [
           {
            "marker": {
             "colorbar": {
              "outlinewidth": 0,
              "ticks": ""
             }
            },
            "type": "scattergl"
           }
          ],
          "scattermapbox": [
           {
            "marker": {
             "colorbar": {
              "outlinewidth": 0,
              "ticks": ""
             }
            },
            "type": "scattermapbox"
           }
          ],
          "scatterpolar": [
           {
            "marker": {
             "colorbar": {
              "outlinewidth": 0,
              "ticks": ""
             }
            },
            "type": "scatterpolar"
           }
          ],
          "scatterpolargl": [
           {
            "marker": {
             "colorbar": {
              "outlinewidth": 0,
              "ticks": ""
             }
            },
            "type": "scatterpolargl"
           }
          ],
          "scatterternary": [
           {
            "marker": {
             "colorbar": {
              "outlinewidth": 0,
              "ticks": ""
             }
            },
            "type": "scatterternary"
           }
          ],
          "surface": [
           {
            "colorbar": {
             "outlinewidth": 0,
             "ticks": ""
            },
            "colorscale": [
             [
              0,
              "#0d0887"
             ],
             [
              0.1111111111111111,
              "#46039f"
             ],
             [
              0.2222222222222222,
              "#7201a8"
             ],
             [
              0.3333333333333333,
              "#9c179e"
             ],
             [
              0.4444444444444444,
              "#bd3786"
             ],
             [
              0.5555555555555556,
              "#d8576b"
             ],
             [
              0.6666666666666666,
              "#ed7953"
             ],
             [
              0.7777777777777778,
              "#fb9f3a"
             ],
             [
              0.8888888888888888,
              "#fdca26"
             ],
             [
              1,
              "#f0f921"
             ]
            ],
            "type": "surface"
           }
          ],
          "table": [
           {
            "cells": {
             "fill": {
              "color": "#EBF0F8"
             },
             "line": {
              "color": "white"
             }
            },
            "header": {
             "fill": {
              "color": "#C8D4E3"
             },
             "line": {
              "color": "white"
             }
            },
            "type": "table"
           }
          ]
         },
         "layout": {
          "annotationdefaults": {
           "arrowcolor": "#2a3f5f",
           "arrowhead": 0,
           "arrowwidth": 1
          },
          "coloraxis": {
           "colorbar": {
            "outlinewidth": 0,
            "ticks": ""
           }
          },
          "colorscale": {
           "diverging": [
            [
             0,
             "#8e0152"
            ],
            [
             0.1,
             "#c51b7d"
            ],
            [
             0.2,
             "#de77ae"
            ],
            [
             0.3,
             "#f1b6da"
            ],
            [
             0.4,
             "#fde0ef"
            ],
            [
             0.5,
             "#f7f7f7"
            ],
            [
             0.6,
             "#e6f5d0"
            ],
            [
             0.7,
             "#b8e186"
            ],
            [
             0.8,
             "#7fbc41"
            ],
            [
             0.9,
             "#4d9221"
            ],
            [
             1,
             "#276419"
            ]
           ],
           "sequential": [
            [
             0,
             "#0d0887"
            ],
            [
             0.1111111111111111,
             "#46039f"
            ],
            [
             0.2222222222222222,
             "#7201a8"
            ],
            [
             0.3333333333333333,
             "#9c179e"
            ],
            [
             0.4444444444444444,
             "#bd3786"
            ],
            [
             0.5555555555555556,
             "#d8576b"
            ],
            [
             0.6666666666666666,
             "#ed7953"
            ],
            [
             0.7777777777777778,
             "#fb9f3a"
            ],
            [
             0.8888888888888888,
             "#fdca26"
            ],
            [
             1,
             "#f0f921"
            ]
           ],
           "sequentialminus": [
            [
             0,
             "#0d0887"
            ],
            [
             0.1111111111111111,
             "#46039f"
            ],
            [
             0.2222222222222222,
             "#7201a8"
            ],
            [
             0.3333333333333333,
             "#9c179e"
            ],
            [
             0.4444444444444444,
             "#bd3786"
            ],
            [
             0.5555555555555556,
             "#d8576b"
            ],
            [
             0.6666666666666666,
             "#ed7953"
            ],
            [
             0.7777777777777778,
             "#fb9f3a"
            ],
            [
             0.8888888888888888,
             "#fdca26"
            ],
            [
             1,
             "#f0f921"
            ]
           ]
          },
          "colorway": [
           "#636efa",
           "#EF553B",
           "#00cc96",
           "#ab63fa",
           "#FFA15A",
           "#19d3f3",
           "#FF6692",
           "#B6E880",
           "#FF97FF",
           "#FECB52"
          ],
          "font": {
           "color": "#2a3f5f"
          },
          "geo": {
           "bgcolor": "white",
           "lakecolor": "white",
           "landcolor": "#E5ECF6",
           "showlakes": true,
           "showland": true,
           "subunitcolor": "white"
          },
          "hoverlabel": {
           "align": "left"
          },
          "hovermode": "closest",
          "mapbox": {
           "style": "light"
          },
          "paper_bgcolor": "white",
          "plot_bgcolor": "#E5ECF6",
          "polar": {
           "angularaxis": {
            "gridcolor": "white",
            "linecolor": "white",
            "ticks": ""
           },
           "bgcolor": "#E5ECF6",
           "radialaxis": {
            "gridcolor": "white",
            "linecolor": "white",
            "ticks": ""
           }
          },
          "scene": {
           "xaxis": {
            "backgroundcolor": "#E5ECF6",
            "gridcolor": "white",
            "gridwidth": 2,
            "linecolor": "white",
            "showbackground": true,
            "ticks": "",
            "zerolinecolor": "white"
           },
           "yaxis": {
            "backgroundcolor": "#E5ECF6",
            "gridcolor": "white",
            "gridwidth": 2,
            "linecolor": "white",
            "showbackground": true,
            "ticks": "",
            "zerolinecolor": "white"
           },
           "zaxis": {
            "backgroundcolor": "#E5ECF6",
            "gridcolor": "white",
            "gridwidth": 2,
            "linecolor": "white",
            "showbackground": true,
            "ticks": "",
            "zerolinecolor": "white"
           }
          },
          "shapedefaults": {
           "line": {
            "color": "#2a3f5f"
           }
          },
          "ternary": {
           "aaxis": {
            "gridcolor": "white",
            "linecolor": "white",
            "ticks": ""
           },
           "baxis": {
            "gridcolor": "white",
            "linecolor": "white",
            "ticks": ""
           },
           "bgcolor": "#E5ECF6",
           "caxis": {
            "gridcolor": "white",
            "linecolor": "white",
            "ticks": ""
           }
          },
          "title": {
           "x": 0.05
          },
          "xaxis": {
           "automargin": true,
           "gridcolor": "white",
           "linecolor": "white",
           "ticks": "",
           "title": {
            "standoff": 15
           },
           "zerolinecolor": "white",
           "zerolinewidth": 2
          },
          "yaxis": {
           "automargin": true,
           "gridcolor": "white",
           "linecolor": "white",
           "ticks": "",
           "title": {
            "standoff": 15
           },
           "zerolinecolor": "white",
           "zerolinewidth": 2
          }
         }
        },
        "xaxis": {
         "anchor": "y",
         "domain": [
          0,
          1
         ],
         "title": {
          "text": "columns"
         }
        },
        "yaxis": {
         "anchor": "x",
         "domain": [
          0,
          1
         ],
         "title": {
          "text": "importance"
         }
        }
       }
      },
      "text/html": [
       "<div>\n",
       "        \n",
       "        \n",
       "            <div id=\"a9a4a6a7-a85f-4aef-81e1-c7b82b1c25f9\" class=\"plotly-graph-div\" style=\"height:525px; width:100%;\"></div>\n",
       "            <script type=\"text/javascript\">\n",
       "                require([\"plotly\"], function(Plotly) {\n",
       "                    window.PLOTLYENV=window.PLOTLYENV || {};\n",
       "                    \n",
       "                if (document.getElementById(\"a9a4a6a7-a85f-4aef-81e1-c7b82b1c25f9\")) {\n",
       "                    Plotly.newPlot(\n",
       "                        'a9a4a6a7-a85f-4aef-81e1-c7b82b1c25f9',\n",
       "                        [{\"alignmentgroup\": \"True\", \"hovertemplate\": \"columns=%{x}<br>importance=%{y}<extra></extra>\", \"legendgroup\": \"\", \"marker\": {\"color\": \"#636efa\"}, \"name\": \"\", \"offsetgroup\": \"\", \"orientation\": \"v\", \"showlegend\": false, \"textposition\": \"auto\", \"type\": \"bar\", \"x\": [\"category1_avg_avg_salesPrice_lag_1\", \"category3_avg_avg_salesPrice_lag_1\", \"soldWeekly\", \"category3\", \"category1_avg_avg_salesPrice_lag_2\", \"category1_sum_count_lag_1\", \"category1_avg_count_lag_3\", \"category1_sum_count_lag_2\", \"category3_avg_avg_salesPrice_lag_2\", \"category1_avg_count_lag_1\", \"brand_sum_count_lag_1\", \"category3_sum_count_lag_1\", \"customerRating\", \"brand_sum_count_lag_2\", \"count_lag_1\", \"category3_avg_avg_salesPrice_lag_3\", \"brand_avg_count_lag_1\", \"recentlySold\", \"brand_sum_count_lag_4\", \"category3_sum_count_lag_5\", \"category1_avg_avg_salesPrice_lag_3\", \"avg_salesPrice_lag_1\", \"category1_avg_count_lag_2\", \"brand_avg_count_lag_5\", \"avg_salesPrice_lag_5\", \"category3_avg_count_lag_1\", \"dateFirstSell\", \"brand\", \"category1_avg_avg_salesPrice_lag_5\", \"category3_avg_avg_salesPrice_lag_5\", \"category1_avg_count_lag_4\", \"count_lag_5\", \"category3_sum_count_lag_3\", \"category3_sum_count_lag_4\", \"brand_sum_count_lag_3\", \"avg_salesPrice_lag_2\", \"category3_avg_count_lag_3\", \"category1_sum_count_lag_3\", \"brand_avg_avg_salesPrice_lag_1\", \"category1\", \"manufacturer\", \"brand_avg_avg_salesPrice_lag_4\", \"category3_sum_count_lag_2\", \"avg_salesPrice_lag_4\", \"category3_avg_avg_salesPrice_lag_4\", \"brand_avg_avg_salesPrice_lag_5\", \"brand_avg_count_lag_4\", \"count_lag_3\", \"brand_sum_count_lag_5\", \"category3_avg_count_lag_2\", \"brand_avg_count_lag_2\", \"count_lag_2\", \"brand_avg_count_lag_3\", \"count_lag_4\", \"brand_avg_avg_salesPrice_lag_3\", \"brand_avg_avg_salesPrice_lag_2\", \"category3_avg_count_lag_4\", \"category1_sum_count_lag_4\", \"category1_avg_avg_salesPrice_lag_4\", \"category1_avg_count_lag_5\", \"avg_salesPrice_lag_3\", \"category1_sum_count_lag_5\", \"category3_avg_count_lag_5\"], \"xaxis\": \"x\", \"y\": [0.05386611446738243, 0.04325348138809204, 0.03081354685127735, 0.02882254682481289, 0.024864887818694115, 0.023813165724277496, 0.023451505228877068, 0.022944018244743347, 0.022517411038279533, 0.022144515067338943, 0.021438226103782654, 0.02025824598968029, 0.020149599760770798, 0.01955006830394268, 0.018484707921743393, 0.018060509115457535, 0.017763406038284302, 0.017732569947838783, 0.017617950215935707, 0.01722797006368637, 0.016858374699950218, 0.016692373901605606, 0.01664815843105316, 0.01663091406226158, 0.016620803624391556, 0.016602789983153343, 0.016463477164506912, 0.016101397573947906, 0.015033464878797531, 0.014586960896849632, 0.01440094131976366, 0.014346804469823837, 0.014278952032327652, 0.014225720427930355, 0.0142064169049263, 0.013689041137695312, 0.01364387758076191, 0.01332530565559864, 0.013046893291175365, 0.012943191453814507, 0.012513970956206322, 0.011869817040860653, 0.01183792669326067, 0.01169796846807003, 0.011516702361404896, 0.011459268629550934, 0.011316932737827301, 0.01107056625187397, 0.01106921024620533, 0.010588498786091805, 0.010376745834946632, 0.009890231303870678, 0.009737839922308922, 0.009726639837026596, 0.009226358495652676, 0.00915201473981142, 0.009063716046512127, 0.008676025085151196, 0.008160552009940147, 0.007968733087182045, 0.007959951646625996, 0.0, 0.0], \"yaxis\": \"y\"}],\n",
       "                        {\"barmode\": \"relative\", \"legend\": {\"tracegroupgap\": 0}, \"margin\": {\"t\": 60}, \"template\": {\"data\": {\"bar\": [{\"error_x\": {\"color\": \"#2a3f5f\"}, \"error_y\": {\"color\": \"#2a3f5f\"}, \"marker\": {\"line\": {\"color\": \"#E5ECF6\", \"width\": 0.5}}, \"type\": \"bar\"}], \"barpolar\": [{\"marker\": {\"line\": {\"color\": \"#E5ECF6\", \"width\": 0.5}}, \"type\": \"barpolar\"}], \"carpet\": [{\"aaxis\": {\"endlinecolor\": \"#2a3f5f\", \"gridcolor\": \"white\", \"linecolor\": \"white\", \"minorgridcolor\": \"white\", \"startlinecolor\": \"#2a3f5f\"}, \"baxis\": {\"endlinecolor\": \"#2a3f5f\", \"gridcolor\": \"white\", \"linecolor\": \"white\", \"minorgridcolor\": \"white\", \"startlinecolor\": \"#2a3f5f\"}, \"type\": \"carpet\"}], \"choropleth\": [{\"colorbar\": {\"outlinewidth\": 0, \"ticks\": \"\"}, \"type\": \"choropleth\"}], \"contour\": [{\"colorbar\": {\"outlinewidth\": 0, \"ticks\": \"\"}, \"colorscale\": [[0.0, \"#0d0887\"], [0.1111111111111111, \"#46039f\"], [0.2222222222222222, \"#7201a8\"], [0.3333333333333333, \"#9c179e\"], [0.4444444444444444, \"#bd3786\"], [0.5555555555555556, \"#d8576b\"], [0.6666666666666666, \"#ed7953\"], [0.7777777777777778, \"#fb9f3a\"], [0.8888888888888888, \"#fdca26\"], [1.0, \"#f0f921\"]], \"type\": \"contour\"}], \"contourcarpet\": [{\"colorbar\": {\"outlinewidth\": 0, \"ticks\": \"\"}, \"type\": \"contourcarpet\"}], \"heatmap\": [{\"colorbar\": {\"outlinewidth\": 0, \"ticks\": \"\"}, \"colorscale\": [[0.0, \"#0d0887\"], [0.1111111111111111, \"#46039f\"], [0.2222222222222222, \"#7201a8\"], [0.3333333333333333, \"#9c179e\"], [0.4444444444444444, \"#bd3786\"], [0.5555555555555556, \"#d8576b\"], [0.6666666666666666, \"#ed7953\"], [0.7777777777777778, \"#fb9f3a\"], [0.8888888888888888, \"#fdca26\"], [1.0, \"#f0f921\"]], \"type\": \"heatmap\"}], \"heatmapgl\": [{\"colorbar\": {\"outlinewidth\": 0, \"ticks\": \"\"}, \"colorscale\": [[0.0, \"#0d0887\"], [0.1111111111111111, \"#46039f\"], [0.2222222222222222, \"#7201a8\"], [0.3333333333333333, \"#9c179e\"], [0.4444444444444444, \"#bd3786\"], [0.5555555555555556, \"#d8576b\"], [0.6666666666666666, \"#ed7953\"], [0.7777777777777778, \"#fb9f3a\"], [0.8888888888888888, \"#fdca26\"], [1.0, \"#f0f921\"]], \"type\": \"heatmapgl\"}], \"histogram\": [{\"marker\": {\"colorbar\": {\"outlinewidth\": 0, \"ticks\": \"\"}}, \"type\": \"histogram\"}], \"histogram2d\": [{\"colorbar\": {\"outlinewidth\": 0, \"ticks\": \"\"}, \"colorscale\": [[0.0, \"#0d0887\"], [0.1111111111111111, \"#46039f\"], [0.2222222222222222, \"#7201a8\"], [0.3333333333333333, \"#9c179e\"], [0.4444444444444444, \"#bd3786\"], [0.5555555555555556, \"#d8576b\"], [0.6666666666666666, \"#ed7953\"], [0.7777777777777778, \"#fb9f3a\"], [0.8888888888888888, \"#fdca26\"], [1.0, \"#f0f921\"]], \"type\": \"histogram2d\"}], \"histogram2dcontour\": [{\"colorbar\": {\"outlinewidth\": 0, \"ticks\": \"\"}, \"colorscale\": [[0.0, \"#0d0887\"], [0.1111111111111111, \"#46039f\"], [0.2222222222222222, \"#7201a8\"], [0.3333333333333333, \"#9c179e\"], [0.4444444444444444, \"#bd3786\"], [0.5555555555555556, \"#d8576b\"], [0.6666666666666666, \"#ed7953\"], [0.7777777777777778, \"#fb9f3a\"], [0.8888888888888888, \"#fdca26\"], [1.0, \"#f0f921\"]], \"type\": \"histogram2dcontour\"}], \"mesh3d\": [{\"colorbar\": {\"outlinewidth\": 0, \"ticks\": \"\"}, \"type\": \"mesh3d\"}], \"parcoords\": [{\"line\": {\"colorbar\": {\"outlinewidth\": 0, \"ticks\": \"\"}}, \"type\": \"parcoords\"}], \"pie\": [{\"automargin\": true, \"type\": \"pie\"}], \"scatter\": [{\"marker\": {\"colorbar\": {\"outlinewidth\": 0, \"ticks\": \"\"}}, \"type\": \"scatter\"}], \"scatter3d\": [{\"line\": {\"colorbar\": {\"outlinewidth\": 0, \"ticks\": \"\"}}, \"marker\": {\"colorbar\": {\"outlinewidth\": 0, \"ticks\": \"\"}}, \"type\": \"scatter3d\"}], \"scattercarpet\": [{\"marker\": {\"colorbar\": {\"outlinewidth\": 0, \"ticks\": \"\"}}, \"type\": \"scattercarpet\"}], \"scattergeo\": [{\"marker\": {\"colorbar\": {\"outlinewidth\": 0, \"ticks\": \"\"}}, \"type\": \"scattergeo\"}], \"scattergl\": [{\"marker\": {\"colorbar\": {\"outlinewidth\": 0, \"ticks\": \"\"}}, \"type\": \"scattergl\"}], \"scattermapbox\": [{\"marker\": {\"colorbar\": {\"outlinewidth\": 0, \"ticks\": \"\"}}, \"type\": \"scattermapbox\"}], \"scatterpolar\": [{\"marker\": {\"colorbar\": {\"outlinewidth\": 0, \"ticks\": \"\"}}, \"type\": \"scatterpolar\"}], \"scatterpolargl\": [{\"marker\": {\"colorbar\": {\"outlinewidth\": 0, \"ticks\": \"\"}}, \"type\": \"scatterpolargl\"}], \"scatterternary\": [{\"marker\": {\"colorbar\": {\"outlinewidth\": 0, \"ticks\": \"\"}}, \"type\": \"scatterternary\"}], \"surface\": [{\"colorbar\": {\"outlinewidth\": 0, \"ticks\": \"\"}, \"colorscale\": [[0.0, \"#0d0887\"], [0.1111111111111111, \"#46039f\"], [0.2222222222222222, \"#7201a8\"], [0.3333333333333333, \"#9c179e\"], [0.4444444444444444, \"#bd3786\"], [0.5555555555555556, \"#d8576b\"], [0.6666666666666666, \"#ed7953\"], [0.7777777777777778, \"#fb9f3a\"], [0.8888888888888888, \"#fdca26\"], [1.0, \"#f0f921\"]], \"type\": \"surface\"}], \"table\": [{\"cells\": {\"fill\": {\"color\": \"#EBF0F8\"}, \"line\": {\"color\": \"white\"}}, \"header\": {\"fill\": {\"color\": \"#C8D4E3\"}, \"line\": {\"color\": \"white\"}}, \"type\": \"table\"}]}, \"layout\": {\"annotationdefaults\": {\"arrowcolor\": \"#2a3f5f\", \"arrowhead\": 0, \"arrowwidth\": 1}, \"coloraxis\": {\"colorbar\": {\"outlinewidth\": 0, \"ticks\": \"\"}}, \"colorscale\": {\"diverging\": [[0, \"#8e0152\"], [0.1, \"#c51b7d\"], [0.2, \"#de77ae\"], [0.3, \"#f1b6da\"], [0.4, \"#fde0ef\"], [0.5, \"#f7f7f7\"], [0.6, \"#e6f5d0\"], [0.7, \"#b8e186\"], [0.8, \"#7fbc41\"], [0.9, \"#4d9221\"], [1, \"#276419\"]], \"sequential\": [[0.0, \"#0d0887\"], [0.1111111111111111, \"#46039f\"], [0.2222222222222222, \"#7201a8\"], [0.3333333333333333, \"#9c179e\"], [0.4444444444444444, \"#bd3786\"], [0.5555555555555556, \"#d8576b\"], [0.6666666666666666, \"#ed7953\"], [0.7777777777777778, \"#fb9f3a\"], [0.8888888888888888, \"#fdca26\"], [1.0, \"#f0f921\"]], \"sequentialminus\": [[0.0, \"#0d0887\"], [0.1111111111111111, \"#46039f\"], [0.2222222222222222, \"#7201a8\"], [0.3333333333333333, \"#9c179e\"], [0.4444444444444444, \"#bd3786\"], [0.5555555555555556, \"#d8576b\"], [0.6666666666666666, \"#ed7953\"], [0.7777777777777778, \"#fb9f3a\"], [0.8888888888888888, \"#fdca26\"], [1.0, \"#f0f921\"]]}, \"colorway\": [\"#636efa\", \"#EF553B\", \"#00cc96\", \"#ab63fa\", \"#FFA15A\", \"#19d3f3\", \"#FF6692\", \"#B6E880\", \"#FF97FF\", \"#FECB52\"], \"font\": {\"color\": \"#2a3f5f\"}, \"geo\": {\"bgcolor\": \"white\", \"lakecolor\": \"white\", \"landcolor\": \"#E5ECF6\", \"showlakes\": true, \"showland\": true, \"subunitcolor\": \"white\"}, \"hoverlabel\": {\"align\": \"left\"}, \"hovermode\": \"closest\", \"mapbox\": {\"style\": \"light\"}, \"paper_bgcolor\": \"white\", \"plot_bgcolor\": \"#E5ECF6\", \"polar\": {\"angularaxis\": {\"gridcolor\": \"white\", \"linecolor\": \"white\", \"ticks\": \"\"}, \"bgcolor\": \"#E5ECF6\", \"radialaxis\": {\"gridcolor\": \"white\", \"linecolor\": \"white\", \"ticks\": \"\"}}, \"scene\": {\"xaxis\": {\"backgroundcolor\": \"#E5ECF6\", \"gridcolor\": \"white\", \"gridwidth\": 2, \"linecolor\": \"white\", \"showbackground\": true, \"ticks\": \"\", \"zerolinecolor\": \"white\"}, \"yaxis\": {\"backgroundcolor\": \"#E5ECF6\", \"gridcolor\": \"white\", \"gridwidth\": 2, \"linecolor\": \"white\", \"showbackground\": true, \"ticks\": \"\", \"zerolinecolor\": \"white\"}, \"zaxis\": {\"backgroundcolor\": \"#E5ECF6\", \"gridcolor\": \"white\", \"gridwidth\": 2, \"linecolor\": \"white\", \"showbackground\": true, \"ticks\": \"\", \"zerolinecolor\": \"white\"}}, \"shapedefaults\": {\"line\": {\"color\": \"#2a3f5f\"}}, \"ternary\": {\"aaxis\": {\"gridcolor\": \"white\", \"linecolor\": \"white\", \"ticks\": \"\"}, \"baxis\": {\"gridcolor\": \"white\", \"linecolor\": \"white\", \"ticks\": \"\"}, \"bgcolor\": \"#E5ECF6\", \"caxis\": {\"gridcolor\": \"white\", \"linecolor\": \"white\", \"ticks\": \"\"}}, \"title\": {\"x\": 0.05}, \"xaxis\": {\"automargin\": true, \"gridcolor\": \"white\", \"linecolor\": \"white\", \"ticks\": \"\", \"title\": {\"standoff\": 15}, \"zerolinecolor\": \"white\", \"zerolinewidth\": 2}, \"yaxis\": {\"automargin\": true, \"gridcolor\": \"white\", \"linecolor\": \"white\", \"ticks\": \"\", \"title\": {\"standoff\": 15}, \"zerolinecolor\": \"white\", \"zerolinewidth\": 2}}}, \"xaxis\": {\"anchor\": \"y\", \"domain\": [0.0, 1.0], \"title\": {\"text\": \"columns\"}}, \"yaxis\": {\"anchor\": \"x\", \"domain\": [0.0, 1.0], \"title\": {\"text\": \"importance\"}}},\n",
       "                        {\"responsive\": true}\n",
       "                    ).then(function(){\n",
       "                            \n",
       "var gd = document.getElementById('a9a4a6a7-a85f-4aef-81e1-c7b82b1c25f9');\n",
       "var x = new MutationObserver(function (mutations, observer) {{\n",
       "        var display = window.getComputedStyle(gd).display;\n",
       "        if (!display || display === 'none') {{\n",
       "            console.log([gd, 'removed!']);\n",
       "            Plotly.purge(gd);\n",
       "            observer.disconnect();\n",
       "        }}\n",
       "}});\n",
       "\n",
       "// Listen for the removal of the full notebook cells\n",
       "var notebookContainer = gd.closest('#notebook-container');\n",
       "if (notebookContainer) {{\n",
       "    x.observe(notebookContainer, {childList: true});\n",
       "}}\n",
       "\n",
       "// Listen for the clearing of the current output cell\n",
       "var outputEl = gd.closest('.output');\n",
       "if (outputEl) {{\n",
       "    x.observe(outputEl, {childList: true});\n",
       "}}\n",
       "\n",
       "                        })\n",
       "                };\n",
       "                });\n",
       "            </script>\n",
       "        </div>"
      ]
     },
     "metadata": {},
     "output_type": "display_data"
    }
   ],
   "source": [
    "import plotly_express as px\n",
    "columns = X_train.columns\n",
    "feature_importances = pd.DataFrame({'columns': columns,'importance':model.feature_importances_})\n",
    "feature_importances = feature_importances.sort_values(by='importance',ascending=False)\n",
    "px.bar(feature_importances,x='columns',y='importance')"
   ]
  },
  {
   "cell_type": "code",
   "execution_count": 26,
   "metadata": {},
   "outputs": [],
   "source": [
    "def evaluate_result(y: dict, y_pred: dict):\n",
    "    monetary_value = 0\n",
    "    y_pred = defaultdict(int, y_pred)  # return prediction of 0 for items without prediction\n",
    "    \n",
    "    for item in set(y_pred).difference(set(y)):\n",
    "        y[item] = 0  # make sure that all items for which a demand has been predicted are contained in the actual demands\n",
    "    \n",
    "    for item, demand in y.items():\n",
    "        predicted_demand = y_pred[item]\n",
    "        price = product_prices[item]\n",
    "        monetary_value += price * min(demand, predicted_demand)\n",
    "        if predicted_demand > demand:\n",
    "            monetary_value -= .6 * price * (predicted_demand - demand)\n",
    "            \n",
    "    return monetary_value"
   ]
  },
  {
   "cell_type": "code",
   "execution_count": 27,
   "metadata": {},
   "outputs": [
    {
     "data": {
      "text/html": [
       "<div>\n",
       "<style scoped>\n",
       "    .dataframe tbody tr th:only-of-type {\n",
       "        vertical-align: middle;\n",
       "    }\n",
       "\n",
       "    .dataframe tbody tr th {\n",
       "        vertical-align: top;\n",
       "    }\n",
       "\n",
       "    .dataframe thead th {\n",
       "        text-align: right;\n",
       "    }\n",
       "</style>\n",
       "<table border=\"1\" class=\"dataframe\">\n",
       "  <thead>\n",
       "    <tr style=\"text-align: right;\">\n",
       "      <th></th>\n",
       "      <th>brand</th>\n",
       "      <th>manufacturer</th>\n",
       "      <th>customerRating</th>\n",
       "      <th>category1</th>\n",
       "      <th>category2</th>\n",
       "      <th>category3</th>\n",
       "      <th>recommendedRetailPrice</th>\n",
       "    </tr>\n",
       "    <tr>\n",
       "      <th>itemID</th>\n",
       "      <th></th>\n",
       "      <th></th>\n",
       "      <th></th>\n",
       "      <th></th>\n",
       "      <th></th>\n",
       "      <th></th>\n",
       "      <th></th>\n",
       "    </tr>\n",
       "  </thead>\n",
       "  <tbody>\n",
       "    <tr>\n",
       "      <th>1</th>\n",
       "      <td>0</td>\n",
       "      <td>1</td>\n",
       "      <td>4.38</td>\n",
       "      <td>1</td>\n",
       "      <td>1</td>\n",
       "      <td>1</td>\n",
       "      <td>8.84</td>\n",
       "    </tr>\n",
       "    <tr>\n",
       "      <th>2</th>\n",
       "      <td>0</td>\n",
       "      <td>2</td>\n",
       "      <td>3.00</td>\n",
       "      <td>1</td>\n",
       "      <td>2</td>\n",
       "      <td>1</td>\n",
       "      <td>16.92</td>\n",
       "    </tr>\n",
       "    <tr>\n",
       "      <th>3</th>\n",
       "      <td>0</td>\n",
       "      <td>3</td>\n",
       "      <td>5.00</td>\n",
       "      <td>1</td>\n",
       "      <td>3</td>\n",
       "      <td>1</td>\n",
       "      <td>15.89</td>\n",
       "    </tr>\n",
       "    <tr>\n",
       "      <th>4</th>\n",
       "      <td>0</td>\n",
       "      <td>2</td>\n",
       "      <td>4.44</td>\n",
       "      <td>1</td>\n",
       "      <td>2</td>\n",
       "      <td>1</td>\n",
       "      <td>40.17</td>\n",
       "    </tr>\n",
       "    <tr>\n",
       "      <th>5</th>\n",
       "      <td>0</td>\n",
       "      <td>2</td>\n",
       "      <td>2.33</td>\n",
       "      <td>1</td>\n",
       "      <td>1</td>\n",
       "      <td>1</td>\n",
       "      <td>17.04</td>\n",
       "    </tr>\n",
       "  </tbody>\n",
       "</table>\n",
       "</div>"
      ],
      "text/plain": [
       "        brand  manufacturer  customerRating  category1  category2  category3  \\\n",
       "itemID                                                                         \n",
       "1           0             1            4.38          1          1          1   \n",
       "2           0             2            3.00          1          2          1   \n",
       "3           0             3            5.00          1          3          1   \n",
       "4           0             2            4.44          1          2          1   \n",
       "5           0             2            2.33          1          1          1   \n",
       "\n",
       "        recommendedRetailPrice  \n",
       "itemID                          \n",
       "1                         8.84  \n",
       "2                        16.92  \n",
       "3                        15.89  \n",
       "4                        40.17  \n",
       "5                        17.04  "
      ]
     },
     "execution_count": 27,
     "metadata": {},
     "output_type": "execute_result"
    }
   ],
   "source": [
    "df_info = pd.read_csv('data/infos.csv', sep='|', index_col='itemID')\n",
    "df_items = pd.read_csv('data/items.csv', sep='|', index_col='itemID')\n",
    "df_items.head()"
   ]
  },
  {
   "cell_type": "code",
   "execution_count": 28,
   "metadata": {},
   "outputs": [],
   "source": [
    "# actual demand\n",
    "y = df_test.groupby(by='itemID')['order'].sum().to_dict()\n",
    "\n",
    "# baseline 1 (average demand of previous 14 days)\n",
    "y_baseline1 = df_train[df_train['time'] >= '2018-05-19'].groupby(by='itemID')['order'].sum().to_dict()\n",
    "\n",
    "# baseline 2 (average demand of previous half year)\n",
    "total_orders = df_train.groupby(by='itemID')['order'].sum().to_dict()\n",
    "total_observed_days = (df_train['time'].dt.normalize().max() - df_train['time'].dt.normalize().min()).days\n",
    "y_baseline2 = {item: orders / total_observed_days * 14 for item, orders in total_orders.items()}  # 14-day avg. demand\n",
    "\n",
    "df_info = pd.read_csv('data/infos.csv', sep='|', index_col='itemID')\n",
    "df_items = pd.read_csv('data/items.csv', sep='|', index_col='itemID')\n",
    "product_prices = df_info['simulationPrice'].to_dict()"
   ]
  },
  {
   "cell_type": "code",
   "execution_count": 29,
   "metadata": {},
   "outputs": [],
   "source": [
    "# apply to unseen data\n",
    "y_xgboost_all = dict()\n",
    "for prod in X_test.itemID.unique():\n",
    "    train_predict = pd.DataFrame(scaler.inverse_transform(pd.DataFrame(model.predict(X_test[X_test.itemID == prod].drop(['itemID'], axis=1))))).rename(columns={0:'predicted_count'})\n",
    "    # train_predict[\"actual_count\"] = test[test.itemID == prod][\"order\"].sum()\n",
    "    y_xgboost_all[prod] = int(train_predict[\"predicted_count\"].sum().round())\n",
    "#     if prod in df_train.itemID.unique():\n",
    "#         y_xgboost_all[prod] = int(train_predict[\"predicted_count\"].sum().round())\n",
    "#     else:\n",
    "#         y_xgboost_all[prod] = 0"
   ]
  },
  {
   "cell_type": "code",
   "execution_count": 30,
   "metadata": {},
   "outputs": [
    {
     "name": "stdout",
     "output_type": "stream",
     "text": [
      "Perfect Result: 7895975.87\n",
      "Baseline 1: -3727365.60\n",
      "Baseline 2: -1672504.21\n",
      "XGBoost: -200582.48\n"
     ]
    }
   ],
   "source": [
    "# perfect result\n",
    "print(f'Perfect Result: {evaluate_result(y, y):.2f}')\n",
    "\n",
    "# baseline 1\n",
    "print(f'Baseline 1: {evaluate_result(y, y_baseline1):.2f}')\n",
    "\n",
    "# baseline 2\n",
    "print(f'Baseline 2: {evaluate_result(y, y_baseline2):.2f}')\n",
    "\n",
    "# random forest\n",
    "print(f'XGBoost: {evaluate_result(y, y_xgboost_all):.2f}')\n",
    "# 953796.09"
   ]
  },
  {
   "cell_type": "code",
   "execution_count": null,
   "metadata": {},
   "outputs": [],
   "source": []
  }
 ],
 "metadata": {
  "kernelspec": {
   "display_name": "Python 3",
   "language": "python",
   "name": "python3"
  },
  "language_info": {
   "codemirror_mode": {
    "name": "ipython",
    "version": 3
   },
   "file_extension": ".py",
   "mimetype": "text/x-python",
   "name": "python",
   "nbconvert_exporter": "python",
   "pygments_lexer": "ipython3",
   "version": "3.7.7"
  }
 },
 "nbformat": 4,
 "nbformat_minor": 4
}
