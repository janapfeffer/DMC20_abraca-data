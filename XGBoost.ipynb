{
 "cells": [
  {
   "cell_type": "code",
   "execution_count": 147,
   "metadata": {},
   "outputs": [],
   "source": [
    "# import packages\n",
    "import pandas as pd\n",
    "# import seaborn as sb\n",
    "import matplotlib.pyplot as plt\n",
    "import numpy as np\n",
    "import datetime\n",
    "import re\n",
    "from sklearn.externals import joblib \n",
    "from sklearn.preprocessing import MinMaxScaler\n",
    "from sklearn.decomposition import PCA\n",
    "from scipy.interpolate import interpn\n",
    "from collections import defaultdict"
   ]
  },
  {
   "cell_type": "code",
   "execution_count": 148,
   "metadata": {},
   "outputs": [],
   "source": [
    "# suppress warnings\n",
    "import warnings\n",
    "warnings.filterwarnings('ignore')"
   ]
  },
  {
   "cell_type": "code",
   "execution_count": 149,
   "metadata": {},
   "outputs": [],
   "source": [
    "sales_means =pd.read_csv('./data/sales_means.csv', sep='|').drop(columns=[\"predicted_promotion\"])\n",
    "scaler = joblib.load('scaler.pkl') \n",
    "df_test = pd.read_csv('data/orders0206_test.csv', sep='|', parse_dates=['time'])\n",
    "df_test['date'] = [d.date() for d in df_test['time']]\n",
    "df_train = pd.read_csv('data/orders0206_train.csv', sep='|', parse_dates=['time'])\n",
    "df_train['date'] = [d.date() for d in df_train['time']]\n",
    "bundles = pd.read_csv('./data/bundles.csv', sep=',')"
   ]
  },
  {
   "cell_type": "code",
   "execution_count": 150,
   "metadata": {},
   "outputs": [
    {
     "data": {
      "text/html": [
       "<div>\n",
       "<style scoped>\n",
       "    .dataframe tbody tr th:only-of-type {\n",
       "        vertical-align: middle;\n",
       "    }\n",
       "\n",
       "    .dataframe tbody tr th {\n",
       "        vertical-align: top;\n",
       "    }\n",
       "\n",
       "    .dataframe thead th {\n",
       "        text-align: right;\n",
       "    }\n",
       "</style>\n",
       "<table border=\"1\" class=\"dataframe\">\n",
       "  <thead>\n",
       "    <tr style=\"text-align: right;\">\n",
       "      <th></th>\n",
       "      <th>count</th>\n",
       "      <th>weekGroup</th>\n",
       "      <th>itemID</th>\n",
       "      <th>customerRating</th>\n",
       "      <th>manufacturer</th>\n",
       "      <th>brand</th>\n",
       "      <th>category1</th>\n",
       "      <th>category3</th>\n",
       "      <th>dateFirstSell</th>\n",
       "      <th>soldWeekly</th>\n",
       "      <th>...</th>\n",
       "      <th>avg_salesPrice_lag_5</th>\n",
       "      <th>brand_avg_avg_salesPrice_lag_5</th>\n",
       "      <th>brand_sum_count_lag_5</th>\n",
       "      <th>brand_avg_count_lag_5</th>\n",
       "      <th>category1_avg_avg_salesPrice_lag_5</th>\n",
       "      <th>category1_sum_count_lag_5</th>\n",
       "      <th>category1_avg_count_lag_5</th>\n",
       "      <th>category3_avg_avg_salesPrice_lag_5</th>\n",
       "      <th>category3_sum_count_lag_5</th>\n",
       "      <th>category3_avg_count_lag_5</th>\n",
       "    </tr>\n",
       "  </thead>\n",
       "  <tbody>\n",
       "    <tr>\n",
       "      <th>0</th>\n",
       "      <td>0.000414</td>\n",
       "      <td>1</td>\n",
       "      <td>1</td>\n",
       "      <td>0.876</td>\n",
       "      <td>1</td>\n",
       "      <td>0</td>\n",
       "      <td>0</td>\n",
       "      <td>0</td>\n",
       "      <td>1</td>\n",
       "      <td>False</td>\n",
       "      <td>...</td>\n",
       "      <td>0.000296</td>\n",
       "      <td>0.022205</td>\n",
       "      <td>0.0</td>\n",
       "      <td>0.0</td>\n",
       "      <td>0.290938</td>\n",
       "      <td>0.0</td>\n",
       "      <td>0.0</td>\n",
       "      <td>0.107282</td>\n",
       "      <td>0.0</td>\n",
       "      <td>0.0</td>\n",
       "    </tr>\n",
       "    <tr>\n",
       "      <th>1</th>\n",
       "      <td>0.064817</td>\n",
       "      <td>2</td>\n",
       "      <td>1</td>\n",
       "      <td>0.876</td>\n",
       "      <td>1</td>\n",
       "      <td>0</td>\n",
       "      <td>0</td>\n",
       "      <td>0</td>\n",
       "      <td>1</td>\n",
       "      <td>False</td>\n",
       "      <td>...</td>\n",
       "      <td>0.000296</td>\n",
       "      <td>0.022205</td>\n",
       "      <td>0.0</td>\n",
       "      <td>0.0</td>\n",
       "      <td>0.290938</td>\n",
       "      <td>0.0</td>\n",
       "      <td>0.0</td>\n",
       "      <td>0.107282</td>\n",
       "      <td>0.0</td>\n",
       "      <td>0.0</td>\n",
       "    </tr>\n",
       "    <tr>\n",
       "      <th>2</th>\n",
       "      <td>0.007248</td>\n",
       "      <td>3</td>\n",
       "      <td>1</td>\n",
       "      <td>0.876</td>\n",
       "      <td>1</td>\n",
       "      <td>0</td>\n",
       "      <td>0</td>\n",
       "      <td>0</td>\n",
       "      <td>1</td>\n",
       "      <td>False</td>\n",
       "      <td>...</td>\n",
       "      <td>0.000296</td>\n",
       "      <td>0.022205</td>\n",
       "      <td>0.0</td>\n",
       "      <td>0.0</td>\n",
       "      <td>0.290938</td>\n",
       "      <td>0.0</td>\n",
       "      <td>0.0</td>\n",
       "      <td>0.107282</td>\n",
       "      <td>0.0</td>\n",
       "      <td>0.0</td>\n",
       "    </tr>\n",
       "    <tr>\n",
       "      <th>3</th>\n",
       "      <td>0.000621</td>\n",
       "      <td>4</td>\n",
       "      <td>1</td>\n",
       "      <td>0.876</td>\n",
       "      <td>1</td>\n",
       "      <td>0</td>\n",
       "      <td>0</td>\n",
       "      <td>0</td>\n",
       "      <td>1</td>\n",
       "      <td>False</td>\n",
       "      <td>...</td>\n",
       "      <td>0.000296</td>\n",
       "      <td>0.022205</td>\n",
       "      <td>0.0</td>\n",
       "      <td>0.0</td>\n",
       "      <td>0.290938</td>\n",
       "      <td>0.0</td>\n",
       "      <td>0.0</td>\n",
       "      <td>0.107282</td>\n",
       "      <td>0.0</td>\n",
       "      <td>0.0</td>\n",
       "    </tr>\n",
       "    <tr>\n",
       "      <th>4</th>\n",
       "      <td>0.000207</td>\n",
       "      <td>5</td>\n",
       "      <td>1</td>\n",
       "      <td>0.876</td>\n",
       "      <td>1</td>\n",
       "      <td>0</td>\n",
       "      <td>0</td>\n",
       "      <td>0</td>\n",
       "      <td>1</td>\n",
       "      <td>False</td>\n",
       "      <td>...</td>\n",
       "      <td>0.000296</td>\n",
       "      <td>0.022205</td>\n",
       "      <td>0.0</td>\n",
       "      <td>0.0</td>\n",
       "      <td>0.290938</td>\n",
       "      <td>0.0</td>\n",
       "      <td>0.0</td>\n",
       "      <td>0.107282</td>\n",
       "      <td>0.0</td>\n",
       "      <td>0.0</td>\n",
       "    </tr>\n",
       "  </tbody>\n",
       "</table>\n",
       "<p>5 rows × 66 columns</p>\n",
       "</div>"
      ],
      "text/plain": [
       "      count  weekGroup  itemID  customerRating  manufacturer  brand  \\\n",
       "0  0.000414          1       1           0.876             1      0   \n",
       "1  0.064817          2       1           0.876             1      0   \n",
       "2  0.007248          3       1           0.876             1      0   \n",
       "3  0.000621          4       1           0.876             1      0   \n",
       "4  0.000207          5       1           0.876             1      0   \n",
       "\n",
       "   category1  category3  dateFirstSell  soldWeekly  ...  avg_salesPrice_lag_5  \\\n",
       "0          0          0              1       False  ...              0.000296   \n",
       "1          0          0              1       False  ...              0.000296   \n",
       "2          0          0              1       False  ...              0.000296   \n",
       "3          0          0              1       False  ...              0.000296   \n",
       "4          0          0              1       False  ...              0.000296   \n",
       "\n",
       "   brand_avg_avg_salesPrice_lag_5  brand_sum_count_lag_5  \\\n",
       "0                        0.022205                    0.0   \n",
       "1                        0.022205                    0.0   \n",
       "2                        0.022205                    0.0   \n",
       "3                        0.022205                    0.0   \n",
       "4                        0.022205                    0.0   \n",
       "\n",
       "   brand_avg_count_lag_5  category1_avg_avg_salesPrice_lag_5  \\\n",
       "0                    0.0                            0.290938   \n",
       "1                    0.0                            0.290938   \n",
       "2                    0.0                            0.290938   \n",
       "3                    0.0                            0.290938   \n",
       "4                    0.0                            0.290938   \n",
       "\n",
       "   category1_sum_count_lag_5  category1_avg_count_lag_5  \\\n",
       "0                        0.0                        0.0   \n",
       "1                        0.0                        0.0   \n",
       "2                        0.0                        0.0   \n",
       "3                        0.0                        0.0   \n",
       "4                        0.0                        0.0   \n",
       "\n",
       "   category3_avg_avg_salesPrice_lag_5  category3_sum_count_lag_5  \\\n",
       "0                            0.107282                        0.0   \n",
       "1                            0.107282                        0.0   \n",
       "2                            0.107282                        0.0   \n",
       "3                            0.107282                        0.0   \n",
       "4                            0.107282                        0.0   \n",
       "\n",
       "   category3_avg_count_lag_5  \n",
       "0                        0.0  \n",
       "1                        0.0  \n",
       "2                        0.0  \n",
       "3                        0.0  \n",
       "4                        0.0  \n",
       "\n",
       "[5 rows x 66 columns]"
      ]
     },
     "execution_count": 150,
     "metadata": {},
     "output_type": "execute_result"
    }
   ],
   "source": [
    "sales_means.head()"
   ]
  },
  {
   "cell_type": "code",
   "execution_count": 151,
   "metadata": {},
   "outputs": [],
   "source": [
    "sales_means = sales_means.join(bundles.set_index(\"itemID\"), on=\"itemID\", how=\"left\")"
   ]
  },
  {
   "cell_type": "code",
   "execution_count": 152,
   "metadata": {},
   "outputs": [],
   "source": [
    "sales_means.sample(frac=1).reset_index(drop=True)\n",
    "X_train = sales_means.tail(len(sales_means)-2000)#[(sales_means['weekGroup']<=9)]# & (sales_means['weekGroup']==10)]\n",
    "X_cv =  sales_means.head(2000)#[sales_means['weekGroup']==10]\n",
    "X_test = sales_means[sales_means['weekGroup']==11]\n",
    "Y_train = X_train['count']\n",
    "Y_cv = X_cv['count']\n",
    "Y_test = X_test['count']\n",
    "del X_train['count']\n",
    "del X_cv['count']\n",
    "del X_test['count']\n",
    "del X_train['weekGroup']\n",
    "del X_cv['weekGroup']\n",
    "del X_test['weekGroup']"
   ]
  },
  {
   "cell_type": "code",
   "execution_count": 153,
   "metadata": {},
   "outputs": [],
   "source": [
    "del X_train['itemID']\n",
    "del X_cv['itemID']"
   ]
  },
  {
   "cell_type": "code",
   "execution_count": 154,
   "metadata": {
    "scrolled": true
   },
   "outputs": [
    {
     "name": "stdout",
     "output_type": "stream",
     "text": [
      "[0]\tvalidation_0-rmse:0.45206\tvalidation_1-rmse:0.45748\n",
      "Multiple eval metrics have been passed: 'validation_1-rmse' will be used for early stopping.\n",
      "\n",
      "Will train until validation_1-rmse hasn't improved in 10 rounds.\n",
      "[1]\tvalidation_0-rmse:0.41636\tvalidation_1-rmse:0.42139\n",
      "[2]\tvalidation_0-rmse:0.38365\tvalidation_1-rmse:0.38836\n",
      "[3]\tvalidation_0-rmse:0.35363\tvalidation_1-rmse:0.35793\n",
      "[4]\tvalidation_0-rmse:0.32609\tvalidation_1-rmse:0.33006\n",
      "[5]\tvalidation_0-rmse:0.30078\tvalidation_1-rmse:0.30446\n",
      "[6]\tvalidation_0-rmse:0.27751\tvalidation_1-rmse:0.28087\n",
      "[7]\tvalidation_0-rmse:0.25612\tvalidation_1-rmse:0.25920\n",
      "[8]\tvalidation_0-rmse:0.23645\tvalidation_1-rmse:0.23915\n",
      "[9]\tvalidation_0-rmse:0.21837\tvalidation_1-rmse:0.22076\n",
      "[10]\tvalidation_0-rmse:0.20173\tvalidation_1-rmse:0.20382\n",
      "[11]\tvalidation_0-rmse:0.18643\tvalidation_1-rmse:0.18812\n",
      "[12]\tvalidation_0-rmse:0.17236\tvalidation_1-rmse:0.17375\n",
      "[13]\tvalidation_0-rmse:0.15941\tvalidation_1-rmse:0.16050\n",
      "[14]\tvalidation_0-rmse:0.14751\tvalidation_1-rmse:0.14823\n",
      "[15]\tvalidation_0-rmse:0.13659\tvalidation_1-rmse:0.13697\n",
      "[16]\tvalidation_0-rmse:0.12655\tvalidation_1-rmse:0.12661\n",
      "[17]\tvalidation_0-rmse:0.11734\tvalidation_1-rmse:0.11707\n",
      "[18]\tvalidation_0-rmse:0.10888\tvalidation_1-rmse:0.10821\n",
      "[19]\tvalidation_0-rmse:0.10113\tvalidation_1-rmse:0.10010\n",
      "[20]\tvalidation_0-rmse:0.09404\tvalidation_1-rmse:0.09271\n",
      "[21]\tvalidation_0-rmse:0.08755\tvalidation_1-rmse:0.08584\n",
      "[22]\tvalidation_0-rmse:0.08163\tvalidation_1-rmse:0.07949\n",
      "[23]\tvalidation_0-rmse:0.07623\tvalidation_1-rmse:0.07366\n",
      "[24]\tvalidation_0-rmse:0.07130\tvalidation_1-rmse:0.06817\n",
      "[25]\tvalidation_0-rmse:0.06682\tvalidation_1-rmse:0.06319\n",
      "[26]\tvalidation_0-rmse:0.06273\tvalidation_1-rmse:0.05852\n",
      "[27]\tvalidation_0-rmse:0.05904\tvalidation_1-rmse:0.05422\n",
      "[28]\tvalidation_0-rmse:0.05570\tvalidation_1-rmse:0.05038\n",
      "[29]\tvalidation_0-rmse:0.05269\tvalidation_1-rmse:0.04683\n",
      "[30]\tvalidation_0-rmse:0.05000\tvalidation_1-rmse:0.04348\n",
      "[31]\tvalidation_0-rmse:0.04757\tvalidation_1-rmse:0.04046\n",
      "[32]\tvalidation_0-rmse:0.04540\tvalidation_1-rmse:0.03768\n",
      "[33]\tvalidation_0-rmse:0.04346\tvalidation_1-rmse:0.03517\n",
      "[34]\tvalidation_0-rmse:0.04175\tvalidation_1-rmse:0.03278\n",
      "[35]\tvalidation_0-rmse:0.04023\tvalidation_1-rmse:0.03062\n",
      "[36]\tvalidation_0-rmse:0.03889\tvalidation_1-rmse:0.02862\n",
      "[37]\tvalidation_0-rmse:0.03770\tvalidation_1-rmse:0.02681\n",
      "[38]\tvalidation_0-rmse:0.03667\tvalidation_1-rmse:0.02514\n",
      "[39]\tvalidation_0-rmse:0.03574\tvalidation_1-rmse:0.02364\n",
      "[40]\tvalidation_0-rmse:0.03494\tvalidation_1-rmse:0.02227\n",
      "[41]\tvalidation_0-rmse:0.03426\tvalidation_1-rmse:0.02102\n",
      "[42]\tvalidation_0-rmse:0.03366\tvalidation_1-rmse:0.01986\n",
      "[43]\tvalidation_0-rmse:0.03314\tvalidation_1-rmse:0.01888\n",
      "[44]\tvalidation_0-rmse:0.03268\tvalidation_1-rmse:0.01796\n",
      "[45]\tvalidation_0-rmse:0.03227\tvalidation_1-rmse:0.01715\n",
      "[46]\tvalidation_0-rmse:0.03193\tvalidation_1-rmse:0.01644\n",
      "[47]\tvalidation_0-rmse:0.03164\tvalidation_1-rmse:0.01579\n",
      "[48]\tvalidation_0-rmse:0.03138\tvalidation_1-rmse:0.01521\n",
      "[49]\tvalidation_0-rmse:0.03114\tvalidation_1-rmse:0.01473\n",
      "[50]\tvalidation_0-rmse:0.03093\tvalidation_1-rmse:0.01424\n",
      "[51]\tvalidation_0-rmse:0.03074\tvalidation_1-rmse:0.01383\n",
      "[52]\tvalidation_0-rmse:0.03059\tvalidation_1-rmse:0.01345\n",
      "[53]\tvalidation_0-rmse:0.03044\tvalidation_1-rmse:0.01310\n",
      "[54]\tvalidation_0-rmse:0.03033\tvalidation_1-rmse:0.01273\n",
      "[55]\tvalidation_0-rmse:0.03023\tvalidation_1-rmse:0.01243\n",
      "[56]\tvalidation_0-rmse:0.03014\tvalidation_1-rmse:0.01223\n",
      "[57]\tvalidation_0-rmse:0.03004\tvalidation_1-rmse:0.01206\n",
      "[58]\tvalidation_0-rmse:0.02997\tvalidation_1-rmse:0.01185\n",
      "[59]\tvalidation_0-rmse:0.02988\tvalidation_1-rmse:0.01171\n",
      "[60]\tvalidation_0-rmse:0.02981\tvalidation_1-rmse:0.01157\n",
      "[61]\tvalidation_0-rmse:0.02976\tvalidation_1-rmse:0.01143\n",
      "[62]\tvalidation_0-rmse:0.02972\tvalidation_1-rmse:0.01130\n",
      "[63]\tvalidation_0-rmse:0.02966\tvalidation_1-rmse:0.01120\n",
      "[64]\tvalidation_0-rmse:0.02962\tvalidation_1-rmse:0.01110\n",
      "[65]\tvalidation_0-rmse:0.02956\tvalidation_1-rmse:0.01104\n",
      "[66]\tvalidation_0-rmse:0.02952\tvalidation_1-rmse:0.01098\n",
      "[67]\tvalidation_0-rmse:0.02949\tvalidation_1-rmse:0.01092\n",
      "[68]\tvalidation_0-rmse:0.02945\tvalidation_1-rmse:0.01089\n",
      "[69]\tvalidation_0-rmse:0.02941\tvalidation_1-rmse:0.01083\n",
      "[70]\tvalidation_0-rmse:0.02938\tvalidation_1-rmse:0.01078\n",
      "[71]\tvalidation_0-rmse:0.02934\tvalidation_1-rmse:0.01076\n",
      "[72]\tvalidation_0-rmse:0.02931\tvalidation_1-rmse:0.01073\n",
      "[73]\tvalidation_0-rmse:0.02927\tvalidation_1-rmse:0.01070\n",
      "[74]\tvalidation_0-rmse:0.02924\tvalidation_1-rmse:0.01066\n",
      "[75]\tvalidation_0-rmse:0.02921\tvalidation_1-rmse:0.01066\n",
      "[76]\tvalidation_0-rmse:0.02919\tvalidation_1-rmse:0.01064\n",
      "[77]\tvalidation_0-rmse:0.02917\tvalidation_1-rmse:0.01063\n",
      "[78]\tvalidation_0-rmse:0.02915\tvalidation_1-rmse:0.01062\n",
      "[79]\tvalidation_0-rmse:0.02913\tvalidation_1-rmse:0.01061\n",
      "[80]\tvalidation_0-rmse:0.02911\tvalidation_1-rmse:0.01059\n",
      "[81]\tvalidation_0-rmse:0.02907\tvalidation_1-rmse:0.01059\n",
      "[82]\tvalidation_0-rmse:0.02905\tvalidation_1-rmse:0.01058\n",
      "[83]\tvalidation_0-rmse:0.02902\tvalidation_1-rmse:0.01056\n",
      "[84]\tvalidation_0-rmse:0.02899\tvalidation_1-rmse:0.01055\n",
      "[85]\tvalidation_0-rmse:0.02897\tvalidation_1-rmse:0.01055\n",
      "[86]\tvalidation_0-rmse:0.02894\tvalidation_1-rmse:0.01054\n",
      "[87]\tvalidation_0-rmse:0.02893\tvalidation_1-rmse:0.01054\n",
      "[88]\tvalidation_0-rmse:0.02890\tvalidation_1-rmse:0.01053\n",
      "[89]\tvalidation_0-rmse:0.02889\tvalidation_1-rmse:0.01053\n",
      "[90]\tvalidation_0-rmse:0.02887\tvalidation_1-rmse:0.01053\n",
      "[91]\tvalidation_0-rmse:0.02886\tvalidation_1-rmse:0.01052\n",
      "[92]\tvalidation_0-rmse:0.02882\tvalidation_1-rmse:0.01051\n",
      "[93]\tvalidation_0-rmse:0.02880\tvalidation_1-rmse:0.01050\n",
      "[94]\tvalidation_0-rmse:0.02878\tvalidation_1-rmse:0.01049\n",
      "[95]\tvalidation_0-rmse:0.02877\tvalidation_1-rmse:0.01049\n",
      "[96]\tvalidation_0-rmse:0.02874\tvalidation_1-rmse:0.01048\n",
      "[97]\tvalidation_0-rmse:0.02872\tvalidation_1-rmse:0.01048\n",
      "[98]\tvalidation_0-rmse:0.02870\tvalidation_1-rmse:0.01047\n",
      "[99]\tvalidation_0-rmse:0.02868\tvalidation_1-rmse:0.01046\n",
      "[100]\tvalidation_0-rmse:0.02867\tvalidation_1-rmse:0.01045\n",
      "[101]\tvalidation_0-rmse:0.02865\tvalidation_1-rmse:0.01045\n",
      "[102]\tvalidation_0-rmse:0.02862\tvalidation_1-rmse:0.01044\n",
      "[103]\tvalidation_0-rmse:0.02860\tvalidation_1-rmse:0.01044\n",
      "[104]\tvalidation_0-rmse:0.02859\tvalidation_1-rmse:0.01045\n",
      "[105]\tvalidation_0-rmse:0.02857\tvalidation_1-rmse:0.01044\n",
      "[106]\tvalidation_0-rmse:0.02854\tvalidation_1-rmse:0.01044\n",
      "[107]\tvalidation_0-rmse:0.02851\tvalidation_1-rmse:0.01043\n",
      "[108]\tvalidation_0-rmse:0.02849\tvalidation_1-rmse:0.01044\n",
      "[109]\tvalidation_0-rmse:0.02847\tvalidation_1-rmse:0.01043\n",
      "[110]\tvalidation_0-rmse:0.02845\tvalidation_1-rmse:0.01043\n",
      "[111]\tvalidation_0-rmse:0.02843\tvalidation_1-rmse:0.01043\n",
      "[112]\tvalidation_0-rmse:0.02841\tvalidation_1-rmse:0.01043\n",
      "[113]\tvalidation_0-rmse:0.02839\tvalidation_1-rmse:0.01043\n",
      "[114]\tvalidation_0-rmse:0.02838\tvalidation_1-rmse:0.01043\n",
      "[115]\tvalidation_0-rmse:0.02837\tvalidation_1-rmse:0.01043\n",
      "[116]\tvalidation_0-rmse:0.02835\tvalidation_1-rmse:0.01042\n",
      "[117]\tvalidation_0-rmse:0.02835\tvalidation_1-rmse:0.01042\n",
      "[118]\tvalidation_0-rmse:0.02833\tvalidation_1-rmse:0.01042\n",
      "[119]\tvalidation_0-rmse:0.02832\tvalidation_1-rmse:0.01042\n",
      "[120]\tvalidation_0-rmse:0.02831\tvalidation_1-rmse:0.01042\n",
      "[121]\tvalidation_0-rmse:0.02830\tvalidation_1-rmse:0.01041\n",
      "[122]\tvalidation_0-rmse:0.02827\tvalidation_1-rmse:0.01041\n",
      "[123]\tvalidation_0-rmse:0.02825\tvalidation_1-rmse:0.01041\n",
      "[124]\tvalidation_0-rmse:0.02824\tvalidation_1-rmse:0.01041\n",
      "[125]\tvalidation_0-rmse:0.02822\tvalidation_1-rmse:0.01041\n",
      "[126]\tvalidation_0-rmse:0.02820\tvalidation_1-rmse:0.01041\n",
      "[127]\tvalidation_0-rmse:0.02818\tvalidation_1-rmse:0.01042\n",
      "[128]\tvalidation_0-rmse:0.02815\tvalidation_1-rmse:0.01041\n",
      "[129]\tvalidation_0-rmse:0.02814\tvalidation_1-rmse:0.01039\n",
      "[130]\tvalidation_0-rmse:0.02812\tvalidation_1-rmse:0.01039\n",
      "[131]\tvalidation_0-rmse:0.02810\tvalidation_1-rmse:0.01039\n",
      "[132]\tvalidation_0-rmse:0.02809\tvalidation_1-rmse:0.01038\n",
      "[133]\tvalidation_0-rmse:0.02807\tvalidation_1-rmse:0.01038\n",
      "[134]\tvalidation_0-rmse:0.02806\tvalidation_1-rmse:0.01038\n",
      "[135]\tvalidation_0-rmse:0.02804\tvalidation_1-rmse:0.01037\n",
      "[136]\tvalidation_0-rmse:0.02803\tvalidation_1-rmse:0.01037\n",
      "[137]\tvalidation_0-rmse:0.02801\tvalidation_1-rmse:0.01037\n",
      "[138]\tvalidation_0-rmse:0.02799\tvalidation_1-rmse:0.01036\n",
      "[139]\tvalidation_0-rmse:0.02797\tvalidation_1-rmse:0.01036\n",
      "[140]\tvalidation_0-rmse:0.02796\tvalidation_1-rmse:0.01036\n"
     ]
    },
    {
     "name": "stdout",
     "output_type": "stream",
     "text": [
      "[141]\tvalidation_0-rmse:0.02795\tvalidation_1-rmse:0.01036\n",
      "[142]\tvalidation_0-rmse:0.02794\tvalidation_1-rmse:0.01036\n",
      "[143]\tvalidation_0-rmse:0.02791\tvalidation_1-rmse:0.01037\n",
      "[144]\tvalidation_0-rmse:0.02790\tvalidation_1-rmse:0.01036\n",
      "[145]\tvalidation_0-rmse:0.02789\tvalidation_1-rmse:0.01036\n",
      "[146]\tvalidation_0-rmse:0.02786\tvalidation_1-rmse:0.01035\n",
      "[147]\tvalidation_0-rmse:0.02785\tvalidation_1-rmse:0.01035\n",
      "[148]\tvalidation_0-rmse:0.02782\tvalidation_1-rmse:0.01035\n",
      "[149]\tvalidation_0-rmse:0.02781\tvalidation_1-rmse:0.01035\n",
      "[150]\tvalidation_0-rmse:0.02781\tvalidation_1-rmse:0.01035\n",
      "[151]\tvalidation_0-rmse:0.02779\tvalidation_1-rmse:0.01034\n",
      "[152]\tvalidation_0-rmse:0.02778\tvalidation_1-rmse:0.01034\n",
      "[153]\tvalidation_0-rmse:0.02777\tvalidation_1-rmse:0.01034\n",
      "[154]\tvalidation_0-rmse:0.02776\tvalidation_1-rmse:0.01035\n",
      "[155]\tvalidation_0-rmse:0.02774\tvalidation_1-rmse:0.01034\n",
      "[156]\tvalidation_0-rmse:0.02773\tvalidation_1-rmse:0.01034\n",
      "[157]\tvalidation_0-rmse:0.02772\tvalidation_1-rmse:0.01034\n",
      "[158]\tvalidation_0-rmse:0.02770\tvalidation_1-rmse:0.01033\n",
      "[159]\tvalidation_0-rmse:0.02769\tvalidation_1-rmse:0.01033\n",
      "[160]\tvalidation_0-rmse:0.02768\tvalidation_1-rmse:0.01033\n",
      "[161]\tvalidation_0-rmse:0.02766\tvalidation_1-rmse:0.01033\n",
      "[162]\tvalidation_0-rmse:0.02765\tvalidation_1-rmse:0.01033\n",
      "[163]\tvalidation_0-rmse:0.02764\tvalidation_1-rmse:0.01033\n",
      "[164]\tvalidation_0-rmse:0.02762\tvalidation_1-rmse:0.01033\n",
      "[165]\tvalidation_0-rmse:0.02761\tvalidation_1-rmse:0.01033\n",
      "[166]\tvalidation_0-rmse:0.02760\tvalidation_1-rmse:0.01033\n",
      "[167]\tvalidation_0-rmse:0.02758\tvalidation_1-rmse:0.01033\n",
      "[168]\tvalidation_0-rmse:0.02757\tvalidation_1-rmse:0.01032\n",
      "[169]\tvalidation_0-rmse:0.02755\tvalidation_1-rmse:0.01032\n",
      "[170]\tvalidation_0-rmse:0.02755\tvalidation_1-rmse:0.01032\n",
      "[171]\tvalidation_0-rmse:0.02753\tvalidation_1-rmse:0.01032\n",
      "[172]\tvalidation_0-rmse:0.02752\tvalidation_1-rmse:0.01032\n",
      "[173]\tvalidation_0-rmse:0.02749\tvalidation_1-rmse:0.01032\n",
      "[174]\tvalidation_0-rmse:0.02747\tvalidation_1-rmse:0.01031\n",
      "[175]\tvalidation_0-rmse:0.02747\tvalidation_1-rmse:0.01031\n",
      "[176]\tvalidation_0-rmse:0.02746\tvalidation_1-rmse:0.01031\n",
      "[177]\tvalidation_0-rmse:0.02745\tvalidation_1-rmse:0.01031\n",
      "[178]\tvalidation_0-rmse:0.02743\tvalidation_1-rmse:0.01031\n",
      "[179]\tvalidation_0-rmse:0.02742\tvalidation_1-rmse:0.01030\n",
      "[180]\tvalidation_0-rmse:0.02740\tvalidation_1-rmse:0.01031\n",
      "[181]\tvalidation_0-rmse:0.02738\tvalidation_1-rmse:0.01030\n",
      "[182]\tvalidation_0-rmse:0.02738\tvalidation_1-rmse:0.01031\n",
      "[183]\tvalidation_0-rmse:0.02738\tvalidation_1-rmse:0.01030\n",
      "[184]\tvalidation_0-rmse:0.02736\tvalidation_1-rmse:0.01031\n",
      "[185]\tvalidation_0-rmse:0.02735\tvalidation_1-rmse:0.01030\n",
      "[186]\tvalidation_0-rmse:0.02734\tvalidation_1-rmse:0.01030\n",
      "[187]\tvalidation_0-rmse:0.02732\tvalidation_1-rmse:0.01030\n",
      "[188]\tvalidation_0-rmse:0.02731\tvalidation_1-rmse:0.01030\n",
      "[189]\tvalidation_0-rmse:0.02730\tvalidation_1-rmse:0.01030\n",
      "[190]\tvalidation_0-rmse:0.02730\tvalidation_1-rmse:0.01030\n",
      "[191]\tvalidation_0-rmse:0.02729\tvalidation_1-rmse:0.01030\n",
      "[192]\tvalidation_0-rmse:0.02728\tvalidation_1-rmse:0.01030\n",
      "[193]\tvalidation_0-rmse:0.02725\tvalidation_1-rmse:0.01030\n",
      "[194]\tvalidation_0-rmse:0.02723\tvalidation_1-rmse:0.01030\n",
      "[195]\tvalidation_0-rmse:0.02721\tvalidation_1-rmse:0.01030\n",
      "[196]\tvalidation_0-rmse:0.02721\tvalidation_1-rmse:0.01030\n",
      "[197]\tvalidation_0-rmse:0.02720\tvalidation_1-rmse:0.01030\n",
      "[198]\tvalidation_0-rmse:0.02719\tvalidation_1-rmse:0.01030\n",
      "[199]\tvalidation_0-rmse:0.02718\tvalidation_1-rmse:0.01030\n",
      "Stopping. Best iteration:\n",
      "[189]\tvalidation_0-rmse:0.02730\tvalidation_1-rmse:0.01030\n",
      "\n"
     ]
    },
    {
     "data": {
      "text/plain": [
       "XGBRegressor(base_score=0.5, booster='gbtree', colsample_bylevel=1,\n",
       "             colsample_bynode=1, colsample_bytree=0.8, gamma=0, gpu_id=-1,\n",
       "             importance_type='gain', interaction_constraints=None,\n",
       "             learning_rate=0.08, max_delta_step=0, max_depth=3,\n",
       "             min_child_weight=1, missing=nan, monotone_constraints=None,\n",
       "             n_estimators=200, n_jobs=0, num_parallel_tree=1,\n",
       "             objective='reg:logistic', random_state=20, reg_alpha=0,\n",
       "             reg_lambda=1, scale_pos_weight=1, seed=20, silent=1, subsample=0.8,\n",
       "             tree_method=None, validate_parameters=False, verbosity=None)"
      ]
     },
     "execution_count": 154,
     "metadata": {},
     "output_type": "execute_result"
    }
   ],
   "source": [
    "from xgboost import XGBRegressor\n",
    "model = XGBRegressor(\n",
    "    booster = 'gbtree', \n",
    "    colsample_bytree = 0.8, \n",
    "    gamma = 0, \n",
    "    learning_rate = 0.08, \n",
    "    max_depth= 3, \n",
    "    min_child_weight= 1, \n",
    "    n_estimators= 200, \n",
    "    objective= 'reg:logistic', \n",
    "    seed= 20, \n",
    "    silent= 1, \n",
    "    subsample= 0.8)\n",
    "model.fit(\n",
    "    X_train, \n",
    "    Y_train, \n",
    "    eval_metric=\"rmse\", \n",
    "    eval_set=[(X_train, Y_train), (X_cv, Y_cv)], \n",
    "    verbose=True, \n",
    "    early_stopping_rounds = 10)"
   ]
  },
  {
   "cell_type": "code",
   "execution_count": 155,
   "metadata": {
    "scrolled": false
   },
   "outputs": [
    {
     "data": {
      "application/vnd.plotly.v1+json": {
       "config": {
        "plotlyServerURL": "https://plot.ly"
       },
       "data": [
        {
         "alignmentgroup": "True",
         "hovertemplate": "columns=%{x}<br>importance=%{y}<extra></extra>",
         "legendgroup": "",
         "marker": {
          "color": "#636efa"
         },
         "name": "",
         "offsetgroup": "",
         "orientation": "v",
         "showlegend": false,
         "textposition": "auto",
         "type": "bar",
         "x": [
          "category3_avg_avg_salesPrice_lag_1",
          "bundles",
          "category3_avg_avg_salesPrice_lag_2",
          "category1_sum_count_lag_1",
          "category1_avg_avg_salesPrice_lag_1",
          "category1_avg_count_lag_1",
          "category1_sum_count_lag_2",
          "category3",
          "soldWeekly",
          "category3_sum_count_lag_1",
          "brand_sum_count_lag_2",
          "customerRating",
          "category1_avg_avg_salesPrice_lag_2",
          "brand_sum_count_lag_1",
          "category1_avg_count_lag_2",
          "category3_avg_count_lag_2",
          "dateFirstSell",
          "recentlySold",
          "count_lag_1",
          "brand_avg_count_lag_1",
          "category1_avg_count_lag_3",
          "category1_avg_avg_salesPrice_lag_4",
          "category1_avg_avg_salesPrice_lag_5",
          "category1",
          "category3_avg_avg_salesPrice_lag_5",
          "category1_sum_count_lag_4",
          "category3_sum_count_lag_3",
          "category3_avg_count_lag_1",
          "category3_sum_count_lag_2",
          "brand_avg_count_lag_2",
          "brand_avg_avg_salesPrice_lag_3",
          "category1_sum_count_lag_3",
          "brand_sum_count_lag_4",
          "manufacturer",
          "avg_salesPrice_lag_1",
          "category1_sum_count_lag_5",
          "brand_avg_avg_salesPrice_lag_5",
          "category3_sum_count_lag_5",
          "brand_avg_count_lag_3",
          "category3_avg_count_lag_3",
          "brand_avg_avg_salesPrice_lag_2",
          "category3_sum_count_lag_4",
          "brand",
          "brand_avg_avg_salesPrice_lag_1",
          "category1_avg_count_lag_5",
          "category1_avg_avg_salesPrice_lag_3",
          "category3_avg_avg_salesPrice_lag_4",
          "count_lag_3",
          "brand_sum_count_lag_3",
          "count_lag_2",
          "avg_salesPrice_lag_5",
          "count_lag_4",
          "avg_salesPrice_lag_4",
          "category3_avg_avg_salesPrice_lag_3",
          "count_lag_5",
          "brand_avg_avg_salesPrice_lag_4",
          "avg_salesPrice_lag_3",
          "category3_avg_count_lag_5",
          "avg_salesPrice_lag_2",
          "brand_avg_count_lag_4",
          "brand_sum_count_lag_5",
          "category1_avg_count_lag_4",
          "brand_avg_count_lag_5",
          "category3_avg_count_lag_4",
          "free_bundles"
         ],
         "xaxis": "x",
         "y": [
          0.05854519456624985,
          0.051989324390888214,
          0.04894543066620827,
          0.04766324535012245,
          0.04101381078362465,
          0.03738420456647873,
          0.032640159130096436,
          0.032330356538295746,
          0.027498411014676094,
          0.02356990985572338,
          0.0232167299836874,
          0.023149045184254646,
          0.022881867364048958,
          0.021600136533379555,
          0.021052807569503784,
          0.020896853879094124,
          0.020681709051132202,
          0.01965249329805374,
          0.01705823838710785,
          0.016859009861946106,
          0.01605408638715744,
          0.015870220959186554,
          0.014942970126867294,
          0.014534847810864449,
          0.014330889098346233,
          0.014005514793097973,
          0.013847963884472847,
          0.013023220002651215,
          0.012981723994016647,
          0.012348112650215626,
          0.012256477028131485,
          0.012172863818705082,
          0.011568513698875904,
          0.011493859812617302,
          0.010295766405761242,
          0.010051967576146126,
          0.009737909771502018,
          0.009561242535710335,
          0.009476414881646633,
          0.009273064322769642,
          0.009216413833200932,
          0.00887204147875309,
          0.008656666614115238,
          0.008603769354522228,
          0.008295204490423203,
          0.008136776275932789,
          0.008136509917676449,
          0.00804133154451847,
          0.007613669149577618,
          0.007540340069681406,
          0.007096095010638237,
          0.006882629822939634,
          0.0066628530621528625,
          0.006489353720098734,
          0.006473330780863762,
          0.0064332312904298306,
          0.006261149886995554,
          0.005383377429097891,
          0.004022354260087013,
          0.0039703682996332645,
          0.0007560063968412578,
          0,
          0,
          0,
          0
         ],
         "yaxis": "y"
        }
       ],
       "layout": {
        "barmode": "relative",
        "legend": {
         "tracegroupgap": 0
        },
        "margin": {
         "t": 60
        },
        "template": {
         "data": {
          "bar": [
           {
            "error_x": {
             "color": "#2a3f5f"
            },
            "error_y": {
             "color": "#2a3f5f"
            },
            "marker": {
             "line": {
              "color": "#E5ECF6",
              "width": 0.5
             }
            },
            "type": "bar"
           }
          ],
          "barpolar": [
           {
            "marker": {
             "line": {
              "color": "#E5ECF6",
              "width": 0.5
             }
            },
            "type": "barpolar"
           }
          ],
          "carpet": [
           {
            "aaxis": {
             "endlinecolor": "#2a3f5f",
             "gridcolor": "white",
             "linecolor": "white",
             "minorgridcolor": "white",
             "startlinecolor": "#2a3f5f"
            },
            "baxis": {
             "endlinecolor": "#2a3f5f",
             "gridcolor": "white",
             "linecolor": "white",
             "minorgridcolor": "white",
             "startlinecolor": "#2a3f5f"
            },
            "type": "carpet"
           }
          ],
          "choropleth": [
           {
            "colorbar": {
             "outlinewidth": 0,
             "ticks": ""
            },
            "type": "choropleth"
           }
          ],
          "contour": [
           {
            "colorbar": {
             "outlinewidth": 0,
             "ticks": ""
            },
            "colorscale": [
             [
              0,
              "#0d0887"
             ],
             [
              0.1111111111111111,
              "#46039f"
             ],
             [
              0.2222222222222222,
              "#7201a8"
             ],
             [
              0.3333333333333333,
              "#9c179e"
             ],
             [
              0.4444444444444444,
              "#bd3786"
             ],
             [
              0.5555555555555556,
              "#d8576b"
             ],
             [
              0.6666666666666666,
              "#ed7953"
             ],
             [
              0.7777777777777778,
              "#fb9f3a"
             ],
             [
              0.8888888888888888,
              "#fdca26"
             ],
             [
              1,
              "#f0f921"
             ]
            ],
            "type": "contour"
           }
          ],
          "contourcarpet": [
           {
            "colorbar": {
             "outlinewidth": 0,
             "ticks": ""
            },
            "type": "contourcarpet"
           }
          ],
          "heatmap": [
           {
            "colorbar": {
             "outlinewidth": 0,
             "ticks": ""
            },
            "colorscale": [
             [
              0,
              "#0d0887"
             ],
             [
              0.1111111111111111,
              "#46039f"
             ],
             [
              0.2222222222222222,
              "#7201a8"
             ],
             [
              0.3333333333333333,
              "#9c179e"
             ],
             [
              0.4444444444444444,
              "#bd3786"
             ],
             [
              0.5555555555555556,
              "#d8576b"
             ],
             [
              0.6666666666666666,
              "#ed7953"
             ],
             [
              0.7777777777777778,
              "#fb9f3a"
             ],
             [
              0.8888888888888888,
              "#fdca26"
             ],
             [
              1,
              "#f0f921"
             ]
            ],
            "type": "heatmap"
           }
          ],
          "heatmapgl": [
           {
            "colorbar": {
             "outlinewidth": 0,
             "ticks": ""
            },
            "colorscale": [
             [
              0,
              "#0d0887"
             ],
             [
              0.1111111111111111,
              "#46039f"
             ],
             [
              0.2222222222222222,
              "#7201a8"
             ],
             [
              0.3333333333333333,
              "#9c179e"
             ],
             [
              0.4444444444444444,
              "#bd3786"
             ],
             [
              0.5555555555555556,
              "#d8576b"
             ],
             [
              0.6666666666666666,
              "#ed7953"
             ],
             [
              0.7777777777777778,
              "#fb9f3a"
             ],
             [
              0.8888888888888888,
              "#fdca26"
             ],
             [
              1,
              "#f0f921"
             ]
            ],
            "type": "heatmapgl"
           }
          ],
          "histogram": [
           {
            "marker": {
             "colorbar": {
              "outlinewidth": 0,
              "ticks": ""
             }
            },
            "type": "histogram"
           }
          ],
          "histogram2d": [
           {
            "colorbar": {
             "outlinewidth": 0,
             "ticks": ""
            },
            "colorscale": [
             [
              0,
              "#0d0887"
             ],
             [
              0.1111111111111111,
              "#46039f"
             ],
             [
              0.2222222222222222,
              "#7201a8"
             ],
             [
              0.3333333333333333,
              "#9c179e"
             ],
             [
              0.4444444444444444,
              "#bd3786"
             ],
             [
              0.5555555555555556,
              "#d8576b"
             ],
             [
              0.6666666666666666,
              "#ed7953"
             ],
             [
              0.7777777777777778,
              "#fb9f3a"
             ],
             [
              0.8888888888888888,
              "#fdca26"
             ],
             [
              1,
              "#f0f921"
             ]
            ],
            "type": "histogram2d"
           }
          ],
          "histogram2dcontour": [
           {
            "colorbar": {
             "outlinewidth": 0,
             "ticks": ""
            },
            "colorscale": [
             [
              0,
              "#0d0887"
             ],
             [
              0.1111111111111111,
              "#46039f"
             ],
             [
              0.2222222222222222,
              "#7201a8"
             ],
             [
              0.3333333333333333,
              "#9c179e"
             ],
             [
              0.4444444444444444,
              "#bd3786"
             ],
             [
              0.5555555555555556,
              "#d8576b"
             ],
             [
              0.6666666666666666,
              "#ed7953"
             ],
             [
              0.7777777777777778,
              "#fb9f3a"
             ],
             [
              0.8888888888888888,
              "#fdca26"
             ],
             [
              1,
              "#f0f921"
             ]
            ],
            "type": "histogram2dcontour"
           }
          ],
          "mesh3d": [
           {
            "colorbar": {
             "outlinewidth": 0,
             "ticks": ""
            },
            "type": "mesh3d"
           }
          ],
          "parcoords": [
           {
            "line": {
             "colorbar": {
              "outlinewidth": 0,
              "ticks": ""
             }
            },
            "type": "parcoords"
           }
          ],
          "pie": [
           {
            "automargin": true,
            "type": "pie"
           }
          ],
          "scatter": [
           {
            "marker": {
             "colorbar": {
              "outlinewidth": 0,
              "ticks": ""
             }
            },
            "type": "scatter"
           }
          ],
          "scatter3d": [
           {
            "line": {
             "colorbar": {
              "outlinewidth": 0,
              "ticks": ""
             }
            },
            "marker": {
             "colorbar": {
              "outlinewidth": 0,
              "ticks": ""
             }
            },
            "type": "scatter3d"
           }
          ],
          "scattercarpet": [
           {
            "marker": {
             "colorbar": {
              "outlinewidth": 0,
              "ticks": ""
             }
            },
            "type": "scattercarpet"
           }
          ],
          "scattergeo": [
           {
            "marker": {
             "colorbar": {
              "outlinewidth": 0,
              "ticks": ""
             }
            },
            "type": "scattergeo"
           }
          ],
          "scattergl": [
           {
            "marker": {
             "colorbar": {
              "outlinewidth": 0,
              "ticks": ""
             }
            },
            "type": "scattergl"
           }
          ],
          "scattermapbox": [
           {
            "marker": {
             "colorbar": {
              "outlinewidth": 0,
              "ticks": ""
             }
            },
            "type": "scattermapbox"
           }
          ],
          "scatterpolar": [
           {
            "marker": {
             "colorbar": {
              "outlinewidth": 0,
              "ticks": ""
             }
            },
            "type": "scatterpolar"
           }
          ],
          "scatterpolargl": [
           {
            "marker": {
             "colorbar": {
              "outlinewidth": 0,
              "ticks": ""
             }
            },
            "type": "scatterpolargl"
           }
          ],
          "scatterternary": [
           {
            "marker": {
             "colorbar": {
              "outlinewidth": 0,
              "ticks": ""
             }
            },
            "type": "scatterternary"
           }
          ],
          "surface": [
           {
            "colorbar": {
             "outlinewidth": 0,
             "ticks": ""
            },
            "colorscale": [
             [
              0,
              "#0d0887"
             ],
             [
              0.1111111111111111,
              "#46039f"
             ],
             [
              0.2222222222222222,
              "#7201a8"
             ],
             [
              0.3333333333333333,
              "#9c179e"
             ],
             [
              0.4444444444444444,
              "#bd3786"
             ],
             [
              0.5555555555555556,
              "#d8576b"
             ],
             [
              0.6666666666666666,
              "#ed7953"
             ],
             [
              0.7777777777777778,
              "#fb9f3a"
             ],
             [
              0.8888888888888888,
              "#fdca26"
             ],
             [
              1,
              "#f0f921"
             ]
            ],
            "type": "surface"
           }
          ],
          "table": [
           {
            "cells": {
             "fill": {
              "color": "#EBF0F8"
             },
             "line": {
              "color": "white"
             }
            },
            "header": {
             "fill": {
              "color": "#C8D4E3"
             },
             "line": {
              "color": "white"
             }
            },
            "type": "table"
           }
          ]
         },
         "layout": {
          "annotationdefaults": {
           "arrowcolor": "#2a3f5f",
           "arrowhead": 0,
           "arrowwidth": 1
          },
          "coloraxis": {
           "colorbar": {
            "outlinewidth": 0,
            "ticks": ""
           }
          },
          "colorscale": {
           "diverging": [
            [
             0,
             "#8e0152"
            ],
            [
             0.1,
             "#c51b7d"
            ],
            [
             0.2,
             "#de77ae"
            ],
            [
             0.3,
             "#f1b6da"
            ],
            [
             0.4,
             "#fde0ef"
            ],
            [
             0.5,
             "#f7f7f7"
            ],
            [
             0.6,
             "#e6f5d0"
            ],
            [
             0.7,
             "#b8e186"
            ],
            [
             0.8,
             "#7fbc41"
            ],
            [
             0.9,
             "#4d9221"
            ],
            [
             1,
             "#276419"
            ]
           ],
           "sequential": [
            [
             0,
             "#0d0887"
            ],
            [
             0.1111111111111111,
             "#46039f"
            ],
            [
             0.2222222222222222,
             "#7201a8"
            ],
            [
             0.3333333333333333,
             "#9c179e"
            ],
            [
             0.4444444444444444,
             "#bd3786"
            ],
            [
             0.5555555555555556,
             "#d8576b"
            ],
            [
             0.6666666666666666,
             "#ed7953"
            ],
            [
             0.7777777777777778,
             "#fb9f3a"
            ],
            [
             0.8888888888888888,
             "#fdca26"
            ],
            [
             1,
             "#f0f921"
            ]
           ],
           "sequentialminus": [
            [
             0,
             "#0d0887"
            ],
            [
             0.1111111111111111,
             "#46039f"
            ],
            [
             0.2222222222222222,
             "#7201a8"
            ],
            [
             0.3333333333333333,
             "#9c179e"
            ],
            [
             0.4444444444444444,
             "#bd3786"
            ],
            [
             0.5555555555555556,
             "#d8576b"
            ],
            [
             0.6666666666666666,
             "#ed7953"
            ],
            [
             0.7777777777777778,
             "#fb9f3a"
            ],
            [
             0.8888888888888888,
             "#fdca26"
            ],
            [
             1,
             "#f0f921"
            ]
           ]
          },
          "colorway": [
           "#636efa",
           "#EF553B",
           "#00cc96",
           "#ab63fa",
           "#FFA15A",
           "#19d3f3",
           "#FF6692",
           "#B6E880",
           "#FF97FF",
           "#FECB52"
          ],
          "font": {
           "color": "#2a3f5f"
          },
          "geo": {
           "bgcolor": "white",
           "lakecolor": "white",
           "landcolor": "#E5ECF6",
           "showlakes": true,
           "showland": true,
           "subunitcolor": "white"
          },
          "hoverlabel": {
           "align": "left"
          },
          "hovermode": "closest",
          "mapbox": {
           "style": "light"
          },
          "paper_bgcolor": "white",
          "plot_bgcolor": "#E5ECF6",
          "polar": {
           "angularaxis": {
            "gridcolor": "white",
            "linecolor": "white",
            "ticks": ""
           },
           "bgcolor": "#E5ECF6",
           "radialaxis": {
            "gridcolor": "white",
            "linecolor": "white",
            "ticks": ""
           }
          },
          "scene": {
           "xaxis": {
            "backgroundcolor": "#E5ECF6",
            "gridcolor": "white",
            "gridwidth": 2,
            "linecolor": "white",
            "showbackground": true,
            "ticks": "",
            "zerolinecolor": "white"
           },
           "yaxis": {
            "backgroundcolor": "#E5ECF6",
            "gridcolor": "white",
            "gridwidth": 2,
            "linecolor": "white",
            "showbackground": true,
            "ticks": "",
            "zerolinecolor": "white"
           },
           "zaxis": {
            "backgroundcolor": "#E5ECF6",
            "gridcolor": "white",
            "gridwidth": 2,
            "linecolor": "white",
            "showbackground": true,
            "ticks": "",
            "zerolinecolor": "white"
           }
          },
          "shapedefaults": {
           "line": {
            "color": "#2a3f5f"
           }
          },
          "ternary": {
           "aaxis": {
            "gridcolor": "white",
            "linecolor": "white",
            "ticks": ""
           },
           "baxis": {
            "gridcolor": "white",
            "linecolor": "white",
            "ticks": ""
           },
           "bgcolor": "#E5ECF6",
           "caxis": {
            "gridcolor": "white",
            "linecolor": "white",
            "ticks": ""
           }
          },
          "title": {
           "x": 0.05
          },
          "xaxis": {
           "automargin": true,
           "gridcolor": "white",
           "linecolor": "white",
           "ticks": "",
           "title": {
            "standoff": 15
           },
           "zerolinecolor": "white",
           "zerolinewidth": 2
          },
          "yaxis": {
           "automargin": true,
           "gridcolor": "white",
           "linecolor": "white",
           "ticks": "",
           "title": {
            "standoff": 15
           },
           "zerolinecolor": "white",
           "zerolinewidth": 2
          }
         }
        },
        "xaxis": {
         "anchor": "y",
         "domain": [
          0,
          1
         ],
         "title": {
          "text": "columns"
         }
        },
        "yaxis": {
         "anchor": "x",
         "domain": [
          0,
          1
         ],
         "title": {
          "text": "importance"
         }
        }
       }
      },
      "text/html": [
       "<div>\n",
       "        \n",
       "        \n",
       "            <div id=\"6d037bab-5132-4add-a4e2-70125bf94357\" class=\"plotly-graph-div\" style=\"height:525px; width:100%;\"></div>\n",
       "            <script type=\"text/javascript\">\n",
       "                require([\"plotly\"], function(Plotly) {\n",
       "                    window.PLOTLYENV=window.PLOTLYENV || {};\n",
       "                    \n",
       "                if (document.getElementById(\"6d037bab-5132-4add-a4e2-70125bf94357\")) {\n",
       "                    Plotly.newPlot(\n",
       "                        '6d037bab-5132-4add-a4e2-70125bf94357',\n",
       "                        [{\"alignmentgroup\": \"True\", \"hovertemplate\": \"columns=%{x}<br>importance=%{y}<extra></extra>\", \"legendgroup\": \"\", \"marker\": {\"color\": \"#636efa\"}, \"name\": \"\", \"offsetgroup\": \"\", \"orientation\": \"v\", \"showlegend\": false, \"textposition\": \"auto\", \"type\": \"bar\", \"x\": [\"category3_avg_avg_salesPrice_lag_1\", \"bundles\", \"category3_avg_avg_salesPrice_lag_2\", \"category1_sum_count_lag_1\", \"category1_avg_avg_salesPrice_lag_1\", \"category1_avg_count_lag_1\", \"category1_sum_count_lag_2\", \"category3\", \"soldWeekly\", \"category3_sum_count_lag_1\", \"brand_sum_count_lag_2\", \"customerRating\", \"category1_avg_avg_salesPrice_lag_2\", \"brand_sum_count_lag_1\", \"category1_avg_count_lag_2\", \"category3_avg_count_lag_2\", \"dateFirstSell\", \"recentlySold\", \"count_lag_1\", \"brand_avg_count_lag_1\", \"category1_avg_count_lag_3\", \"category1_avg_avg_salesPrice_lag_4\", \"category1_avg_avg_salesPrice_lag_5\", \"category1\", \"category3_avg_avg_salesPrice_lag_5\", \"category1_sum_count_lag_4\", \"category3_sum_count_lag_3\", \"category3_avg_count_lag_1\", \"category3_sum_count_lag_2\", \"brand_avg_count_lag_2\", \"brand_avg_avg_salesPrice_lag_3\", \"category1_sum_count_lag_3\", \"brand_sum_count_lag_4\", \"manufacturer\", \"avg_salesPrice_lag_1\", \"category1_sum_count_lag_5\", \"brand_avg_avg_salesPrice_lag_5\", \"category3_sum_count_lag_5\", \"brand_avg_count_lag_3\", \"category3_avg_count_lag_3\", \"brand_avg_avg_salesPrice_lag_2\", \"category3_sum_count_lag_4\", \"brand\", \"brand_avg_avg_salesPrice_lag_1\", \"category1_avg_count_lag_5\", \"category1_avg_avg_salesPrice_lag_3\", \"category3_avg_avg_salesPrice_lag_4\", \"count_lag_3\", \"brand_sum_count_lag_3\", \"count_lag_2\", \"avg_salesPrice_lag_5\", \"count_lag_4\", \"avg_salesPrice_lag_4\", \"category3_avg_avg_salesPrice_lag_3\", \"count_lag_5\", \"brand_avg_avg_salesPrice_lag_4\", \"avg_salesPrice_lag_3\", \"category3_avg_count_lag_5\", \"avg_salesPrice_lag_2\", \"brand_avg_count_lag_4\", \"brand_sum_count_lag_5\", \"category1_avg_count_lag_4\", \"brand_avg_count_lag_5\", \"category3_avg_count_lag_4\", \"free_bundles\"], \"xaxis\": \"x\", \"y\": [0.05854519456624985, 0.051989324390888214, 0.04894543066620827, 0.04766324535012245, 0.04101381078362465, 0.03738420456647873, 0.032640159130096436, 0.032330356538295746, 0.027498411014676094, 0.02356990985572338, 0.0232167299836874, 0.023149045184254646, 0.022881867364048958, 0.021600136533379555, 0.021052807569503784, 0.020896853879094124, 0.020681709051132202, 0.01965249329805374, 0.01705823838710785, 0.016859009861946106, 0.01605408638715744, 0.015870220959186554, 0.014942970126867294, 0.014534847810864449, 0.014330889098346233, 0.014005514793097973, 0.013847963884472847, 0.013023220002651215, 0.012981723994016647, 0.012348112650215626, 0.012256477028131485, 0.012172863818705082, 0.011568513698875904, 0.011493859812617302, 0.010295766405761242, 0.010051967576146126, 0.009737909771502018, 0.009561242535710335, 0.009476414881646633, 0.009273064322769642, 0.009216413833200932, 0.00887204147875309, 0.008656666614115238, 0.008603769354522228, 0.008295204490423203, 0.008136776275932789, 0.008136509917676449, 0.00804133154451847, 0.007613669149577618, 0.007540340069681406, 0.007096095010638237, 0.006882629822939634, 0.0066628530621528625, 0.006489353720098734, 0.006473330780863762, 0.0064332312904298306, 0.006261149886995554, 0.005383377429097891, 0.004022354260087013, 0.0039703682996332645, 0.0007560063968412578, 0.0, 0.0, 0.0, 0.0], \"yaxis\": \"y\"}],\n",
       "                        {\"barmode\": \"relative\", \"legend\": {\"tracegroupgap\": 0}, \"margin\": {\"t\": 60}, \"template\": {\"data\": {\"bar\": [{\"error_x\": {\"color\": \"#2a3f5f\"}, \"error_y\": {\"color\": \"#2a3f5f\"}, \"marker\": {\"line\": {\"color\": \"#E5ECF6\", \"width\": 0.5}}, \"type\": \"bar\"}], \"barpolar\": [{\"marker\": {\"line\": {\"color\": \"#E5ECF6\", \"width\": 0.5}}, \"type\": \"barpolar\"}], \"carpet\": [{\"aaxis\": {\"endlinecolor\": \"#2a3f5f\", \"gridcolor\": \"white\", \"linecolor\": \"white\", \"minorgridcolor\": \"white\", \"startlinecolor\": \"#2a3f5f\"}, \"baxis\": {\"endlinecolor\": \"#2a3f5f\", \"gridcolor\": \"white\", \"linecolor\": \"white\", \"minorgridcolor\": \"white\", \"startlinecolor\": \"#2a3f5f\"}, \"type\": \"carpet\"}], \"choropleth\": [{\"colorbar\": {\"outlinewidth\": 0, \"ticks\": \"\"}, \"type\": \"choropleth\"}], \"contour\": [{\"colorbar\": {\"outlinewidth\": 0, \"ticks\": \"\"}, \"colorscale\": [[0.0, \"#0d0887\"], [0.1111111111111111, \"#46039f\"], [0.2222222222222222, \"#7201a8\"], [0.3333333333333333, \"#9c179e\"], [0.4444444444444444, \"#bd3786\"], [0.5555555555555556, \"#d8576b\"], [0.6666666666666666, \"#ed7953\"], [0.7777777777777778, \"#fb9f3a\"], [0.8888888888888888, \"#fdca26\"], [1.0, \"#f0f921\"]], \"type\": \"contour\"}], \"contourcarpet\": [{\"colorbar\": {\"outlinewidth\": 0, \"ticks\": \"\"}, \"type\": \"contourcarpet\"}], \"heatmap\": [{\"colorbar\": {\"outlinewidth\": 0, \"ticks\": \"\"}, \"colorscale\": [[0.0, \"#0d0887\"], [0.1111111111111111, \"#46039f\"], [0.2222222222222222, \"#7201a8\"], [0.3333333333333333, \"#9c179e\"], [0.4444444444444444, \"#bd3786\"], [0.5555555555555556, \"#d8576b\"], [0.6666666666666666, \"#ed7953\"], [0.7777777777777778, \"#fb9f3a\"], [0.8888888888888888, \"#fdca26\"], [1.0, \"#f0f921\"]], \"type\": \"heatmap\"}], \"heatmapgl\": [{\"colorbar\": {\"outlinewidth\": 0, \"ticks\": \"\"}, \"colorscale\": [[0.0, \"#0d0887\"], [0.1111111111111111, \"#46039f\"], [0.2222222222222222, \"#7201a8\"], [0.3333333333333333, \"#9c179e\"], [0.4444444444444444, \"#bd3786\"], [0.5555555555555556, \"#d8576b\"], [0.6666666666666666, \"#ed7953\"], [0.7777777777777778, \"#fb9f3a\"], [0.8888888888888888, \"#fdca26\"], [1.0, \"#f0f921\"]], \"type\": \"heatmapgl\"}], \"histogram\": [{\"marker\": {\"colorbar\": {\"outlinewidth\": 0, \"ticks\": \"\"}}, \"type\": \"histogram\"}], \"histogram2d\": [{\"colorbar\": {\"outlinewidth\": 0, \"ticks\": \"\"}, \"colorscale\": [[0.0, \"#0d0887\"], [0.1111111111111111, \"#46039f\"], [0.2222222222222222, \"#7201a8\"], [0.3333333333333333, \"#9c179e\"], [0.4444444444444444, \"#bd3786\"], [0.5555555555555556, \"#d8576b\"], [0.6666666666666666, \"#ed7953\"], [0.7777777777777778, \"#fb9f3a\"], [0.8888888888888888, \"#fdca26\"], [1.0, \"#f0f921\"]], \"type\": \"histogram2d\"}], \"histogram2dcontour\": [{\"colorbar\": {\"outlinewidth\": 0, \"ticks\": \"\"}, \"colorscale\": [[0.0, \"#0d0887\"], [0.1111111111111111, \"#46039f\"], [0.2222222222222222, \"#7201a8\"], [0.3333333333333333, \"#9c179e\"], [0.4444444444444444, \"#bd3786\"], [0.5555555555555556, \"#d8576b\"], [0.6666666666666666, \"#ed7953\"], [0.7777777777777778, \"#fb9f3a\"], [0.8888888888888888, \"#fdca26\"], [1.0, \"#f0f921\"]], \"type\": \"histogram2dcontour\"}], \"mesh3d\": [{\"colorbar\": {\"outlinewidth\": 0, \"ticks\": \"\"}, \"type\": \"mesh3d\"}], \"parcoords\": [{\"line\": {\"colorbar\": {\"outlinewidth\": 0, \"ticks\": \"\"}}, \"type\": \"parcoords\"}], \"pie\": [{\"automargin\": true, \"type\": \"pie\"}], \"scatter\": [{\"marker\": {\"colorbar\": {\"outlinewidth\": 0, \"ticks\": \"\"}}, \"type\": \"scatter\"}], \"scatter3d\": [{\"line\": {\"colorbar\": {\"outlinewidth\": 0, \"ticks\": \"\"}}, \"marker\": {\"colorbar\": {\"outlinewidth\": 0, \"ticks\": \"\"}}, \"type\": \"scatter3d\"}], \"scattercarpet\": [{\"marker\": {\"colorbar\": {\"outlinewidth\": 0, \"ticks\": \"\"}}, \"type\": \"scattercarpet\"}], \"scattergeo\": [{\"marker\": {\"colorbar\": {\"outlinewidth\": 0, \"ticks\": \"\"}}, \"type\": \"scattergeo\"}], \"scattergl\": [{\"marker\": {\"colorbar\": {\"outlinewidth\": 0, \"ticks\": \"\"}}, \"type\": \"scattergl\"}], \"scattermapbox\": [{\"marker\": {\"colorbar\": {\"outlinewidth\": 0, \"ticks\": \"\"}}, \"type\": \"scattermapbox\"}], \"scatterpolar\": [{\"marker\": {\"colorbar\": {\"outlinewidth\": 0, \"ticks\": \"\"}}, \"type\": \"scatterpolar\"}], \"scatterpolargl\": [{\"marker\": {\"colorbar\": {\"outlinewidth\": 0, \"ticks\": \"\"}}, \"type\": \"scatterpolargl\"}], \"scatterternary\": [{\"marker\": {\"colorbar\": {\"outlinewidth\": 0, \"ticks\": \"\"}}, \"type\": \"scatterternary\"}], \"surface\": [{\"colorbar\": {\"outlinewidth\": 0, \"ticks\": \"\"}, \"colorscale\": [[0.0, \"#0d0887\"], [0.1111111111111111, \"#46039f\"], [0.2222222222222222, \"#7201a8\"], [0.3333333333333333, \"#9c179e\"], [0.4444444444444444, \"#bd3786\"], [0.5555555555555556, \"#d8576b\"], [0.6666666666666666, \"#ed7953\"], [0.7777777777777778, \"#fb9f3a\"], [0.8888888888888888, \"#fdca26\"], [1.0, \"#f0f921\"]], \"type\": \"surface\"}], \"table\": [{\"cells\": {\"fill\": {\"color\": \"#EBF0F8\"}, \"line\": {\"color\": \"white\"}}, \"header\": {\"fill\": {\"color\": \"#C8D4E3\"}, \"line\": {\"color\": \"white\"}}, \"type\": \"table\"}]}, \"layout\": {\"annotationdefaults\": {\"arrowcolor\": \"#2a3f5f\", \"arrowhead\": 0, \"arrowwidth\": 1}, \"coloraxis\": {\"colorbar\": {\"outlinewidth\": 0, \"ticks\": \"\"}}, \"colorscale\": {\"diverging\": [[0, \"#8e0152\"], [0.1, \"#c51b7d\"], [0.2, \"#de77ae\"], [0.3, \"#f1b6da\"], [0.4, \"#fde0ef\"], [0.5, \"#f7f7f7\"], [0.6, \"#e6f5d0\"], [0.7, \"#b8e186\"], [0.8, \"#7fbc41\"], [0.9, \"#4d9221\"], [1, \"#276419\"]], \"sequential\": [[0.0, \"#0d0887\"], [0.1111111111111111, \"#46039f\"], [0.2222222222222222, \"#7201a8\"], [0.3333333333333333, \"#9c179e\"], [0.4444444444444444, \"#bd3786\"], [0.5555555555555556, \"#d8576b\"], [0.6666666666666666, \"#ed7953\"], [0.7777777777777778, \"#fb9f3a\"], [0.8888888888888888, \"#fdca26\"], [1.0, \"#f0f921\"]], \"sequentialminus\": [[0.0, \"#0d0887\"], [0.1111111111111111, \"#46039f\"], [0.2222222222222222, \"#7201a8\"], [0.3333333333333333, \"#9c179e\"], [0.4444444444444444, \"#bd3786\"], [0.5555555555555556, \"#d8576b\"], [0.6666666666666666, \"#ed7953\"], [0.7777777777777778, \"#fb9f3a\"], [0.8888888888888888, \"#fdca26\"], [1.0, \"#f0f921\"]]}, \"colorway\": [\"#636efa\", \"#EF553B\", \"#00cc96\", \"#ab63fa\", \"#FFA15A\", \"#19d3f3\", \"#FF6692\", \"#B6E880\", \"#FF97FF\", \"#FECB52\"], \"font\": {\"color\": \"#2a3f5f\"}, \"geo\": {\"bgcolor\": \"white\", \"lakecolor\": \"white\", \"landcolor\": \"#E5ECF6\", \"showlakes\": true, \"showland\": true, \"subunitcolor\": \"white\"}, \"hoverlabel\": {\"align\": \"left\"}, \"hovermode\": \"closest\", \"mapbox\": {\"style\": \"light\"}, \"paper_bgcolor\": \"white\", \"plot_bgcolor\": \"#E5ECF6\", \"polar\": {\"angularaxis\": {\"gridcolor\": \"white\", \"linecolor\": \"white\", \"ticks\": \"\"}, \"bgcolor\": \"#E5ECF6\", \"radialaxis\": {\"gridcolor\": \"white\", \"linecolor\": \"white\", \"ticks\": \"\"}}, \"scene\": {\"xaxis\": {\"backgroundcolor\": \"#E5ECF6\", \"gridcolor\": \"white\", \"gridwidth\": 2, \"linecolor\": \"white\", \"showbackground\": true, \"ticks\": \"\", \"zerolinecolor\": \"white\"}, \"yaxis\": {\"backgroundcolor\": \"#E5ECF6\", \"gridcolor\": \"white\", \"gridwidth\": 2, \"linecolor\": \"white\", \"showbackground\": true, \"ticks\": \"\", \"zerolinecolor\": \"white\"}, \"zaxis\": {\"backgroundcolor\": \"#E5ECF6\", \"gridcolor\": \"white\", \"gridwidth\": 2, \"linecolor\": \"white\", \"showbackground\": true, \"ticks\": \"\", \"zerolinecolor\": \"white\"}}, \"shapedefaults\": {\"line\": {\"color\": \"#2a3f5f\"}}, \"ternary\": {\"aaxis\": {\"gridcolor\": \"white\", \"linecolor\": \"white\", \"ticks\": \"\"}, \"baxis\": {\"gridcolor\": \"white\", \"linecolor\": \"white\", \"ticks\": \"\"}, \"bgcolor\": \"#E5ECF6\", \"caxis\": {\"gridcolor\": \"white\", \"linecolor\": \"white\", \"ticks\": \"\"}}, \"title\": {\"x\": 0.05}, \"xaxis\": {\"automargin\": true, \"gridcolor\": \"white\", \"linecolor\": \"white\", \"ticks\": \"\", \"title\": {\"standoff\": 15}, \"zerolinecolor\": \"white\", \"zerolinewidth\": 2}, \"yaxis\": {\"automargin\": true, \"gridcolor\": \"white\", \"linecolor\": \"white\", \"ticks\": \"\", \"title\": {\"standoff\": 15}, \"zerolinecolor\": \"white\", \"zerolinewidth\": 2}}}, \"xaxis\": {\"anchor\": \"y\", \"domain\": [0.0, 1.0], \"title\": {\"text\": \"columns\"}}, \"yaxis\": {\"anchor\": \"x\", \"domain\": [0.0, 1.0], \"title\": {\"text\": \"importance\"}}},\n",
       "                        {\"responsive\": true}\n",
       "                    ).then(function(){\n",
       "                            \n",
       "var gd = document.getElementById('6d037bab-5132-4add-a4e2-70125bf94357');\n",
       "var x = new MutationObserver(function (mutations, observer) {{\n",
       "        var display = window.getComputedStyle(gd).display;\n",
       "        if (!display || display === 'none') {{\n",
       "            console.log([gd, 'removed!']);\n",
       "            Plotly.purge(gd);\n",
       "            observer.disconnect();\n",
       "        }}\n",
       "}});\n",
       "\n",
       "// Listen for the removal of the full notebook cells\n",
       "var notebookContainer = gd.closest('#notebook-container');\n",
       "if (notebookContainer) {{\n",
       "    x.observe(notebookContainer, {childList: true});\n",
       "}}\n",
       "\n",
       "// Listen for the clearing of the current output cell\n",
       "var outputEl = gd.closest('.output');\n",
       "if (outputEl) {{\n",
       "    x.observe(outputEl, {childList: true});\n",
       "}}\n",
       "\n",
       "                        })\n",
       "                };\n",
       "                });\n",
       "            </script>\n",
       "        </div>"
      ]
     },
     "metadata": {},
     "output_type": "display_data"
    }
   ],
   "source": [
    "import plotly_express as px\n",
    "columns = X_train.columns\n",
    "feature_importances = pd.DataFrame({'columns': columns,'importance':model.feature_importances_})\n",
    "feature_importances = feature_importances.sort_values(by='importance',ascending=False)\n",
    "px.bar(feature_importances,x='columns',y='importance')"
   ]
  },
  {
   "cell_type": "code",
   "execution_count": 156,
   "metadata": {},
   "outputs": [],
   "source": [
    "def evaluate_result(y: dict, y_pred: dict):\n",
    "    monetary_value = 0\n",
    "    y_pred = defaultdict(int, y_pred)  # return prediction of 0 for items without prediction\n",
    "    \n",
    "    for item in set(y_pred).difference(set(y)):\n",
    "        y[item] = 0  # make sure that all items for which a demand has been predicted are contained in the actual demands\n",
    "    \n",
    "    for item, demand in y.items():\n",
    "        predicted_demand = y_pred[item]\n",
    "        price = product_prices[item]\n",
    "        monetary_value += price * min(demand, predicted_demand)\n",
    "        if predicted_demand > demand:\n",
    "            monetary_value -= .6 * price * (predicted_demand - demand)\n",
    "            \n",
    "    return monetary_value"
   ]
  },
  {
   "cell_type": "code",
   "execution_count": 157,
   "metadata": {},
   "outputs": [
    {
     "data": {
      "text/html": [
       "<div>\n",
       "<style scoped>\n",
       "    .dataframe tbody tr th:only-of-type {\n",
       "        vertical-align: middle;\n",
       "    }\n",
       "\n",
       "    .dataframe tbody tr th {\n",
       "        vertical-align: top;\n",
       "    }\n",
       "\n",
       "    .dataframe thead th {\n",
       "        text-align: right;\n",
       "    }\n",
       "</style>\n",
       "<table border=\"1\" class=\"dataframe\">\n",
       "  <thead>\n",
       "    <tr style=\"text-align: right;\">\n",
       "      <th></th>\n",
       "      <th>brand</th>\n",
       "      <th>manufacturer</th>\n",
       "      <th>customerRating</th>\n",
       "      <th>category1</th>\n",
       "      <th>category2</th>\n",
       "      <th>category3</th>\n",
       "      <th>recommendedRetailPrice</th>\n",
       "    </tr>\n",
       "    <tr>\n",
       "      <th>itemID</th>\n",
       "      <th></th>\n",
       "      <th></th>\n",
       "      <th></th>\n",
       "      <th></th>\n",
       "      <th></th>\n",
       "      <th></th>\n",
       "      <th></th>\n",
       "    </tr>\n",
       "  </thead>\n",
       "  <tbody>\n",
       "    <tr>\n",
       "      <th>1</th>\n",
       "      <td>0</td>\n",
       "      <td>1</td>\n",
       "      <td>4.38</td>\n",
       "      <td>1</td>\n",
       "      <td>1</td>\n",
       "      <td>1</td>\n",
       "      <td>8.84</td>\n",
       "    </tr>\n",
       "    <tr>\n",
       "      <th>2</th>\n",
       "      <td>0</td>\n",
       "      <td>2</td>\n",
       "      <td>3.00</td>\n",
       "      <td>1</td>\n",
       "      <td>2</td>\n",
       "      <td>1</td>\n",
       "      <td>16.92</td>\n",
       "    </tr>\n",
       "    <tr>\n",
       "      <th>3</th>\n",
       "      <td>0</td>\n",
       "      <td>3</td>\n",
       "      <td>5.00</td>\n",
       "      <td>1</td>\n",
       "      <td>3</td>\n",
       "      <td>1</td>\n",
       "      <td>15.89</td>\n",
       "    </tr>\n",
       "    <tr>\n",
       "      <th>4</th>\n",
       "      <td>0</td>\n",
       "      <td>2</td>\n",
       "      <td>4.44</td>\n",
       "      <td>1</td>\n",
       "      <td>2</td>\n",
       "      <td>1</td>\n",
       "      <td>40.17</td>\n",
       "    </tr>\n",
       "    <tr>\n",
       "      <th>5</th>\n",
       "      <td>0</td>\n",
       "      <td>2</td>\n",
       "      <td>2.33</td>\n",
       "      <td>1</td>\n",
       "      <td>1</td>\n",
       "      <td>1</td>\n",
       "      <td>17.04</td>\n",
       "    </tr>\n",
       "  </tbody>\n",
       "</table>\n",
       "</div>"
      ],
      "text/plain": [
       "        brand  manufacturer  customerRating  category1  category2  category3  \\\n",
       "itemID                                                                         \n",
       "1           0             1            4.38          1          1          1   \n",
       "2           0             2            3.00          1          2          1   \n",
       "3           0             3            5.00          1          3          1   \n",
       "4           0             2            4.44          1          2          1   \n",
       "5           0             2            2.33          1          1          1   \n",
       "\n",
       "        recommendedRetailPrice  \n",
       "itemID                          \n",
       "1                         8.84  \n",
       "2                        16.92  \n",
       "3                        15.89  \n",
       "4                        40.17  \n",
       "5                        17.04  "
      ]
     },
     "execution_count": 157,
     "metadata": {},
     "output_type": "execute_result"
    }
   ],
   "source": [
    "df_info = pd.read_csv('data/infos.csv', sep='|', index_col='itemID')\n",
    "df_items = pd.read_csv('data/items.csv', sep='|', index_col='itemID')\n",
    "df_items.head()"
   ]
  },
  {
   "cell_type": "code",
   "execution_count": 158,
   "metadata": {},
   "outputs": [],
   "source": [
    "# actual demand\n",
    "y = df_test.groupby(by='itemID')['order'].sum().to_dict()\n",
    "\n",
    "# baseline 1 (average demand of previous 14 days)\n",
    "y_baseline1 = df_train[df_train['time'] >= '2018-05-19'].groupby(by='itemID')['order'].sum().to_dict()\n",
    "\n",
    "# baseline 2 (average demand of previous half year)\n",
    "total_orders = df_train.groupby(by='itemID')['order'].sum().to_dict()\n",
    "total_observed_days = (df_train['time'].dt.normalize().max() - df_train['time'].dt.normalize().min()).days\n",
    "y_baseline2 = {item: orders / total_observed_days * 14 for item, orders in total_orders.items()}  # 14-day avg. demand\n",
    "\n",
    "df_info = pd.read_csv('data/infos.csv', sep='|', index_col='itemID')\n",
    "df_items = pd.read_csv('data/items.csv', sep='|', index_col='itemID')\n",
    "product_prices = df_info['simulationPrice'].to_dict()"
   ]
  },
  {
   "cell_type": "code",
   "execution_count": 159,
   "metadata": {},
   "outputs": [],
   "source": [
    "# apply to unseen data\n",
    "y_xgboost_all = dict()\n",
    "for prod in X_test.itemID.unique():\n",
    "    train_predict = pd.DataFrame(scaler.inverse_transform(pd.DataFrame(model.predict(X_test[X_test.itemID == prod].drop(['itemID'], axis=1))))).rename(columns={0:'predicted_count'})\n",
    "    # train_predict[\"actual_count\"] = test[test.itemID == prod][\"order\"].sum()\n",
    "    y_xgboost_all[prod] = int(train_predict[\"predicted_count\"].sum().round())\n",
    "#     if prod in df_train.itemID.unique():\n",
    "#         y_xgboost_all[prod] = int(train_predict[\"predicted_count\"].sum().round())\n",
    "#     else:\n",
    "#         y_xgboost_all[prod] = 0"
   ]
  },
  {
   "cell_type": "code",
   "execution_count": 160,
   "metadata": {},
   "outputs": [
    {
     "name": "stdout",
     "output_type": "stream",
     "text": [
      "Perfect Result: 7895975.87\n",
      "Baseline 1: -3727365.60\n",
      "Baseline 2: -1672504.21\n",
      "XGBoost: 28855.78\n"
     ]
    }
   ],
   "source": [
    "# perfect result\n",
    "print(f'Perfect Result: {evaluate_result(y, y):.2f}')\n",
    "\n",
    "# baseline 1\n",
    "print(f'Baseline 1: {evaluate_result(y, y_baseline1):.2f}')\n",
    "\n",
    "# baseline 2\n",
    "print(f'Baseline 2: {evaluate_result(y, y_baseline2):.2f}')\n",
    "\n",
    "# random forest\n",
    "print(f'XGBoost: {evaluate_result(y, y_xgboost_all):.2f}')\n",
    "# 953796.09"
   ]
  },
  {
   "cell_type": "code",
   "execution_count": null,
   "metadata": {},
   "outputs": [],
   "source": []
  }
 ],
 "metadata": {
  "kernelspec": {
   "display_name": "Python 3",
   "language": "python",
   "name": "python3"
  },
  "language_info": {
   "codemirror_mode": {
    "name": "ipython",
    "version": 3
   },
   "file_extension": ".py",
   "mimetype": "text/x-python",
   "name": "python",
   "nbconvert_exporter": "python",
   "pygments_lexer": "ipython3",
   "version": "3.7.6"
  }
 },
 "nbformat": 4,
 "nbformat_minor": 4
}
