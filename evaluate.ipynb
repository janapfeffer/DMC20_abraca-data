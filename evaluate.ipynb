{
 "cells": [
  {
   "cell_type": "code",
   "execution_count": 3,
   "metadata": {},
   "outputs": [],
   "source": [
    "import pandas as pd\n",
    "\n",
    "df_train = pd.read_csv('data/orders0206_train.csv', sep='|', parse_dates=['time'])\n",
    "df_test = pd.read_csv('data/orders0206_train.csv', sep='|', parse_dates=['time'])\n",
    "\n",
    "df_info = pd.read_csv('data/infos.csv', sep='|', index_col='itemID')\n",
    "product_prices = df_info['simulationPrice'].to_dict()"
   ]
  },
  {
   "cell_type": "code",
   "execution_count": 4,
   "metadata": {},
   "outputs": [
    {
     "output_type": "execute_result",
     "data": {
      "text/plain": "        simulationPrice promotion\nitemID                           \n1                  3.43       NaN\n2                  9.15       NaN\n3                 14.04       NaN\n4                 14.10       NaN\n5                  7.48       NaN",
      "text/html": "<div>\n<style scoped>\n    .dataframe tbody tr th:only-of-type {\n        vertical-align: middle;\n    }\n\n    .dataframe tbody tr th {\n        vertical-align: top;\n    }\n\n    .dataframe thead th {\n        text-align: right;\n    }\n</style>\n<table border=\"1\" class=\"dataframe\">\n  <thead>\n    <tr style=\"text-align: right;\">\n      <th></th>\n      <th>simulationPrice</th>\n      <th>promotion</th>\n    </tr>\n    <tr>\n      <th>itemID</th>\n      <th></th>\n      <th></th>\n    </tr>\n  </thead>\n  <tbody>\n    <tr>\n      <th>1</th>\n      <td>3.43</td>\n      <td>NaN</td>\n    </tr>\n    <tr>\n      <th>2</th>\n      <td>9.15</td>\n      <td>NaN</td>\n    </tr>\n    <tr>\n      <th>3</th>\n      <td>14.04</td>\n      <td>NaN</td>\n    </tr>\n    <tr>\n      <th>4</th>\n      <td>14.10</td>\n      <td>NaN</td>\n    </tr>\n    <tr>\n      <th>5</th>\n      <td>7.48</td>\n      <td>NaN</td>\n    </tr>\n  </tbody>\n</table>\n</div>"
     },
     "metadata": {},
     "execution_count": 4
    }
   ],
   "source": [
    "df_info.head()"
   ]
  },
  {
   "cell_type": "code",
   "execution_count": 6,
   "metadata": {},
   "outputs": [
    {
     "output_type": "execute_result",
     "data": {
      "text/plain": "                 time  transactID  itemID  order  salesPrice\n0 2018-01-01 00:01:56     2278968     450      1       17.42\n1 2018-01-01 00:01:56     2278968      83      1        5.19\n2 2018-01-01 00:07:11     2255797    7851      2       20.47\n3 2018-01-01 00:09:24     2278968     450      1       17.42\n4 2018-01-01 00:09:24     2278968      83      1        5.19",
      "text/html": "<div>\n<style scoped>\n    .dataframe tbody tr th:only-of-type {\n        vertical-align: middle;\n    }\n\n    .dataframe tbody tr th {\n        vertical-align: top;\n    }\n\n    .dataframe thead th {\n        text-align: right;\n    }\n</style>\n<table border=\"1\" class=\"dataframe\">\n  <thead>\n    <tr style=\"text-align: right;\">\n      <th></th>\n      <th>time</th>\n      <th>transactID</th>\n      <th>itemID</th>\n      <th>order</th>\n      <th>salesPrice</th>\n    </tr>\n  </thead>\n  <tbody>\n    <tr>\n      <th>0</th>\n      <td>2018-01-01 00:01:56</td>\n      <td>2278968</td>\n      <td>450</td>\n      <td>1</td>\n      <td>17.42</td>\n    </tr>\n    <tr>\n      <th>1</th>\n      <td>2018-01-01 00:01:56</td>\n      <td>2278968</td>\n      <td>83</td>\n      <td>1</td>\n      <td>5.19</td>\n    </tr>\n    <tr>\n      <th>2</th>\n      <td>2018-01-01 00:07:11</td>\n      <td>2255797</td>\n      <td>7851</td>\n      <td>2</td>\n      <td>20.47</td>\n    </tr>\n    <tr>\n      <th>3</th>\n      <td>2018-01-01 00:09:24</td>\n      <td>2278968</td>\n      <td>450</td>\n      <td>1</td>\n      <td>17.42</td>\n    </tr>\n    <tr>\n      <th>4</th>\n      <td>2018-01-01 00:09:24</td>\n      <td>2278968</td>\n      <td>83</td>\n      <td>1</td>\n      <td>5.19</td>\n    </tr>\n  </tbody>\n</table>\n</div>"
     },
     "metadata": {},
     "execution_count": 6
    }
   ],
   "source": [
    "df_train.head()"
   ]
  },
  {
   "cell_type": "markdown",
   "metadata": {},
   "source": [
    "Evaluation Method"
   ]
  },
  {
   "cell_type": "code",
   "execution_count": 4,
   "metadata": {},
   "outputs": [],
   "source": [
    "from collections import defaultdict\n",
    "\n",
    "def evaluate_result(y: dict, y_pred: dict):\n",
    "    monetary_value = 0\n",
    "    y_pred = defaultdict(int, y_pred)  # return prediction of 0 for items without prediction\n",
    "    \n",
    "    for item, demand in y.items():\n",
    "        predicted_demand = y_pred[item]\n",
    "        price = product_prices[item]\n",
    "        monetary_value += price * min(demand, predicted_demand)\n",
    "        if predicted_demand > demand:\n",
    "            monetary_value -= .6 * price * (predicted_demand - demand)\n",
    "\n",
    "    print(monetary_value)"
   ]
  },
  {
   "cell_type": "markdown",
   "metadata": {},
   "source": [
    "Baseline Models"
   ]
  },
  {
   "cell_type": "code",
   "execution_count": 5,
   "metadata": {},
   "outputs": [],
   "source": [
    "# actual demand\n",
    "y = df_test.groupby(by='itemID')['order'].sum().to_dict()\n",
    "\n",
    "# baseline 1 (average demand of previous 14 days)\n",
    "y_baseline1 = df_train[df_train['time'] >= '2018-05-19'].groupby(by='itemID')['order'].sum().to_dict()\n",
    "\n",
    "# baseline 2 (average demand of previous half year)\n",
    "total_orders = df_train.groupby(by='itemID')['order'].sum().to_dict()\n",
    "total_observed_days = (df_train['time'].dt.normalize().max() - df_train['time'].dt.normalize().min()).days\n",
    "y_baseline2 = {item: orders / total_observed_days * 14 for item, orders in total_orders.items()}  # 14-day avg. demand\n",
    "\n",
    "\n",
    "\n",
    "# baseline 3 (average demand of previous 14 days)\n",
    "y_baseline3 = df_train[(df_train['time'] >= '2018-05-19') & (df_train['time'] < '2018-05-19')].groupby(by='itemID')['order'].sum().to_dict()"
   ]
  },
  {
   "cell_type": "markdown",
   "metadata": {},
   "source": [
    "BaselineEvaluation"
   ]
  },
  {
   "cell_type": "code",
   "execution_count": 6,
   "metadata": {},
   "outputs": [
    {
     "output_type": "stream",
     "name": "stdout",
     "text": "66271234.590000115\n8904189.420000017\n6144352.875894056\n"
    }
   ],
   "source": [
    "# perfect result\n",
    "evaluate_result(y, y)\n",
    "\n",
    "# baseline 1\n",
    "evaluate_result(y, y_baseline1)\n",
    "\n",
    "# baseline 2 (average of previous half year)\n",
    "evaluate_result(y, y_baseline2)"
   ]
  }
 ],
 "metadata": {
  "kernelspec": {
   "display_name": "Python 3",
   "language": "python",
   "name": "python3"
  },
  "language_info": {
   "codemirror_mode": {
    "name": "ipython",
    "version": 3
   },
   "file_extension": ".py",
   "mimetype": "text/x-python",
   "name": "python",
   "nbconvert_exporter": "python",
   "pygments_lexer": "ipython3",
   "version": "3.7.1-final"
  }
 },
 "nbformat": 4,
 "nbformat_minor": 2
}