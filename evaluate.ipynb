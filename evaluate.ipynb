{
 "cells": [
  {
   "cell_type": "code",
   "execution_count": 1,
   "metadata": {},
   "outputs": [],
   "source": [
    "import pandas as pd\n",
    "\n",
    "df_train = pd.read_csv('data/orders0206_train.csv', sep='|', parse_dates=['time'])\n",
    "df_test = pd.read_csv('data/orders0206_train.csv', sep='|', parse_dates=['time'])\n",
    "\n",
    "df_info = pd.read_csv('data/infos.csv', sep='|', index_col='itemID')\n",
    "product_prices = df_info['simulationPrice'].to_dict()"
   ]
  },
  {
   "cell_type": "markdown",
   "metadata": {},
   "source": [
    "Evaluation Method :)"
   ]
  },
  {
   "cell_type": "code",
   "execution_count": 4,
   "metadata": {},
   "outputs": [],
   "source": [
    "from collections import defaultdict\n",
    "\n",
    "def evaluate_result(y: dict, y_pred: dict):\n",
    "    monetary_value = 0\n",
    "    y_pred = defaultdict(int, y_pred)  # return prediction of 0 for items without prediction\n",
    "    \n",
    "    for item, demand in y.items():\n",
    "        predicted_demand = y_pred[item]\n",
    "        price = product_prices[item]\n",
    "        monetary_value += price * min(demand, predicted_demand)\n",
    "        if predicted_demand > demand:\n",
    "            monetary_value -= .6 * price * (predicted_demand - demand)\n",
    "\n",
    "    print(monetary_value)"
   ]
  },
  {
   "cell_type": "markdown",
   "metadata": {},
   "source": [
    "Baseline Models"
   ]
  },
  {
   "cell_type": "code",
   "execution_count": 5,
   "metadata": {},
   "outputs": [],
   "source": [
    "# actual demand\n",
    "y = df_test.groupby(by='itemID')['order'].sum().to_dict()\n",
    "\n",
    "# baseline 1 (average demand of previous 14 days)\n",
    "y_baseline1 = df_train[df_train['time'] >= '2018-05-19'].groupby(by='itemID')['order'].sum().to_dict()\n",
    "\n",
    "# baseline 2 (average demand of previous half year)\n",
    "total_orders = df_train.groupby(by='itemID')['order'].sum().to_dict()\n",
    "total_observed_days = (df_train['time'].dt.normalize().max() - df_train['time'].dt.normalize().min()).days\n",
    "y_baseline2 = {item: orders / total_observed_days * 14 for item, orders in total_orders.items()}  # 14-day avg. demand\n",
    "\n",
    "\n",
    "\n",
    "# baseline 3 (average demand of previous 14 days)\n",
    "y_baseline3 = df_train[(df_train['time'] >= '2018-05-19') & (df_train['time'] < '2018-05-19')].groupby(by='itemID')['order'].sum().to_dict()"
   ]
  },
  {
   "cell_type": "markdown",
   "metadata": {},
   "source": [
    "BaselineEvaluation"
   ]
  },
  {
   "cell_type": "code",
   "execution_count": 6,
   "metadata": {},
   "outputs": [
    {
     "output_type": "stream",
     "name": "stdout",
     "text": "66271234.590000115\n8904189.420000017\n6144352.875894056\n"
    }
   ],
   "source": [
    "# perfect result\n",
    "evaluate_result(y, y)\n",
    "\n",
    "# baseline 1\n",
    "evaluate_result(y, y_baseline1)\n",
    "\n",
    "# baseline 2 (average of previous half year)\n",
    "evaluate_result(y, y_baseline2)"
   ]
  }
 ],
 "metadata": {
  "kernelspec": {
   "display_name": "Python 3",
   "language": "python",
   "name": "python3"
  },
  "language_info": {
   "codemirror_mode": {
    "name": "ipython",
    "version": 3
   },
   "file_extension": ".py",
   "mimetype": "text/x-python",
   "name": "python",
   "nbconvert_exporter": "python",
   "pygments_lexer": "ipython3",
   "version": "3.7.1-final"
  }
 },
 "nbformat": 4,
 "nbformat_minor": 2
}