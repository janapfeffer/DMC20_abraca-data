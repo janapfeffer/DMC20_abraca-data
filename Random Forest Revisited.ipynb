{
 "cells": [
  {
   "cell_type": "markdown",
   "metadata": {},
   "source": [
    "# Random Forest improved"
   ]
  },
  {
   "cell_type": "markdown",
   "metadata": {},
   "source": [
    "### To Do:\n",
    "- improve performance  \n",
    "- add features from feature team  \n",
    "- use proper clusters  \n",
    "- include (all) zero data in training data  \n",
    "- normalize promotion dates"
   ]
  },
  {
   "cell_type": "code",
   "execution_count": 1,
   "metadata": {},
   "outputs": [
    {
     "data": {
      "text/html": [
       "<style>.container { width:90% !important; }</style>"
      ],
      "text/plain": [
       "<IPython.core.display.HTML object>"
      ]
     },
     "metadata": {},
     "output_type": "display_data"
    }
   ],
   "source": [
    "# change used width of browser window\n",
    "from IPython.core.display import display, HTML\n",
    "display(HTML(\"<style>.container { width:90% !important; }</style>\"))"
   ]
  },
  {
   "cell_type": "code",
   "execution_count": 2,
   "metadata": {},
   "outputs": [],
   "source": [
    "# import packages\n",
    "import pandas as pd\n",
    "import seaborn as sb\n",
    "import matplotlib.pyplot as plt\n",
    "import numpy as np\n",
    "from sklearn.ensemble import RandomForestRegressor\n",
    "from statsmodels.tsa.holtwinters import ExponentialSmoothing,SimpleExpSmoothing, Holt\n",
    "import datetime\n",
    "import re\n",
    "from sklearn.preprocessing import MinMaxScaler\n",
    "from sklearn.decomposition import PCA\n",
    "from scipy.interpolate import interpn\n",
    "from collections import defaultdict"
   ]
  },
  {
   "cell_type": "code",
   "execution_count": 3,
   "metadata": {},
   "outputs": [],
   "source": [
    "# suppress warnings\n",
    "import warnings\n",
    "warnings.filterwarnings('ignore')"
   ]
  },
  {
   "cell_type": "code",
   "execution_count": 4,
   "metadata": {},
   "outputs": [],
   "source": [
    "# load data\n",
    "df_train = pd.read_csv('data/orders0206_train.csv', sep='|', parse_dates=['time'])\n",
    "df_train['date'] = [d.date() for d in df_train['time']]\n",
    "df_test = pd.read_csv('data/orders0206_test.csv', sep='|', parse_dates=['time'])\n",
    "df_test['date'] = [d.date() for d in df_test['time']]\n",
    "df_items = pd.read_csv('data/items.csv', sep='|')"
   ]
  },
  {
   "cell_type": "markdown",
   "metadata": {},
   "source": [
    "# Helper Functions"
   ]
  },
  {
   "cell_type": "code",
   "execution_count": 5,
   "metadata": {},
   "outputs": [],
   "source": [
    "def add_datepart(df, fldname, drop=True):\n",
    "#     https://towardsdatascience.com/multivariate-time-series-forecasting-using-random-forest-2372f3ecbad1\n",
    "    \"\"\"Add additional date information to dataframe\"\"\"\n",
    "    fld = df[fldname]\n",
    "    if not np.issubdtype(fld.dtype, np.datetime64):\n",
    "        df[fldname] = fld = pd.to_datetime(fld, \n",
    "                                     infer_datetime_format=True)\n",
    "    targ_pre = re.sub('[Dd]ate$', '', fldname)\n",
    "    for n in ('Year', 'Month', 'Week', 'Day', 'Dayofweek', \n",
    "            'Dayofyear', 'Is_month_end', 'Is_month_start', \n",
    "            'Is_quarter_end', 'Is_quarter_start', 'Is_year_end', \n",
    "            'Is_year_start'):\n",
    "        df[targ_pre+n] = getattr(fld.dt,n.lower())\n",
    "        \n",
    "    df[targ_pre+'Elapsed'] = fld.astype(np.int64) // 10**9 \n",
    "    if drop: df.drop(fldname, axis=1, inplace=True)"
   ]
  },
  {
   "cell_type": "code",
   "execution_count": 6,
   "metadata": {},
   "outputs": [],
   "source": [
    "def evaluate_result(y: dict, y_pred: dict):\n",
    "    monetary_value = 0\n",
    "    y_pred = defaultdict(int, y_pred)  # return prediction of 0 for items without prediction\n",
    "    \n",
    "    for item in set(y_pred).difference(set(y)):\n",
    "        y[item] = 0  # make sure that all items for which a demand has been predicted are contained in the actual demands\n",
    "    \n",
    "    for item, demand in y.items():\n",
    "        predicted_demand = y_pred[item]\n",
    "        price = product_prices[item]\n",
    "        monetary_value += price * min(demand, predicted_demand)\n",
    "        if predicted_demand > demand:\n",
    "            monetary_value -= .6 * price * (predicted_demand - demand)\n",
    "            \n",
    "    return monetary_value"
   ]
  },
  {
   "cell_type": "code",
   "execution_count": 7,
   "metadata": {},
   "outputs": [],
   "source": [
    "def table2lags(table, max_lag, min_lag=0, separator='_'):\n",
    "#     https://datascience.stackexchange.com/questions/24108/multiple-time-series-predictions-with-random-forests-in-python\n",
    "    \"\"\" Given a dataframe, return a dataframe with different lags of all its columns \"\"\"\n",
    "    values=[]\n",
    "    for i in range(min_lag, max_lag + 1):\n",
    "        values.append(table.shift(i).copy())\n",
    "        values[-1].columns = [i for c in table.columns]#[c + separator + str(i) for c in table.columns]\n",
    "    return pd.concat(values, axis=1)"
   ]
  },
  {
   "cell_type": "code",
   "execution_count": 8,
   "metadata": {},
   "outputs": [],
   "source": [
    "def density_scatter( x , y, ax = None, sort = True, bins = 20, **kwargs )   :\n",
    "    \"\"\"\n",
    "    Scatter plot colored by 2d histogram\n",
    "    \"\"\"\n",
    "    if ax is None :\n",
    "        fig , ax = plt.subplots()\n",
    "    data , x_e, y_e = np.histogram2d( x, y, bins = bins)\n",
    "    z = interpn( ( 0.5*(x_e[1:] + x_e[:-1]) , 0.5*(y_e[1:]+y_e[:-1]) ) , data , np.vstack([x,y]).T , method = \"splinef2d\", bounds_error = False )\n",
    "\n",
    "    # Sort the points by density, so that the densest points are plotted last\n",
    "    if sort :\n",
    "        idx = z.argsort()\n",
    "        x, y, z = x[idx], y[idx], z[idx]\n",
    "\n",
    "    ax.scatter( x, y, c=z, **kwargs )\n",
    "    return ax\n"
   ]
  },
  {
   "cell_type": "code",
   "execution_count": 9,
   "metadata": {},
   "outputs": [],
   "source": [
    "from sklearn.model_selection import RandomizedSearchCV\n",
    "def get_best_settings(mode, df):\n",
    "    if mode == 'small':\n",
    "        # parameter optimization\n",
    "\n",
    "        # Number of trees in random forest\n",
    "        n_estimators = [int(x) for x in np.linspace(start = 5, stop = 200, num = 10)]\n",
    "        # Number of features to consider at every split\n",
    "        max_features = ['auto', 'sqrt']\n",
    "        # Maximum number of levels in tree\n",
    "        max_depth = [int(x) for x in np.linspace(3, 55, num = 11)]\n",
    "        max_depth.append(None)\n",
    "        # Minimum number of samples required to split a node\n",
    "        min_samples_split = range(2,20)#, 7, 10]\n",
    "        # Minimum number of samples required at each leaf node\n",
    "        min_samples_leaf = range(2,20)# 6, 8]\n",
    "        # Method of selecting samples for training each tree\n",
    "        bootstrap = [True, False]\n",
    "        # Create the random grid\n",
    "        random_grid = {'n_estimators': n_estimators,\n",
    "                       'max_features': max_features,\n",
    "                       'max_depth': max_depth,\n",
    "                       'min_samples_split': min_samples_split,\n",
    "                       'min_samples_leaf': min_samples_leaf,\n",
    "                       'bootstrap': bootstrap}\n",
    "    else:\n",
    "        # Number of trees in random forest\n",
    "        n_estimators = [int(x) for x in np.linspace(start = 10, stop = 400, num = 20)]\n",
    "        # Number of features to consider at every split\n",
    "        max_features = ['auto', 'sqrt']\n",
    "        # Maximum number of levels in tree\n",
    "        max_depth = [int(x) for x in np.linspace(5, 55, num = 11)]\n",
    "        max_depth.append(None)\n",
    "        # Minimum number of samples required to split a node\n",
    "        min_samples_split = [2, 5, 10]\n",
    "        # Minimum number of samples required at each leaf node\n",
    "        min_samples_leaf = [1, 2, 4, 6, 8]\n",
    "        # Method of selecting samples for training each tree\n",
    "        bootstrap = [True, False]\n",
    "        # Create the random grid\n",
    "        random_grid = {'n_estimators': n_estimators,\n",
    "                       'max_features': max_features,\n",
    "                       'max_depth': max_depth,\n",
    "                       'min_samples_split': min_samples_split,\n",
    "                       'min_samples_leaf': min_samples_leaf,\n",
    "                       'bootstrap': bootstrap}\n",
    "\n",
    "    # Use the random grid to search for best hyperparameters\n",
    "    # First create the base model to tune\n",
    "    rf = RandomForestRegressor()\n",
    "    # Random search of parameters, using 3 fold cross validation, \n",
    "    # search across 100 different combinations, and use all available cores\n",
    "    rf_random = RandomizedSearchCV(estimator = rf, param_distributions = random_grid, n_iter = 100, cv = 3, verbose=2, random_state=42, n_jobs = -1)\n",
    "    # Fit the random search model\n",
    "    rf_random.fit(df.drop(['count', 'itemID',\"WeekGroup\"], axis=1), df[\"count\"])\n",
    "\n",
    "    return rf_random.best_params_"
   ]
  },
  {
   "cell_type": "markdown",
   "metadata": {},
   "source": [
    "# Time Based Features\n",
    "https://towardsdatascience.com/multivariate-time-series-forecasting-using-random-forest-2372f3ecbad1"
   ]
  },
  {
   "cell_type": "markdown",
   "metadata": {},
   "source": [
    "## 1. Prepare train data"
   ]
  },
  {
   "cell_type": "code",
   "execution_count": 10,
   "metadata": {},
   "outputs": [],
   "source": [
    "train = df_train\n",
    "test = df_test"
   ]
  },
  {
   "cell_type": "code",
   "execution_count": 11,
   "metadata": {},
   "outputs": [
    {
     "data": {
      "text/plain": [
       "array([ 1,  4,  2,  3,  7, 10,  8,  6,  5, 15,  9, 60], dtype=int64)"
      ]
     },
     "execution_count": 11,
     "metadata": {},
     "output_type": "execute_result"
    }
   ],
   "source": [
    "test.order.unique()"
   ]
  },
  {
   "cell_type": "code",
   "execution_count": 12,
   "metadata": {},
   "outputs": [],
   "source": [
    "# aggregate sales per day\n",
    "train_aggregated = train.groupby(['itemID','date']).sum()[\"order\"].to_frame().reset_index().rename(columns={'order':'count'})\n",
    "test_aggregated = test.groupby(['itemID','date']).sum()[\"order\"].to_frame().reset_index().rename(columns={'order':'count'})"
   ]
  },
  {
   "cell_type": "code",
   "execution_count": 13,
   "metadata": {},
   "outputs": [],
   "source": [
    "# add additional date information\n",
    "add_datepart(train_aggregated, 'date', drop = False)\n",
    "add_datepart(test_aggregated, 'date', drop = False)"
   ]
  },
  {
   "cell_type": "code",
   "execution_count": 14,
   "metadata": {},
   "outputs": [],
   "source": [
    "train_aggregated[\"WeekGroup\"] = train_aggregated[\"Dayofyear\"] // 14\n",
    "test_aggregated[\"WeekGroup\"] = test_aggregated[\"Dayofyear\"] // 14"
   ]
  },
  {
   "cell_type": "code",
   "execution_count": 15,
   "metadata": {},
   "outputs": [
    {
     "data": {
      "text/html": [
       "<div>\n",
       "<style scoped>\n",
       "    .dataframe tbody tr th:only-of-type {\n",
       "        vertical-align: middle;\n",
       "    }\n",
       "\n",
       "    .dataframe tbody tr th {\n",
       "        vertical-align: top;\n",
       "    }\n",
       "\n",
       "    .dataframe thead th {\n",
       "        text-align: right;\n",
       "    }\n",
       "</style>\n",
       "<table border=\"1\" class=\"dataframe\">\n",
       "  <thead>\n",
       "    <tr style=\"text-align: right;\">\n",
       "      <th></th>\n",
       "      <th>itemID</th>\n",
       "      <th>date</th>\n",
       "      <th>count</th>\n",
       "      <th>Year</th>\n",
       "      <th>Month</th>\n",
       "      <th>Week</th>\n",
       "      <th>Day</th>\n",
       "      <th>Dayofweek</th>\n",
       "      <th>Dayofyear</th>\n",
       "      <th>Is_month_end</th>\n",
       "      <th>Is_month_start</th>\n",
       "      <th>Is_quarter_end</th>\n",
       "      <th>Is_quarter_start</th>\n",
       "      <th>Is_year_end</th>\n",
       "      <th>Is_year_start</th>\n",
       "      <th>Elapsed</th>\n",
       "      <th>WeekGroup</th>\n",
       "    </tr>\n",
       "  </thead>\n",
       "  <tbody>\n",
       "    <tr>\n",
       "      <th>0</th>\n",
       "      <td>1</td>\n",
       "      <td>2018-01-23</td>\n",
       "      <td>1</td>\n",
       "      <td>2018</td>\n",
       "      <td>1</td>\n",
       "      <td>4</td>\n",
       "      <td>23</td>\n",
       "      <td>1</td>\n",
       "      <td>23</td>\n",
       "      <td>False</td>\n",
       "      <td>False</td>\n",
       "      <td>False</td>\n",
       "      <td>False</td>\n",
       "      <td>False</td>\n",
       "      <td>False</td>\n",
       "      <td>1516665600</td>\n",
       "      <td>1</td>\n",
       "    </tr>\n",
       "    <tr>\n",
       "      <th>1</th>\n",
       "      <td>1</td>\n",
       "      <td>2018-01-25</td>\n",
       "      <td>1</td>\n",
       "      <td>2018</td>\n",
       "      <td>1</td>\n",
       "      <td>4</td>\n",
       "      <td>25</td>\n",
       "      <td>3</td>\n",
       "      <td>25</td>\n",
       "      <td>False</td>\n",
       "      <td>False</td>\n",
       "      <td>False</td>\n",
       "      <td>False</td>\n",
       "      <td>False</td>\n",
       "      <td>False</td>\n",
       "      <td>1516838400</td>\n",
       "      <td>1</td>\n",
       "    </tr>\n",
       "    <tr>\n",
       "      <th>2</th>\n",
       "      <td>1</td>\n",
       "      <td>2018-01-29</td>\n",
       "      <td>307</td>\n",
       "      <td>2018</td>\n",
       "      <td>1</td>\n",
       "      <td>5</td>\n",
       "      <td>29</td>\n",
       "      <td>0</td>\n",
       "      <td>29</td>\n",
       "      <td>False</td>\n",
       "      <td>False</td>\n",
       "      <td>False</td>\n",
       "      <td>False</td>\n",
       "      <td>False</td>\n",
       "      <td>False</td>\n",
       "      <td>1517184000</td>\n",
       "      <td>2</td>\n",
       "    </tr>\n",
       "    <tr>\n",
       "      <th>3</th>\n",
       "      <td>1</td>\n",
       "      <td>2018-01-30</td>\n",
       "      <td>3</td>\n",
       "      <td>2018</td>\n",
       "      <td>1</td>\n",
       "      <td>5</td>\n",
       "      <td>30</td>\n",
       "      <td>1</td>\n",
       "      <td>30</td>\n",
       "      <td>False</td>\n",
       "      <td>False</td>\n",
       "      <td>False</td>\n",
       "      <td>False</td>\n",
       "      <td>False</td>\n",
       "      <td>False</td>\n",
       "      <td>1517270400</td>\n",
       "      <td>2</td>\n",
       "    </tr>\n",
       "    <tr>\n",
       "      <th>4</th>\n",
       "      <td>1</td>\n",
       "      <td>2018-01-31</td>\n",
       "      <td>1</td>\n",
       "      <td>2018</td>\n",
       "      <td>1</td>\n",
       "      <td>5</td>\n",
       "      <td>31</td>\n",
       "      <td>2</td>\n",
       "      <td>31</td>\n",
       "      <td>True</td>\n",
       "      <td>False</td>\n",
       "      <td>False</td>\n",
       "      <td>False</td>\n",
       "      <td>False</td>\n",
       "      <td>False</td>\n",
       "      <td>1517356800</td>\n",
       "      <td>2</td>\n",
       "    </tr>\n",
       "  </tbody>\n",
       "</table>\n",
       "</div>"
      ],
      "text/plain": [
       "   itemID       date  count  Year  Month  Week  Day  Dayofweek  Dayofyear  \\\n",
       "0       1 2018-01-23      1  2018      1     4   23          1         23   \n",
       "1       1 2018-01-25      1  2018      1     4   25          3         25   \n",
       "2       1 2018-01-29    307  2018      1     5   29          0         29   \n",
       "3       1 2018-01-30      3  2018      1     5   30          1         30   \n",
       "4       1 2018-01-31      1  2018      1     5   31          2         31   \n",
       "\n",
       "   Is_month_end  Is_month_start  Is_quarter_end  Is_quarter_start  \\\n",
       "0         False           False           False             False   \n",
       "1         False           False           False             False   \n",
       "2         False           False           False             False   \n",
       "3         False           False           False             False   \n",
       "4          True           False           False             False   \n",
       "\n",
       "   Is_year_end  Is_year_start     Elapsed  WeekGroup  \n",
       "0        False          False  1516665600          1  \n",
       "1        False          False  1516838400          1  \n",
       "2        False          False  1517184000          2  \n",
       "3        False          False  1517270400          2  \n",
       "4        False          False  1517356800          2  "
      ]
     },
     "execution_count": 15,
     "metadata": {},
     "output_type": "execute_result"
    }
   ],
   "source": [
    "train_aggregated.head(5)"
   ]
  },
  {
   "cell_type": "code",
   "execution_count": 16,
   "metadata": {},
   "outputs": [],
   "source": [
    "# aggregate sales  for 14 days\n",
    "train_aggregated_w = train_aggregated.groupby(['itemID', \"WeekGroup\"]).sum()[\"count\"].to_frame().reset_index()#.rename(columns={'order':'count'})\n",
    "# test_aggregated_w = test_aggregated.groupby(['itemID', \"WeekGroup\"]).sum()[\"count\"].to_frame().reset_index()#.rename(columns={'order':'count'})"
   ]
  },
  {
   "cell_type": "code",
   "execution_count": 17,
   "metadata": {},
   "outputs": [],
   "source": [
    "# scale data between -1 & 1\n",
    "scaler = MinMaxScaler()\n",
    "scaler.fit(train_aggregated_w[['count']])\n",
    "train_aggregated_w[\"count\"] = pd.DataFrame(scaler.transform(train_aggregated_w[[\"count\"]]))[0]\n",
    "# test_aggregated_w[\"count\"] = pd.DataFrame(scaler.transform(test_aggregated_w[['count']]))[0]"
   ]
  },
  {
   "cell_type": "code",
   "execution_count": 18,
   "metadata": {},
   "outputs": [
    {
     "data": {
      "text/html": [
       "<div>\n",
       "<style scoped>\n",
       "    .dataframe tbody tr th:only-of-type {\n",
       "        vertical-align: middle;\n",
       "    }\n",
       "\n",
       "    .dataframe tbody tr th {\n",
       "        vertical-align: top;\n",
       "    }\n",
       "\n",
       "    .dataframe thead th {\n",
       "        text-align: right;\n",
       "    }\n",
       "</style>\n",
       "<table border=\"1\" class=\"dataframe\">\n",
       "  <thead>\n",
       "    <tr style=\"text-align: right;\">\n",
       "      <th></th>\n",
       "      <th>Is_month_end</th>\n",
       "      <th>Is_month_start</th>\n",
       "      <th>Is_quarter_end</th>\n",
       "      <th>Is_quarter_start</th>\n",
       "    </tr>\n",
       "    <tr>\n",
       "      <th>WeekGroup</th>\n",
       "      <th></th>\n",
       "      <th></th>\n",
       "      <th></th>\n",
       "      <th></th>\n",
       "    </tr>\n",
       "  </thead>\n",
       "  <tbody>\n",
       "    <tr>\n",
       "      <th>1</th>\n",
       "      <td>0</td>\n",
       "      <td>0</td>\n",
       "      <td>0</td>\n",
       "      <td>0</td>\n",
       "    </tr>\n",
       "    <tr>\n",
       "      <th>2</th>\n",
       "      <td>1</td>\n",
       "      <td>1</td>\n",
       "      <td>0</td>\n",
       "      <td>0</td>\n",
       "    </tr>\n",
       "    <tr>\n",
       "      <th>3</th>\n",
       "      <td>0</td>\n",
       "      <td>0</td>\n",
       "      <td>0</td>\n",
       "      <td>0</td>\n",
       "    </tr>\n",
       "  </tbody>\n",
       "</table>\n",
       "</div>"
      ],
      "text/plain": [
       "           Is_month_end  Is_month_start  Is_quarter_end  Is_quarter_start\n",
       "WeekGroup                                                                \n",
       "1                     0               0               0                 0\n",
       "2                     1               1               0                 0\n",
       "3                     0               0               0                 0"
      ]
     },
     "execution_count": 18,
     "metadata": {},
     "output_type": "execute_result"
    }
   ],
   "source": [
    "# add Is_month_end Is_month_start Is_quarter_end Is_quarter_start back\n",
    "df_weekgroup = pd.DataFrame(train_aggregated.WeekGroup.unique()).rename(columns={0:'WeekGroup'})\n",
    "df_weekgroup[\"Is_month_end\"] = df_weekgroup.WeekGroup.apply(lambda x: 1 if True in train_aggregated[train_aggregated[\"WeekGroup\"] == x].Is_month_end.unique() else 0)\n",
    "df_weekgroup[\"Is_month_start\"] = df_weekgroup.WeekGroup.apply(lambda x: 1 if True in train_aggregated[train_aggregated[\"WeekGroup\"] == x].Is_month_start.unique() else 0)\n",
    "df_weekgroup[\"Is_quarter_end\"] = df_weekgroup.WeekGroup.apply(lambda x: 1 if True in train_aggregated[train_aggregated[\"WeekGroup\"] == x].Is_quarter_end.unique() else 0)\n",
    "df_weekgroup[\"Is_quarter_start\"] = df_weekgroup.WeekGroup.apply(lambda x: 1 if True in train_aggregated[train_aggregated[\"WeekGroup\"] == x].Is_quarter_start.unique() else 0)\n",
    "df_weekgroup = df_weekgroup.set_index(\"WeekGroup\")\n",
    "df_weekgroup.head(3)"
   ]
  },
  {
   "cell_type": "code",
   "execution_count": 19,
   "metadata": {},
   "outputs": [
    {
     "data": {
      "text/html": [
       "<div>\n",
       "<style scoped>\n",
       "    .dataframe tbody tr th:only-of-type {\n",
       "        vertical-align: middle;\n",
       "    }\n",
       "\n",
       "    .dataframe tbody tr th {\n",
       "        vertical-align: top;\n",
       "    }\n",
       "\n",
       "    .dataframe thead th {\n",
       "        text-align: right;\n",
       "    }\n",
       "</style>\n",
       "<table border=\"1\" class=\"dataframe\">\n",
       "  <thead>\n",
       "    <tr style=\"text-align: right;\">\n",
       "      <th></th>\n",
       "      <th>itemID</th>\n",
       "      <th>WeekGroup</th>\n",
       "      <th>count</th>\n",
       "      <th>Is_month_end</th>\n",
       "      <th>Is_month_start</th>\n",
       "      <th>Is_quarter_end</th>\n",
       "      <th>Is_quarter_start</th>\n",
       "    </tr>\n",
       "  </thead>\n",
       "  <tbody>\n",
       "    <tr>\n",
       "      <th>0</th>\n",
       "      <td>1</td>\n",
       "      <td>1</td>\n",
       "      <td>0.000207</td>\n",
       "      <td>0</td>\n",
       "      <td>0</td>\n",
       "      <td>0</td>\n",
       "      <td>0</td>\n",
       "    </tr>\n",
       "    <tr>\n",
       "      <th>1</th>\n",
       "      <td>1</td>\n",
       "      <td>2</td>\n",
       "      <td>0.064830</td>\n",
       "      <td>1</td>\n",
       "      <td>1</td>\n",
       "      <td>0</td>\n",
       "      <td>0</td>\n",
       "    </tr>\n",
       "    <tr>\n",
       "      <th>2</th>\n",
       "      <td>1</td>\n",
       "      <td>3</td>\n",
       "      <td>0.007042</td>\n",
       "      <td>0</td>\n",
       "      <td>0</td>\n",
       "      <td>0</td>\n",
       "      <td>0</td>\n",
       "    </tr>\n",
       "  </tbody>\n",
       "</table>\n",
       "</div>"
      ],
      "text/plain": [
       "   itemID  WeekGroup     count  Is_month_end  Is_month_start  Is_quarter_end  \\\n",
       "0       1          1  0.000207             0               0               0   \n",
       "1       1          2  0.064830             1               1               0   \n",
       "2       1          3  0.007042             0               0               0   \n",
       "\n",
       "   Is_quarter_start  \n",
       "0                 0  \n",
       "1                 0  \n",
       "2                 0  "
      ]
     },
     "execution_count": 19,
     "metadata": {},
     "output_type": "execute_result"
    }
   ],
   "source": [
    "train_aggregated_w = train_aggregated_w.join(df_weekgroup, on='WeekGroup')\n",
    "train_aggregated_w.head(3)"
   ]
  },
  {
   "cell_type": "code",
   "execution_count": 20,
   "metadata": {},
   "outputs": [],
   "source": [
    "# Removing trends in input variables / turn time series into stationary one\n",
    "# tbd if needed"
   ]
  },
  {
   "cell_type": "code",
   "execution_count": 21,
   "metadata": {},
   "outputs": [],
   "source": [
    "# add lagged variables\n",
    "for prod in train_aggregated_w.itemID.unique():\n",
    "    for index, row in train_aggregated_w.loc[train_aggregated_w['itemID'] == prod].iterrows():\n",
    "        for n in range(1,6):\n",
    "            diff_count = train_aggregated_w[train_aggregated_w['itemID'] == prod][train_aggregated_w['WeekGroup'] == row.WeekGroup-n][\"count\"]\n",
    "            train_aggregated_w.loc[index,'count_diff' + str(n)] = diff_count.iloc[0] if len(diff_count) == 1 else None #train_aggregated_w.loc[train_aggregated_w['itemID'] == prod]['count'] - train_aggregated_w.loc[train_aggregated_w['itemID'] == prod]['count'].shift(n)"
   ]
  },
  {
   "cell_type": "code",
   "execution_count": 22,
   "metadata": {},
   "outputs": [
    {
     "data": {
      "text/html": [
       "<div>\n",
       "<style scoped>\n",
       "    .dataframe tbody tr th:only-of-type {\n",
       "        vertical-align: middle;\n",
       "    }\n",
       "\n",
       "    .dataframe tbody tr th {\n",
       "        vertical-align: top;\n",
       "    }\n",
       "\n",
       "    .dataframe thead th {\n",
       "        text-align: right;\n",
       "    }\n",
       "</style>\n",
       "<table border=\"1\" class=\"dataframe\">\n",
       "  <thead>\n",
       "    <tr style=\"text-align: right;\">\n",
       "      <th></th>\n",
       "      <th>itemID</th>\n",
       "      <th>WeekGroup</th>\n",
       "      <th>count</th>\n",
       "      <th>Is_month_end</th>\n",
       "      <th>Is_month_start</th>\n",
       "      <th>Is_quarter_end</th>\n",
       "      <th>Is_quarter_start</th>\n",
       "      <th>count_diff1</th>\n",
       "      <th>count_diff2</th>\n",
       "      <th>count_diff3</th>\n",
       "      <th>count_diff4</th>\n",
       "      <th>count_diff5</th>\n",
       "    </tr>\n",
       "  </thead>\n",
       "  <tbody>\n",
       "    <tr>\n",
       "      <th>0</th>\n",
       "      <td>1</td>\n",
       "      <td>1</td>\n",
       "      <td>0.000207</td>\n",
       "      <td>0</td>\n",
       "      <td>0</td>\n",
       "      <td>0</td>\n",
       "      <td>0</td>\n",
       "      <td>NaN</td>\n",
       "      <td>NaN</td>\n",
       "      <td>NaN</td>\n",
       "      <td>NaN</td>\n",
       "      <td>NaN</td>\n",
       "    </tr>\n",
       "    <tr>\n",
       "      <th>1</th>\n",
       "      <td>1</td>\n",
       "      <td>2</td>\n",
       "      <td>0.064830</td>\n",
       "      <td>1</td>\n",
       "      <td>1</td>\n",
       "      <td>0</td>\n",
       "      <td>0</td>\n",
       "      <td>0.000207</td>\n",
       "      <td>NaN</td>\n",
       "      <td>NaN</td>\n",
       "      <td>NaN</td>\n",
       "      <td>NaN</td>\n",
       "    </tr>\n",
       "    <tr>\n",
       "      <th>2</th>\n",
       "      <td>1</td>\n",
       "      <td>3</td>\n",
       "      <td>0.007042</td>\n",
       "      <td>0</td>\n",
       "      <td>0</td>\n",
       "      <td>0</td>\n",
       "      <td>0</td>\n",
       "      <td>0.064830</td>\n",
       "      <td>0.000207</td>\n",
       "      <td>NaN</td>\n",
       "      <td>NaN</td>\n",
       "      <td>NaN</td>\n",
       "    </tr>\n",
       "    <tr>\n",
       "      <th>3</th>\n",
       "      <td>1</td>\n",
       "      <td>4</td>\n",
       "      <td>0.000207</td>\n",
       "      <td>1</td>\n",
       "      <td>1</td>\n",
       "      <td>0</td>\n",
       "      <td>0</td>\n",
       "      <td>0.007042</td>\n",
       "      <td>0.064830</td>\n",
       "      <td>0.000207</td>\n",
       "      <td>NaN</td>\n",
       "      <td>NaN</td>\n",
       "    </tr>\n",
       "    <tr>\n",
       "      <th>4</th>\n",
       "      <td>1</td>\n",
       "      <td>5</td>\n",
       "      <td>0.000000</td>\n",
       "      <td>0</td>\n",
       "      <td>0</td>\n",
       "      <td>0</td>\n",
       "      <td>0</td>\n",
       "      <td>0.000207</td>\n",
       "      <td>0.007042</td>\n",
       "      <td>0.064830</td>\n",
       "      <td>0.000207</td>\n",
       "      <td>NaN</td>\n",
       "    </tr>\n",
       "  </tbody>\n",
       "</table>\n",
       "</div>"
      ],
      "text/plain": [
       "   itemID  WeekGroup     count  Is_month_end  Is_month_start  Is_quarter_end  \\\n",
       "0       1          1  0.000207             0               0               0   \n",
       "1       1          2  0.064830             1               1               0   \n",
       "2       1          3  0.007042             0               0               0   \n",
       "3       1          4  0.000207             1               1               0   \n",
       "4       1          5  0.000000             0               0               0   \n",
       "\n",
       "   Is_quarter_start  count_diff1  count_diff2  count_diff3  count_diff4  \\\n",
       "0                 0          NaN          NaN          NaN          NaN   \n",
       "1                 0     0.000207          NaN          NaN          NaN   \n",
       "2                 0     0.064830     0.000207          NaN          NaN   \n",
       "3                 0     0.007042     0.064830     0.000207          NaN   \n",
       "4                 0     0.000207     0.007042     0.064830     0.000207   \n",
       "\n",
       "   count_diff5  \n",
       "0          NaN  \n",
       "1          NaN  \n",
       "2          NaN  \n",
       "3          NaN  \n",
       "4          NaN  "
      ]
     },
     "execution_count": 22,
     "metadata": {},
     "output_type": "execute_result"
    }
   ],
   "source": [
    "train_aggregated_w.head(5)"
   ]
  },
  {
   "cell_type": "code",
   "execution_count": 23,
   "metadata": {},
   "outputs": [],
   "source": [
    "# drop entries where lagged variables are missing (beginning of time series)\n",
    "train_aggregated_w = train_aggregated_w.dropna()"
   ]
  },
  {
   "cell_type": "code",
   "execution_count": 24,
   "metadata": {},
   "outputs": [],
   "source": [
    "# prepare lagged variables in test data\n",
    "test_aggregated_w = pd.DataFrame(columns= [\"itemID\", \"WeekGroup\", \"count\"])\n",
    "test_aggregated_w.itemID = df_items.itemID.unique()\n",
    "test_aggregated_w.WeekGroup = train_aggregated_w.WeekGroup.max() + 1\n",
    "for prod in test_aggregated_w.itemID.unique():\n",
    "    for n in range(1,6):\n",
    "        diff_count = train_aggregated_w[train_aggregated_w['itemID'] == prod][train_aggregated_w['WeekGroup'] == test_aggregated_w.WeekGroup.max()-n][\"count\"]\n",
    "        test_aggregated_w.loc[test_aggregated_w['itemID'] == prod,'count_diff' + str(n)] = diff_count.iloc[0] if len(diff_count) == 1 else 0"
   ]
  },
  {
   "cell_type": "code",
   "execution_count": 25,
   "metadata": {},
   "outputs": [
    {
     "data": {
      "text/html": [
       "<div>\n",
       "<style scoped>\n",
       "    .dataframe tbody tr th:only-of-type {\n",
       "        vertical-align: middle;\n",
       "    }\n",
       "\n",
       "    .dataframe tbody tr th {\n",
       "        vertical-align: top;\n",
       "    }\n",
       "\n",
       "    .dataframe thead th {\n",
       "        text-align: right;\n",
       "    }\n",
       "</style>\n",
       "<table border=\"1\" class=\"dataframe\">\n",
       "  <thead>\n",
       "    <tr style=\"text-align: right;\">\n",
       "      <th></th>\n",
       "      <th>Is_month_end</th>\n",
       "      <th>Is_month_start</th>\n",
       "      <th>Is_quarter_end</th>\n",
       "      <th>Is_quarter_start</th>\n",
       "    </tr>\n",
       "    <tr>\n",
       "      <th>WeekGroup</th>\n",
       "      <th></th>\n",
       "      <th></th>\n",
       "      <th></th>\n",
       "      <th></th>\n",
       "    </tr>\n",
       "  </thead>\n",
       "  <tbody>\n",
       "    <tr>\n",
       "      <th>11</th>\n",
       "      <td>0</td>\n",
       "      <td>0</td>\n",
       "      <td>0</td>\n",
       "      <td>0</td>\n",
       "    </tr>\n",
       "  </tbody>\n",
       "</table>\n",
       "</div>"
      ],
      "text/plain": [
       "           Is_month_end  Is_month_start  Is_quarter_end  Is_quarter_start\n",
       "WeekGroup                                                                \n",
       "11                    0               0               0                 0"
      ]
     },
     "execution_count": 25,
     "metadata": {},
     "output_type": "execute_result"
    }
   ],
   "source": [
    "df_weekgroup = pd.DataFrame(test_aggregated_w.WeekGroup.unique()).rename(columns={0:'WeekGroup'})\n",
    "df_weekgroup[\"Is_month_end\"] = df_weekgroup.WeekGroup.apply(lambda x: 1 if True in train_aggregated[train_aggregated[\"WeekGroup\"] == x].Is_month_end.unique() else 0)\n",
    "df_weekgroup[\"Is_month_start\"] = df_weekgroup.WeekGroup.apply(lambda x: 1 if True in train_aggregated[train_aggregated[\"WeekGroup\"] == x].Is_month_start.unique() else 0)\n",
    "df_weekgroup[\"Is_quarter_end\"] = df_weekgroup.WeekGroup.apply(lambda x: 1 if True in train_aggregated[train_aggregated[\"WeekGroup\"] == x].Is_quarter_end.unique() else 0)\n",
    "df_weekgroup[\"Is_quarter_start\"] = df_weekgroup.WeekGroup.apply(lambda x: 1 if True in train_aggregated[train_aggregated[\"WeekGroup\"] == x].Is_quarter_start.unique() else 0)\n",
    "df_weekgroup = df_weekgroup.set_index(\"WeekGroup\")\n",
    "df_weekgroup.head(3)"
   ]
  },
  {
   "cell_type": "code",
   "execution_count": 26,
   "metadata": {},
   "outputs": [],
   "source": [
    "test_aggregated_w = test_aggregated_w.join(df_weekgroup, on='WeekGroup')"
   ]
  },
  {
   "cell_type": "code",
   "execution_count": 27,
   "metadata": {},
   "outputs": [
    {
     "data": {
      "text/html": [
       "<div>\n",
       "<style scoped>\n",
       "    .dataframe tbody tr th:only-of-type {\n",
       "        vertical-align: middle;\n",
       "    }\n",
       "\n",
       "    .dataframe tbody tr th {\n",
       "        vertical-align: top;\n",
       "    }\n",
       "\n",
       "    .dataframe thead th {\n",
       "        text-align: right;\n",
       "    }\n",
       "</style>\n",
       "<table border=\"1\" class=\"dataframe\">\n",
       "  <thead>\n",
       "    <tr style=\"text-align: right;\">\n",
       "      <th></th>\n",
       "      <th>itemID</th>\n",
       "      <th>WeekGroup</th>\n",
       "      <th>count</th>\n",
       "      <th>count_diff1</th>\n",
       "      <th>count_diff2</th>\n",
       "      <th>count_diff3</th>\n",
       "      <th>count_diff4</th>\n",
       "      <th>count_diff5</th>\n",
       "      <th>Is_month_end</th>\n",
       "      <th>Is_month_start</th>\n",
       "      <th>Is_quarter_end</th>\n",
       "      <th>Is_quarter_start</th>\n",
       "    </tr>\n",
       "  </thead>\n",
       "  <tbody>\n",
       "    <tr>\n",
       "      <th>0</th>\n",
       "      <td>1</td>\n",
       "      <td>11</td>\n",
       "      <td>NaN</td>\n",
       "      <td>0.006007</td>\n",
       "      <td>0.000621</td>\n",
       "      <td>0.061723</td>\n",
       "      <td>0.000207</td>\n",
       "      <td>0.0</td>\n",
       "      <td>0</td>\n",
       "      <td>0</td>\n",
       "      <td>0</td>\n",
       "      <td>0</td>\n",
       "    </tr>\n",
       "    <tr>\n",
       "      <th>1</th>\n",
       "      <td>2</td>\n",
       "      <td>11</td>\n",
       "      <td>NaN</td>\n",
       "      <td>0.000000</td>\n",
       "      <td>0.000000</td>\n",
       "      <td>0.000000</td>\n",
       "      <td>0.000000</td>\n",
       "      <td>0.0</td>\n",
       "      <td>0</td>\n",
       "      <td>0</td>\n",
       "      <td>0</td>\n",
       "      <td>0</td>\n",
       "    </tr>\n",
       "    <tr>\n",
       "      <th>2</th>\n",
       "      <td>3</td>\n",
       "      <td>11</td>\n",
       "      <td>NaN</td>\n",
       "      <td>0.000000</td>\n",
       "      <td>0.000000</td>\n",
       "      <td>0.000000</td>\n",
       "      <td>0.000000</td>\n",
       "      <td>0.0</td>\n",
       "      <td>0</td>\n",
       "      <td>0</td>\n",
       "      <td>0</td>\n",
       "      <td>0</td>\n",
       "    </tr>\n",
       "    <tr>\n",
       "      <th>3</th>\n",
       "      <td>4</td>\n",
       "      <td>11</td>\n",
       "      <td>NaN</td>\n",
       "      <td>0.000000</td>\n",
       "      <td>0.000000</td>\n",
       "      <td>0.000000</td>\n",
       "      <td>0.000000</td>\n",
       "      <td>0.0</td>\n",
       "      <td>0</td>\n",
       "      <td>0</td>\n",
       "      <td>0</td>\n",
       "      <td>0</td>\n",
       "    </tr>\n",
       "    <tr>\n",
       "      <th>4</th>\n",
       "      <td>5</td>\n",
       "      <td>11</td>\n",
       "      <td>NaN</td>\n",
       "      <td>0.000000</td>\n",
       "      <td>0.000000</td>\n",
       "      <td>0.000000</td>\n",
       "      <td>0.000000</td>\n",
       "      <td>0.0</td>\n",
       "      <td>0</td>\n",
       "      <td>0</td>\n",
       "      <td>0</td>\n",
       "      <td>0</td>\n",
       "    </tr>\n",
       "  </tbody>\n",
       "</table>\n",
       "</div>"
      ],
      "text/plain": [
       "   itemID  WeekGroup count  count_diff1  count_diff2  count_diff3  \\\n",
       "0       1         11   NaN     0.006007     0.000621     0.061723   \n",
       "1       2         11   NaN     0.000000     0.000000     0.000000   \n",
       "2       3         11   NaN     0.000000     0.000000     0.000000   \n",
       "3       4         11   NaN     0.000000     0.000000     0.000000   \n",
       "4       5         11   NaN     0.000000     0.000000     0.000000   \n",
       "\n",
       "   count_diff4  count_diff5  Is_month_end  Is_month_start  Is_quarter_end  \\\n",
       "0     0.000207          0.0             0               0               0   \n",
       "1     0.000000          0.0             0               0               0   \n",
       "2     0.000000          0.0             0               0               0   \n",
       "3     0.000000          0.0             0               0               0   \n",
       "4     0.000000          0.0             0               0               0   \n",
       "\n",
       "   Is_quarter_start  \n",
       "0                 0  \n",
       "1                 0  \n",
       "2                 0  \n",
       "3                 0  \n",
       "4                 0  "
      ]
     },
     "execution_count": 27,
     "metadata": {},
     "output_type": "execute_result"
    }
   ],
   "source": [
    "test_aggregated_w.head(5)"
   ]
  },
  {
   "cell_type": "code",
   "execution_count": 97,
   "metadata": {},
   "outputs": [],
   "source": [
    "# actual demand\n",
    "y = df_test.groupby(by='itemID')['order'].sum().to_dict()\n",
    "\n",
    "# baseline 1 (average demand of previous 14 days)\n",
    "y_baseline1 = df_train[df_train['time'] >= '2018-05-19'].groupby(by='itemID')['order'].sum().to_dict()\n",
    "\n",
    "# baseline 2 (average demand of previous half year)\n",
    "total_orders = df_train.groupby(by='itemID')['order'].sum().to_dict()\n",
    "total_observed_days = (df_train['time'].dt.normalize().max() - df_train['time'].dt.normalize().min()).days\n",
    "y_baseline2 = {item: orders / total_observed_days * 14 for item, orders in total_orders.items()}  # 14-day avg. demand\n",
    "\n",
    "df_info = pd.read_csv('data/infos.csv', sep='|', index_col='itemID')\n",
    "df_items = pd.read_csv('data/items.csv', sep='|', index_col='itemID')\n",
    "product_prices = df_info['simulationPrice'].to_dict()"
   ]
  },
  {
   "cell_type": "code",
   "execution_count": 99,
   "metadata": {},
   "outputs": [],
   "source": [
    "train_aggregated_w = train_aggregated_w.join(df_info[\"simulationPrice\"], on=\"itemID\")\n",
    "train_aggregated_w = train_aggregated_w.join(df_items, on=\"itemID\")"
   ]
  },
  {
   "cell_type": "code",
   "execution_count": 101,
   "metadata": {},
   "outputs": [],
   "source": [
    "test_aggregated_w = test_aggregated_w.join(df_info[\"simulationPrice\"], on=\"itemID\")\n",
    "test_aggregated_w = test_aggregated_w.join(df_items, on=\"itemID\")"
   ]
  },
  {
   "cell_type": "markdown",
   "metadata": {},
   "source": [
    "## A Time Based Features: One for All "
   ]
  },
  {
   "cell_type": "markdown",
   "metadata": {},
   "source": [
    "### 2. Parameter Tuning and Model Training\n",
    "https://towardsdatascience.com/hyperparameter-tuning-the-random-forest-in-python-using-scikit-learn-28d2aa77dd74"
   ]
  },
  {
   "cell_type": "code",
   "execution_count": 102,
   "metadata": {},
   "outputs": [
    {
     "name": "stdout",
     "output_type": "stream",
     "text": [
      "Fitting 3 folds for each of 100 candidates, totalling 300 fits\n"
     ]
    },
    {
     "name": "stderr",
     "output_type": "stream",
     "text": [
      "[Parallel(n_jobs=-1)]: Using backend LokyBackend with 8 concurrent workers.\n",
      "[Parallel(n_jobs=-1)]: Done  25 tasks      | elapsed:   14.8s\n",
      "[Parallel(n_jobs=-1)]: Done 146 tasks      | elapsed:  1.4min\n",
      "[Parallel(n_jobs=-1)]: Done 300 out of 300 | elapsed:  3.1min finished\n"
     ]
    }
   ],
   "source": [
    "settings = get_best_settings('other', train_aggregated_w)"
   ]
  },
  {
   "cell_type": "code",
   "execution_count": 103,
   "metadata": {},
   "outputs": [
    {
     "data": {
      "text/plain": [
       "{'n_estimators': 338,\n",
       " 'min_samples_split': 2,\n",
       " 'min_samples_leaf': 8,\n",
       " 'max_features': 'sqrt',\n",
       " 'max_depth': 30,\n",
       " 'bootstrap': True}"
      ]
     },
     "execution_count": 103,
     "metadata": {},
     "output_type": "execute_result"
    }
   ],
   "source": [
    "settings"
   ]
  },
  {
   "cell_type": "code",
   "execution_count": 104,
   "metadata": {},
   "outputs": [],
   "source": [
    "# train model for all items\n",
    "rf = RandomForestRegressor(**settings).fit(train_aggregated_w.drop(['count', 'itemID',\"WeekGroup\"], axis=1), train_aggregated_w[\"count\"])"
   ]
  },
  {
   "cell_type": "markdown",
   "metadata": {},
   "source": [
    "## Apply to unseen data"
   ]
  },
  {
   "cell_type": "code",
   "execution_count": 105,
   "metadata": {},
   "outputs": [],
   "source": [
    "# t = pd.DataFrame(rf.predict(test_aggregated_w[test_aggregated_w.itemID == prod].drop(['count', 'itemID',\"WeekGroup\"], axis=1))).rename(columns={0:'count'})\n",
    "# # test[test.itemID == prod][\"order\"].sum()\n",
    "# scaler.inverse_transform(t)[:, [0]]\n",
    "# t                       "
   ]
  },
  {
   "cell_type": "code",
   "execution_count": 106,
   "metadata": {},
   "outputs": [],
   "source": [
    "# apply to unseen data\n",
    "y_randomforest = dict()\n",
    "for prod in test_aggregated_w.itemID.unique():\n",
    "#     train_predict = pd.DataFrame(pd.DataFrame(rf.predict(test_aggregated_w[test_aggregated_w.itemID == prod].drop(['count', 'itemID',\"WeekGroup\"], axis=1)))).rename(columns={0:'predicted_count'})\n",
    "    train_predict = pd.DataFrame(scaler.inverse_transform(pd.DataFrame(rf.predict(test_aggregated_w[test_aggregated_w.itemID == prod].drop(['count', 'itemID',\"WeekGroup\"], axis=1))))).rename(columns={0:'predicted_count'})\n",
    "    train_predict[\"actual_count\"] = test[test.itemID == prod][\"order\"].sum()\n",
    "    # rescale\n",
    "#     scaler.inverse_transform\n",
    "    if prod in train_aggregated_w.itemID.unique():\n",
    "        y_randomforest[prod] = int(train_predict[\"predicted_count\"].sum().round())\n",
    "    else:\n",
    "        y_randomforest[prod] = 0\n",
    "\n",
    "  "
   ]
  },
  {
   "cell_type": "code",
   "execution_count": 107,
   "metadata": {},
   "outputs": [
    {
     "name": "stdout",
     "output_type": "stream",
     "text": [
      "Perfect Result: 7895975.87\n",
      "Baseline 1: -3727365.60\n",
      "Baseline 2: -1672504.21\n",
      "Random Forest: -414600.38\n"
     ]
    }
   ],
   "source": [
    "# perfect result\n",
    "print(f'Perfect Result: {evaluate_result(y, y):.2f}')\n",
    "\n",
    "# baseline 1\n",
    "print(f'Baseline 1: {evaluate_result(y, y_baseline1):.2f}')\n",
    "\n",
    "# baseline 2\n",
    "print(f'Baseline 2: {evaluate_result(y, y_baseline2):.2f}')\n",
    "\n",
    "# random forest\n",
    "print(f'Random Forest: {evaluate_result(y, y_randomforest):.2f}')\n",
    "# mit scaler: -235623.76"
   ]
  },
  {
   "cell_type": "markdown",
   "metadata": {},
   "source": [
    "# Time Based Features: One for Each Dummy Cluster"
   ]
  },
  {
   "cell_type": "code",
   "execution_count": 108,
   "metadata": {},
   "outputs": [
    {
     "data": {
      "text/html": [
       "<div>\n",
       "<style scoped>\n",
       "    .dataframe tbody tr th:only-of-type {\n",
       "        vertical-align: middle;\n",
       "    }\n",
       "\n",
       "    .dataframe tbody tr th {\n",
       "        vertical-align: top;\n",
       "    }\n",
       "\n",
       "    .dataframe thead th {\n",
       "        text-align: right;\n",
       "    }\n",
       "</style>\n",
       "<table border=\"1\" class=\"dataframe\">\n",
       "  <thead>\n",
       "    <tr style=\"text-align: right;\">\n",
       "      <th></th>\n",
       "      <th>itemID</th>\n",
       "      <th>cluster</th>\n",
       "    </tr>\n",
       "  </thead>\n",
       "  <tbody>\n",
       "    <tr>\n",
       "      <th>0</th>\n",
       "      <td>1</td>\n",
       "      <td>4.0</td>\n",
       "    </tr>\n",
       "    <tr>\n",
       "      <th>1</th>\n",
       "      <td>10</td>\n",
       "      <td>2.0</td>\n",
       "    </tr>\n",
       "    <tr>\n",
       "      <th>2</th>\n",
       "      <td>11</td>\n",
       "      <td>4.0</td>\n",
       "    </tr>\n",
       "    <tr>\n",
       "      <th>3</th>\n",
       "      <td>18</td>\n",
       "      <td>4.0</td>\n",
       "    </tr>\n",
       "    <tr>\n",
       "      <th>4</th>\n",
       "      <td>19</td>\n",
       "      <td>2.0</td>\n",
       "    </tr>\n",
       "    <tr>\n",
       "      <th>...</th>\n",
       "      <td>...</td>\n",
       "      <td>...</td>\n",
       "    </tr>\n",
       "    <tr>\n",
       "      <th>948</th>\n",
       "      <td>9422</td>\n",
       "      <td>2.0</td>\n",
       "    </tr>\n",
       "    <tr>\n",
       "      <th>949</th>\n",
       "      <td>9512</td>\n",
       "      <td>2.0</td>\n",
       "    </tr>\n",
       "    <tr>\n",
       "      <th>950</th>\n",
       "      <td>9602</td>\n",
       "      <td>2.0</td>\n",
       "    </tr>\n",
       "    <tr>\n",
       "      <th>951</th>\n",
       "      <td>9661</td>\n",
       "      <td>2.0</td>\n",
       "    </tr>\n",
       "    <tr>\n",
       "      <th>952</th>\n",
       "      <td>9839</td>\n",
       "      <td>2.0</td>\n",
       "    </tr>\n",
       "  </tbody>\n",
       "</table>\n",
       "<p>953 rows × 2 columns</p>\n",
       "</div>"
      ],
      "text/plain": [
       "     itemID  cluster\n",
       "0         1      4.0\n",
       "1        10      2.0\n",
       "2        11      4.0\n",
       "3        18      4.0\n",
       "4        19      2.0\n",
       "..      ...      ...\n",
       "948    9422      2.0\n",
       "949    9512      2.0\n",
       "950    9602      2.0\n",
       "951    9661      2.0\n",
       "952    9839      2.0\n",
       "\n",
       "[953 rows x 2 columns]"
      ]
     },
     "execution_count": 108,
     "metadata": {},
     "output_type": "execute_result"
    }
   ],
   "source": [
    "df_cluster = pd.DataFrame(train_aggregated_w.itemID.unique()).rename(columns={0:\"itemID\"})\n",
    "for index, row in df_cluster.iterrows():\n",
    "    # add number of days with sales\n",
    "    saledays = train_aggregated[train_aggregated.itemID == row.itemID]\n",
    "    df_cluster.loc[index,'cluster'] = 1 if len(saledays) < 5 else 2 if len(saledays) < 20  else 4 if len(saledays) < 50 else 5\n",
    "df_cluster"
   ]
  },
  {
   "cell_type": "code",
   "execution_count": 109,
   "metadata": {},
   "outputs": [],
   "source": [
    "# train_aggregated_w = train_aggregated_w.drop(columns=\"cluster\")\n",
    "# test_aggregated_w = test_aggregated_w.drop(columns=\"cluster\")"
   ]
  },
  {
   "cell_type": "code",
   "execution_count": 112,
   "metadata": {},
   "outputs": [],
   "source": [
    "train_aggregated_w = train_aggregated_w.join(df_cluster.set_index(\"itemID\"), on=\"itemID\")\n",
    "test_aggregated_w = test_aggregated_w.join(df_cluster.set_index(\"itemID\"), on=\"itemID\")"
   ]
  },
  {
   "cell_type": "code",
   "execution_count": 113,
   "metadata": {},
   "outputs": [],
   "source": [
    "test_aggregated_w.cluster = test_aggregated_w.cluster.fillna(0)"
   ]
  },
  {
   "cell_type": "code",
   "execution_count": 114,
   "metadata": {},
   "outputs": [
    {
     "data": {
      "text/html": [
       "<div>\n",
       "<style scoped>\n",
       "    .dataframe tbody tr th:only-of-type {\n",
       "        vertical-align: middle;\n",
       "    }\n",
       "\n",
       "    .dataframe tbody tr th {\n",
       "        vertical-align: top;\n",
       "    }\n",
       "\n",
       "    .dataframe thead th {\n",
       "        text-align: right;\n",
       "    }\n",
       "</style>\n",
       "<table border=\"1\" class=\"dataframe\">\n",
       "  <thead>\n",
       "    <tr style=\"text-align: right;\">\n",
       "      <th></th>\n",
       "      <th>itemID</th>\n",
       "      <th>WeekGroup</th>\n",
       "      <th>count</th>\n",
       "      <th>Is_month_end</th>\n",
       "      <th>Is_month_start</th>\n",
       "      <th>Is_quarter_end</th>\n",
       "      <th>Is_quarter_start</th>\n",
       "      <th>count_diff1</th>\n",
       "      <th>count_diff2</th>\n",
       "      <th>count_diff3</th>\n",
       "      <th>count_diff4</th>\n",
       "      <th>count_diff5</th>\n",
       "      <th>simulationPrice</th>\n",
       "      <th>brand</th>\n",
       "      <th>manufacturer</th>\n",
       "      <th>customerRating</th>\n",
       "      <th>category1</th>\n",
       "      <th>category2</th>\n",
       "      <th>category3</th>\n",
       "      <th>recommendedRetailPrice</th>\n",
       "    </tr>\n",
       "    <tr>\n",
       "      <th>cluster</th>\n",
       "      <th></th>\n",
       "      <th></th>\n",
       "      <th></th>\n",
       "      <th></th>\n",
       "      <th></th>\n",
       "      <th></th>\n",
       "      <th></th>\n",
       "      <th></th>\n",
       "      <th></th>\n",
       "      <th></th>\n",
       "      <th></th>\n",
       "      <th></th>\n",
       "      <th></th>\n",
       "      <th></th>\n",
       "      <th></th>\n",
       "      <th></th>\n",
       "      <th></th>\n",
       "      <th></th>\n",
       "      <th></th>\n",
       "      <th></th>\n",
       "    </tr>\n",
       "  </thead>\n",
       "  <tbody>\n",
       "    <tr>\n",
       "      <th>2.0</th>\n",
       "      <td>513</td>\n",
       "      <td>513</td>\n",
       "      <td>513</td>\n",
       "      <td>513</td>\n",
       "      <td>513</td>\n",
       "      <td>513</td>\n",
       "      <td>513</td>\n",
       "      <td>513</td>\n",
       "      <td>513</td>\n",
       "      <td>513</td>\n",
       "      <td>513</td>\n",
       "      <td>513</td>\n",
       "      <td>513</td>\n",
       "      <td>513</td>\n",
       "      <td>513</td>\n",
       "      <td>513</td>\n",
       "      <td>513</td>\n",
       "      <td>513</td>\n",
       "      <td>513</td>\n",
       "      <td>513</td>\n",
       "    </tr>\n",
       "    <tr>\n",
       "      <th>4.0</th>\n",
       "      <td>1509</td>\n",
       "      <td>1509</td>\n",
       "      <td>1509</td>\n",
       "      <td>1509</td>\n",
       "      <td>1509</td>\n",
       "      <td>1509</td>\n",
       "      <td>1509</td>\n",
       "      <td>1509</td>\n",
       "      <td>1509</td>\n",
       "      <td>1509</td>\n",
       "      <td>1509</td>\n",
       "      <td>1509</td>\n",
       "      <td>1509</td>\n",
       "      <td>1509</td>\n",
       "      <td>1509</td>\n",
       "      <td>1509</td>\n",
       "      <td>1509</td>\n",
       "      <td>1509</td>\n",
       "      <td>1509</td>\n",
       "      <td>1509</td>\n",
       "    </tr>\n",
       "    <tr>\n",
       "      <th>5.0</th>\n",
       "      <td>480</td>\n",
       "      <td>480</td>\n",
       "      <td>480</td>\n",
       "      <td>480</td>\n",
       "      <td>480</td>\n",
       "      <td>480</td>\n",
       "      <td>480</td>\n",
       "      <td>480</td>\n",
       "      <td>480</td>\n",
       "      <td>480</td>\n",
       "      <td>480</td>\n",
       "      <td>480</td>\n",
       "      <td>480</td>\n",
       "      <td>480</td>\n",
       "      <td>480</td>\n",
       "      <td>480</td>\n",
       "      <td>480</td>\n",
       "      <td>480</td>\n",
       "      <td>480</td>\n",
       "      <td>480</td>\n",
       "    </tr>\n",
       "  </tbody>\n",
       "</table>\n",
       "</div>"
      ],
      "text/plain": [
       "         itemID  WeekGroup  count  Is_month_end  Is_month_start  \\\n",
       "cluster                                                           \n",
       "2.0         513        513    513           513             513   \n",
       "4.0        1509       1509   1509          1509            1509   \n",
       "5.0         480        480    480           480             480   \n",
       "\n",
       "         Is_quarter_end  Is_quarter_start  count_diff1  count_diff2  \\\n",
       "cluster                                                               \n",
       "2.0                 513               513          513          513   \n",
       "4.0                1509              1509         1509         1509   \n",
       "5.0                 480               480          480          480   \n",
       "\n",
       "         count_diff3  count_diff4  count_diff5  simulationPrice  brand  \\\n",
       "cluster                                                                  \n",
       "2.0              513          513          513              513    513   \n",
       "4.0             1509         1509         1509             1509   1509   \n",
       "5.0              480          480          480              480    480   \n",
       "\n",
       "         manufacturer  customerRating  category1  category2  category3  \\\n",
       "cluster                                                                  \n",
       "2.0               513             513        513        513        513   \n",
       "4.0              1509            1509       1509       1509       1509   \n",
       "5.0               480             480        480        480        480   \n",
       "\n",
       "         recommendedRetailPrice  \n",
       "cluster                          \n",
       "2.0                         513  \n",
       "4.0                        1509  \n",
       "5.0                         480  "
      ]
     },
     "execution_count": 114,
     "metadata": {},
     "output_type": "execute_result"
    }
   ],
   "source": [
    "train_aggregated_w.groupby(\"cluster\").count()"
   ]
  },
  {
   "cell_type": "code",
   "execution_count": 115,
   "metadata": {
    "scrolled": true
   },
   "outputs": [
    {
     "data": {
      "text/html": [
       "<div>\n",
       "<style scoped>\n",
       "    .dataframe tbody tr th:only-of-type {\n",
       "        vertical-align: middle;\n",
       "    }\n",
       "\n",
       "    .dataframe tbody tr th {\n",
       "        vertical-align: top;\n",
       "    }\n",
       "\n",
       "    .dataframe thead th {\n",
       "        text-align: right;\n",
       "    }\n",
       "</style>\n",
       "<table border=\"1\" class=\"dataframe\">\n",
       "  <thead>\n",
       "    <tr style=\"text-align: right;\">\n",
       "      <th></th>\n",
       "      <th>itemID</th>\n",
       "      <th>WeekGroup</th>\n",
       "      <th>count</th>\n",
       "      <th>count_diff1</th>\n",
       "      <th>count_diff2</th>\n",
       "      <th>count_diff3</th>\n",
       "      <th>count_diff4</th>\n",
       "      <th>count_diff5</th>\n",
       "      <th>Is_month_end</th>\n",
       "      <th>Is_month_start</th>\n",
       "      <th>Is_quarter_end</th>\n",
       "      <th>Is_quarter_start</th>\n",
       "      <th>simulationPrice</th>\n",
       "      <th>brand</th>\n",
       "      <th>manufacturer</th>\n",
       "      <th>customerRating</th>\n",
       "      <th>category1</th>\n",
       "      <th>category2</th>\n",
       "      <th>category3</th>\n",
       "      <th>recommendedRetailPrice</th>\n",
       "    </tr>\n",
       "    <tr>\n",
       "      <th>cluster</th>\n",
       "      <th></th>\n",
       "      <th></th>\n",
       "      <th></th>\n",
       "      <th></th>\n",
       "      <th></th>\n",
       "      <th></th>\n",
       "      <th></th>\n",
       "      <th></th>\n",
       "      <th></th>\n",
       "      <th></th>\n",
       "      <th></th>\n",
       "      <th></th>\n",
       "      <th></th>\n",
       "      <th></th>\n",
       "      <th></th>\n",
       "      <th></th>\n",
       "      <th></th>\n",
       "      <th></th>\n",
       "      <th></th>\n",
       "      <th></th>\n",
       "    </tr>\n",
       "  </thead>\n",
       "  <tbody>\n",
       "    <tr>\n",
       "      <th>0.0</th>\n",
       "      <td>9510</td>\n",
       "      <td>9510</td>\n",
       "      <td>0</td>\n",
       "      <td>9510</td>\n",
       "      <td>9510</td>\n",
       "      <td>9510</td>\n",
       "      <td>9510</td>\n",
       "      <td>9510</td>\n",
       "      <td>9510</td>\n",
       "      <td>9510</td>\n",
       "      <td>9510</td>\n",
       "      <td>9510</td>\n",
       "      <td>9510</td>\n",
       "      <td>9510</td>\n",
       "      <td>9510</td>\n",
       "      <td>9510</td>\n",
       "      <td>9510</td>\n",
       "      <td>9510</td>\n",
       "      <td>9510</td>\n",
       "      <td>9510</td>\n",
       "    </tr>\n",
       "    <tr>\n",
       "      <th>2.0</th>\n",
       "      <td>316</td>\n",
       "      <td>316</td>\n",
       "      <td>0</td>\n",
       "      <td>316</td>\n",
       "      <td>316</td>\n",
       "      <td>316</td>\n",
       "      <td>316</td>\n",
       "      <td>316</td>\n",
       "      <td>316</td>\n",
       "      <td>316</td>\n",
       "      <td>316</td>\n",
       "      <td>316</td>\n",
       "      <td>316</td>\n",
       "      <td>316</td>\n",
       "      <td>316</td>\n",
       "      <td>316</td>\n",
       "      <td>316</td>\n",
       "      <td>316</td>\n",
       "      <td>316</td>\n",
       "      <td>316</td>\n",
       "    </tr>\n",
       "    <tr>\n",
       "      <th>4.0</th>\n",
       "      <td>538</td>\n",
       "      <td>538</td>\n",
       "      <td>0</td>\n",
       "      <td>538</td>\n",
       "      <td>538</td>\n",
       "      <td>538</td>\n",
       "      <td>538</td>\n",
       "      <td>538</td>\n",
       "      <td>538</td>\n",
       "      <td>538</td>\n",
       "      <td>538</td>\n",
       "      <td>538</td>\n",
       "      <td>538</td>\n",
       "      <td>538</td>\n",
       "      <td>538</td>\n",
       "      <td>538</td>\n",
       "      <td>538</td>\n",
       "      <td>538</td>\n",
       "      <td>538</td>\n",
       "      <td>538</td>\n",
       "    </tr>\n",
       "    <tr>\n",
       "      <th>5.0</th>\n",
       "      <td>99</td>\n",
       "      <td>99</td>\n",
       "      <td>0</td>\n",
       "      <td>99</td>\n",
       "      <td>99</td>\n",
       "      <td>99</td>\n",
       "      <td>99</td>\n",
       "      <td>99</td>\n",
       "      <td>99</td>\n",
       "      <td>99</td>\n",
       "      <td>99</td>\n",
       "      <td>99</td>\n",
       "      <td>99</td>\n",
       "      <td>99</td>\n",
       "      <td>99</td>\n",
       "      <td>99</td>\n",
       "      <td>99</td>\n",
       "      <td>99</td>\n",
       "      <td>99</td>\n",
       "      <td>99</td>\n",
       "    </tr>\n",
       "  </tbody>\n",
       "</table>\n",
       "</div>"
      ],
      "text/plain": [
       "         itemID  WeekGroup  count  count_diff1  count_diff2  count_diff3  \\\n",
       "cluster                                                                    \n",
       "0.0        9510       9510      0         9510         9510         9510   \n",
       "2.0         316        316      0          316          316          316   \n",
       "4.0         538        538      0          538          538          538   \n",
       "5.0          99         99      0           99           99           99   \n",
       "\n",
       "         count_diff4  count_diff5  Is_month_end  Is_month_start  \\\n",
       "cluster                                                           \n",
       "0.0             9510         9510          9510            9510   \n",
       "2.0              316          316           316             316   \n",
       "4.0              538          538           538             538   \n",
       "5.0               99           99            99              99   \n",
       "\n",
       "         Is_quarter_end  Is_quarter_start  simulationPrice  brand  \\\n",
       "cluster                                                             \n",
       "0.0                9510              9510             9510   9510   \n",
       "2.0                 316               316              316    316   \n",
       "4.0                 538               538              538    538   \n",
       "5.0                  99                99               99     99   \n",
       "\n",
       "         manufacturer  customerRating  category1  category2  category3  \\\n",
       "cluster                                                                  \n",
       "0.0              9510            9510       9510       9510       9510   \n",
       "2.0               316             316        316        316        316   \n",
       "4.0               538             538        538        538        538   \n",
       "5.0                99              99         99         99         99   \n",
       "\n",
       "         recommendedRetailPrice  \n",
       "cluster                          \n",
       "0.0                        9510  \n",
       "2.0                         316  \n",
       "4.0                         538  \n",
       "5.0                          99  "
      ]
     },
     "execution_count": 115,
     "metadata": {},
     "output_type": "execute_result"
    }
   ],
   "source": [
    "test_aggregated_w.groupby(\"cluster\").count()"
   ]
  },
  {
   "cell_type": "code",
   "execution_count": 116,
   "metadata": {},
   "outputs": [
    {
     "data": {
      "text/plain": [
       "10463"
      ]
     },
     "execution_count": 116,
     "metadata": {},
     "output_type": "execute_result"
    }
   ],
   "source": [
    "len(test_aggregated_w.itemID.unique())"
   ]
  },
  {
   "cell_type": "code",
   "execution_count": 117,
   "metadata": {},
   "outputs": [
    {
     "name": "stdout",
     "output_type": "stream",
     "text": [
      "Fitting 3 folds for each of 100 candidates, totalling 300 fits\n"
     ]
    },
    {
     "name": "stderr",
     "output_type": "stream",
     "text": [
      "[Parallel(n_jobs=-1)]: Using backend LokyBackend with 8 concurrent workers.\n",
      "[Parallel(n_jobs=-1)]: Done  25 tasks      | elapsed:   12.7s\n",
      "[Parallel(n_jobs=-1)]: Done 146 tasks      | elapsed:   31.5s\n",
      "[Parallel(n_jobs=-1)]: Done 300 out of 300 | elapsed:   55.3s finished\n"
     ]
    },
    {
     "name": "stdout",
     "output_type": "stream",
     "text": [
      "Fitting 3 folds for each of 100 candidates, totalling 300 fits\n"
     ]
    },
    {
     "name": "stderr",
     "output_type": "stream",
     "text": [
      "[Parallel(n_jobs=-1)]: Using backend LokyBackend with 8 concurrent workers.\n",
      "[Parallel(n_jobs=-1)]: Done  25 tasks      | elapsed:    3.3s\n",
      "[Parallel(n_jobs=-1)]: Done 146 tasks      | elapsed:   12.6s\n",
      "[Parallel(n_jobs=-1)]: Done 300 out of 300 | elapsed:   24.6s finished\n"
     ]
    },
    {
     "name": "stdout",
     "output_type": "stream",
     "text": [
      "Fitting 3 folds for each of 100 candidates, totalling 300 fits\n"
     ]
    },
    {
     "name": "stderr",
     "output_type": "stream",
     "text": [
      "[Parallel(n_jobs=-1)]: Using backend LokyBackend with 8 concurrent workers.\n",
      "[Parallel(n_jobs=-1)]: Done  25 tasks      | elapsed:    3.4s\n",
      "[Parallel(n_jobs=-1)]: Done 146 tasks      | elapsed:   12.9s\n",
      "[Parallel(n_jobs=-1)]: Done 300 out of 300 | elapsed:   25.5s finished\n"
     ]
    }
   ],
   "source": [
    "y_randomforest = dict()\n",
    "for cluster in train_aggregated_w.cluster.unique():\n",
    "    rf = RandomForestRegressor(**get_best_settings('small', \n",
    "                                                   train_aggregated_w[train_aggregated_w.cluster == cluster])).fit(train_aggregated_w[train_aggregated_w.cluster == cluster].drop(['count', 'itemID',\"WeekGroup\"], axis=1), \n",
    "                                                                  train_aggregated_w[train_aggregated_w.cluster == cluster][\"count\"])\n",
    "    \n",
    "    for prod in test_aggregated_w[test_aggregated_w.cluster == cluster].itemID.unique():\n",
    "#         train_predict = pd.DataFrame(pd.DataFrame(rf.predict(test_aggregated_w[test_aggregated_w.itemID == prod].drop(['count', 'itemID',\"WeekGroup\"], \n",
    "#                                                                                                                                            axis=1)))).rename(columns={0:'predicted_count'}) \n",
    "        if prod in test_aggregated_w[\"itemID\"]:\n",
    "            train_predict = pd.DataFrame(scaler.inverse_transform(pd.DataFrame(rf.predict(test_aggregated_w[test_aggregated_w.itemID == prod].drop(['count', 'itemID',\"WeekGroup\"], \n",
    "                                                                                                                                               axis=1))))).rename(columns={0:'predicted_count'}) \n",
    "        # rescale\n",
    "    #     scaler.inverse_transform\n",
    "            y_randomforest[prod] = int(train_predict[\"predicted_count\"].sum().round())\n",
    "        else:\n",
    "            y_randomforest[prod] = 0\n",
    "        train_predict[\"actual_count\"] = test[test.itemID == prod][\"order\"].sum() if len(test[test.itemID == prod]) > 0 else 0\n",
    "\n"
   ]
  },
  {
   "cell_type": "code",
   "execution_count": 118,
   "metadata": {},
   "outputs": [
    {
     "name": "stdout",
     "output_type": "stream",
     "text": [
      "Perfect Result: 7895975.87\n",
      "Baseline 1: -3727365.60\n",
      "Baseline 2: -1672504.21\n",
      "Random Forest: -455423.44\n"
     ]
    }
   ],
   "source": [
    "# perfect result\n",
    "print(f'Perfect Result: {evaluate_result(y, y):.2f}')\n",
    "\n",
    "# baseline 1\n",
    "print(f'Baseline 1: {evaluate_result(y, y_baseline1):.2f}')\n",
    "\n",
    "# baseline 2\n",
    "print(f'Baseline 2: {evaluate_result(y, y_baseline2):.2f}')\n",
    "\n",
    "# random forest\n",
    "print(f'Random Forest: {evaluate_result(y, y_randomforest):.2f}')\n",
    "# -390900.26"
   ]
  },
  {
   "cell_type": "markdown",
   "metadata": {},
   "source": [
    "# For which items did the RF perform well?"
   ]
  },
  {
   "cell_type": "code",
   "execution_count": 119,
   "metadata": {},
   "outputs": [
    {
     "data": {
      "text/plain": [
       "953"
      ]
     },
     "execution_count": 119,
     "metadata": {},
     "output_type": "execute_result"
    }
   ],
   "source": [
    "df_result = pd.DataFrame.from_dict(y_randomforest, orient='index')\n",
    "len(df_result)\n",
    "# df_result"
   ]
  },
  {
   "cell_type": "code",
   "execution_count": 120,
   "metadata": {},
   "outputs": [],
   "source": [
    "for index, row in df_result.iterrows():\n",
    "    df_result.loc[index, \"cluster\"] = test_aggregated_w[test_aggregated_w.itemID == index][\"cluster\"].iloc[0]\n",
    "    df_result.loc[index, 'actual'] = y[index]\n",
    "    df_result.loc[index, 'diff'] = abs(y[index] - row[0])\n",
    "    df_result.loc[index, 'diff_perc'] = ((abs(row[0]-y[index])/((row[0]+y[index])/2))*100).round()"
   ]
  },
  {
   "cell_type": "code",
   "execution_count": 131,
   "metadata": {},
   "outputs": [
    {
     "data": {
      "text/plain": [
       "diff\n",
       "(1, 5]            19\n",
       "(5, 10]           85\n",
       "(10, 15]          62\n",
       "(15, 25]         143\n",
       "(25, 50]         245\n",
       "(50, 75]          80\n",
       "(75, 100]         80\n",
       "(100, 150]        99\n",
       "(150, 200]        55\n",
       "(200, 500]        64\n",
       "(500, 1000]       12\n",
       "(1000, 10000]      5\n",
       "Name: 0, dtype: int64"
      ]
     },
     "metadata": {},
     "output_type": "display_data"
    },
    {
     "data": {
      "text/plain": [
       "diff_perc\n",
       "(1, 5]             3\n",
       "(5, 10]            4\n",
       "(10, 15]           2\n",
       "(15, 25]           6\n",
       "(25, 50]          38\n",
       "(50, 75]          35\n",
       "(75, 100]         37\n",
       "(100, 150]       108\n",
       "(150, 200]       719\n",
       "(200, 500]         0\n",
       "(500, 1000]        0\n",
       "(1000, 10000]      0\n",
       "Name: 0, dtype: int64"
      ]
     },
     "metadata": {},
     "output_type": "display_data"
    },
    {
     "data": {
      "text/plain": [
       "diff           cluster\n",
       "(1, 5]         2.0         17\n",
       "               4.0          2\n",
       "               5.0          0\n",
       "(5, 10]        2.0         79\n",
       "               4.0          6\n",
       "               5.0          0\n",
       "(10, 15]       2.0         52\n",
       "               4.0         10\n",
       "               5.0          0\n",
       "(15, 25]       2.0         75\n",
       "               4.0         67\n",
       "               5.0          1\n",
       "(25, 50]       2.0         61\n",
       "               4.0        183\n",
       "               5.0          1\n",
       "(50, 75]       2.0          9\n",
       "               4.0         70\n",
       "               5.0          1\n",
       "(75, 100]      2.0         11\n",
       "               4.0         66\n",
       "               5.0          3\n",
       "(100, 150]     2.0          1\n",
       "               4.0         89\n",
       "               5.0          9\n",
       "(150, 200]     2.0          4\n",
       "               4.0         19\n",
       "               5.0         32\n",
       "(200, 500]     2.0          5\n",
       "               4.0         16\n",
       "               5.0         43\n",
       "(500, 1000]    2.0          0\n",
       "               4.0          5\n",
       "               5.0          7\n",
       "(1000, 10000]  2.0          1\n",
       "               4.0          2\n",
       "               5.0          2\n",
       "Name: 0, dtype: int64"
      ]
     },
     "execution_count": 131,
     "metadata": {},
     "output_type": "execute_result"
    }
   ],
   "source": [
    "bins = [1, 5, 10, 15, 25, 50, 75, 100, 150, 200, 500, 1000, 10000]\n",
    "display(df_result.groupby([ pd.cut(df_result['diff'], bins)])[0].count())\n",
    "display(df_result.groupby([ pd.cut(df_result['diff_perc'], bins)])[0].count())\n",
    "df_result.groupby([ pd.cut(df_result['diff'], bins),\"cluster\"])[0].count()\n",
    "# with pd.option_context('display.max_rows', None, 'display.max_columns', None):  # more options can be specified also\n",
    "#     display(df_result.groupby(\"diff_perc\").count()[[0]])"
   ]
  },
  {
   "cell_type": "code",
   "execution_count": 129,
   "metadata": {},
   "outputs": [
    {
     "data": {
      "text/plain": [
       "diff_perc      cluster\n",
       "(1, 5]         2.0          0\n",
       "               4.0          3\n",
       "               5.0          0\n",
       "(5, 10]        2.0          2\n",
       "               4.0          1\n",
       "               5.0          1\n",
       "(10, 15]       2.0          1\n",
       "               4.0          1\n",
       "               5.0          0\n",
       "(15, 25]       2.0          1\n",
       "               4.0          4\n",
       "               5.0          1\n",
       "(25, 50]       2.0         19\n",
       "               4.0         13\n",
       "               5.0          6\n",
       "(50, 75]       2.0          7\n",
       "               4.0         18\n",
       "               5.0         10\n",
       "(75, 100]      2.0         14\n",
       "               4.0         20\n",
       "               5.0          3\n",
       "(100, 150]     2.0         38\n",
       "               4.0         58\n",
       "               5.0         12\n",
       "(150, 200]     2.0        234\n",
       "               4.0        419\n",
       "               5.0         66\n",
       "(200, 500]     2.0          0\n",
       "               4.0          0\n",
       "               5.0          0\n",
       "(500, 1000]    2.0          0\n",
       "               4.0          0\n",
       "               5.0          0\n",
       "(1000, 10000]  2.0          0\n",
       "               4.0          0\n",
       "               5.0          0\n",
       "Name: 0, dtype: int64"
      ]
     },
     "execution_count": 129,
     "metadata": {},
     "output_type": "execute_result"
    }
   ],
   "source": [
    "df_result.groupby([ pd.cut(df_result['diff_perc'], bins),\"cluster\"])[0].count()"
   ]
  },
  {
   "cell_type": "code",
   "execution_count": 123,
   "metadata": {},
   "outputs": [],
   "source": [
    "test_aggregated_w.to_csv('lag_agg_testdata.csv', index = False)\n",
    "train_aggregated_w.to_csv('lag_agg_traindata.csv', index = False)"
   ]
  },
  {
   "cell_type": "code",
   "execution_count": 132,
   "metadata": {},
   "outputs": [],
   "source": [
    "import os\n",
    "# delete file before we can store it \n",
    "os.remove(\"abraca-data.csv\")\n",
    "# store results\n",
    "pd.DataFrame(y_randomforest.items()).rename(columns={0:'itemID', 1:\"demandPrediction\"}).to_csv('abraca-data.csv',index=False, sep='|')"
   ]
  }
 ],
 "metadata": {
  "kernelspec": {
   "display_name": "Python 3",
   "language": "python",
   "name": "python3"
  },
  "language_info": {
   "codemirror_mode": {
    "name": "ipython",
    "version": 3
   },
   "file_extension": ".py",
   "mimetype": "text/x-python",
   "name": "python",
   "nbconvert_exporter": "python",
   "pygments_lexer": "ipython3",
   "version": "3.7.6"
  }
 },
 "nbformat": 4,
 "nbformat_minor": 4
}
